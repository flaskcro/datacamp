{
 "cells": [
  {
   "cell_type": "markdown",
   "metadata": {},
   "source": [
    "# 3. Making Model Predictions"
   ]
  },
  {
   "cell_type": "markdown",
   "metadata": {},
   "source": [
    "## Linear Model in Anthropology"
   ]
  },
  {
   "cell_type": "markdown",
   "metadata": {},
   "source": [
    "If you found part of a skeleton, from an adult human that lived thousands of years ago, how could you estimate the height of the person that it came from? This exercise is in part inspired by the work of forensic anthropologist Mildred Trotter, who built a regression model for the calculation of stature estimates from human \"long bones\" or femurs that is commonly used today.\n",
    "\n",
    "In this exercise, you'll use data from many living people, and the python library scikit-learn, to build a linear model relating the length of the femur (thigh bone) to the \"stature\" (overall height) of the person. Then, you'll apply your model to make a prediction about the height of your ancient ancestor."
   ]
  },
  {
   "cell_type": "markdown",
   "metadata": {},
   "source": [
    "![](https://assets.datacamp.com/production/repositories/1480/datasets/24c5103a89f299f1518d5ca969a56211fca37857/ch02_ex14_fig01.png)"
   ]
  },
  {
   "cell_type": "code",
   "execution_count": 2,
   "metadata": {},
   "outputs": [],
   "source": [
    "import numpy as np\n",
    "legs = np.array([[ 35. ],\n",
    "       [ 36.5],\n",
    "       [ 38. ],\n",
    "       [ 39.5],\n",
    "       [ 41. ],\n",
    "       [ 42.5],\n",
    "       [ 44. ],\n",
    "       [ 45.5],\n",
    "       [ 47. ],\n",
    "       [ 48.5],\n",
    "       [ 50. ],\n",
    "       [ 51.5],\n",
    "       [ 53. ],\n",
    "       [ 54.5],\n",
    "       [ 56. ],\n",
    "       [ 57.5],\n",
    "       [ 59. ],\n",
    "       [ 60.5],\n",
    "       [ 62. ],\n",
    "       [ 63.5],\n",
    "       [ 65. ]])\n",
    "\n",
    "heights = np.array([[ 145.75166215],\n",
    "       [ 154.81989548],\n",
    "       [ 147.45149903],\n",
    "       [ 154.53270424],\n",
    "       [ 166.17450311],\n",
    "       [ 171.45325818],\n",
    "       [ 149.44608871],\n",
    "       [ 164.73275841],\n",
    "       [ 168.82025028],\n",
    "       [ 171.32607675],\n",
    "       [ 182.07638078],\n",
    "       [ 188.37513159],\n",
    "       [ 188.08738789],\n",
    "       [ 196.95181717],\n",
    "       [ 192.85162151],\n",
    "       [ 201.60765816],\n",
    "       [ 210.66135402],\n",
    "       [ 202.06143758],\n",
    "       [ 215.72224422],\n",
    "       [ 207.04958807],\n",
    "       [ 215.8394592 ]])"
   ]
  },
  {
   "cell_type": "code",
   "execution_count": 3,
   "metadata": {},
   "outputs": [
    {
     "name": "stdout",
     "output_type": "stream",
     "text": [
      "Predicted fossil height = 181.34 cm\n"
     ]
    }
   ],
   "source": [
    "# import the sklearn class LinearRegression and initialize the model\n",
    "from sklearn.linear_model import LinearRegression\n",
    "model = LinearRegression(fit_intercept=False)\n",
    "\n",
    "# Prepare the measured data arrays and fit the model to them\n",
    "legs = legs.reshape(len(legs),1)\n",
    "heights = heights.reshape(len(heights),1)\n",
    "model.fit(legs, heights)\n",
    "\n",
    "# Use the fitted model to make a prediction for the found femur\n",
    "fossil_leg = 50.7\n",
    "fossil_height = model.predict(fossil_leg)\n",
    "print(\"Predicted fossil height = {:0.2f} cm\".format(fossil_height[0,0]))"
   ]
  },
  {
   "cell_type": "markdown",
   "metadata": {},
   "source": [
    "## Linear Model in Oceanography"
   ]
  },
  {
   "cell_type": "markdown",
   "metadata": {},
   "source": [
    "Time-series data provides a context in which the \"slope\" of the linear model represents a \"rate-of-change\".\n",
    "\n",
    "In this exercise, you will use measurements of sea level change from 1970 to 2010, build a linear model of that changing sea level and use it to make a prediction about the future sea level rise."
   ]
  },
  {
   "cell_type": "markdown",
   "metadata": {},
   "source": [
    "![](https://assets.datacamp.com/production/repositories/1480/datasets/f225423a51edaca69ffe8383a8994063c3eb098b/ch02_ex15_fig01.png)"
   ]
  },
  {
   "cell_type": "code",
   "execution_count": 4,
   "metadata": {},
   "outputs": [],
   "source": [
    "years = np.array(range(1970,2014))\n",
    "years = years.reshape(years.size, 1)"
   ]
  },
  {
   "cell_type": "code",
   "execution_count": 5,
   "metadata": {},
   "outputs": [],
   "source": [
    "levels = np.array([[ 4.67716535],\n",
    "       [ 4.88188976],\n",
    "       [ 5.24015748],\n",
    "       [ 5.003937  ],\n",
    "       [ 5.47244094],\n",
    "       [ 5.40944881],\n",
    "       [ 5.37007873],\n",
    "       [ 5.3031496 ],\n",
    "       [ 5.55511811],\n",
    "       [ 5.36220472],\n",
    "       [ 5.59842519],\n",
    "       [ 6.08661417],\n",
    "       [ 5.85826771],\n",
    "       [ 6.18897637],\n",
    "       [ 6.1535433 ],\n",
    "       [ 5.74803149],\n",
    "       [ 5.77165354],\n",
    "       [ 5.79527558],\n",
    "       [ 5.98031495],\n",
    "       [ 6.15748031],\n",
    "       [ 6.23228346],\n",
    "       [ 6.33464566],\n",
    "       [ 6.35826771],\n",
    "       [ 6.29133858],\n",
    "       [ 6.49999999],\n",
    "       [ 6.61811023],\n",
    "       [ 6.78740157],\n",
    "       [ 7.06692913],\n",
    "       [ 6.66535432],\n",
    "       [ 7.01181102],\n",
    "       [ 7.06299212],\n",
    "       [ 7.28740157],\n",
    "       [ 7.38188976],\n",
    "       [ 7.75984251],\n",
    "       [ 7.74015747],\n",
    "       [ 7.74409448],\n",
    "       [ 7.91732283],\n",
    "       [ 7.99606298],\n",
    "       [ 8.35039369],\n",
    "       [ 8.58661416],\n",
    "       [ 8.90157479],\n",
    "       [ 8.96456692],\n",
    "       [ 9.32677164],\n",
    "       [ 8.98031495]])"
   ]
  },
  {
   "cell_type": "code",
   "execution_count": 8,
   "metadata": {},
   "outputs": [],
   "source": [
    "from matplotlib import pyplot as plt\n",
    "def plot_data_and_forecast(x, y, x_pred, y_pred):\n",
    "    plt.plot(x,y, color='black', marker='o')\n",
    "    plt.plot(x_pred, y_pred, color='red')\n",
    "    plt.xlabel(\"Time(years)\")\n",
    "    plt.ylabel(\"Sea Level Change (inches)\")\n",
    "    plt.title(\"Global Average Sea Level Change\")\n",
    "    plt.grid(True)\n",
    "    plt.legend(['Data','Forecast'])"
   ]
  },
  {
   "cell_type": "code",
   "execution_count": 9,
   "metadata": {},
   "outputs": [
    {
     "name": "stdout",
     "output_type": "stream",
     "text": [
      "Prediction: year = 2100, level = 16.66\n"
     ]
    },
    {
     "data": {
      "image/png": "[encoded data removed]",
      "text/plain": [
       "<Figure size 432x288 with 1 Axes>"
      ]
     },
     "metadata": {},
     "output_type": "display_data"
    }
   ],
   "source": [
    "# Import LinearRegression class, build a model, fit to the data\n",
    "from sklearn.linear_model import LinearRegression\n",
    "model = LinearRegression(fit_intercept=True)\n",
    "model.fit(years, levels)\n",
    "\n",
    "# Use model to make a prediction for one year, 2100\n",
    "future_year = 2100\n",
    "future_level = model.predict(future_year)\n",
    "print(\"Prediction: year = {}, level = {:.02f}\".format(future_year, future_level[0,0]))\n",
    "\n",
    "# Use model to predict for many years, and over-plot with measured data\n",
    "years_forecast = np.linspace(1970, 2100, 131).reshape(-1, 1)\n",
    "levels_forecast = model.predict(years_forecast)\n",
    "fig = plot_data_and_forecast(years, levels, years_forecast, levels_forecast)"
   ]
  },
  {
   "cell_type": "markdown",
   "metadata": {},
   "source": [
    "## Linear Model in Cosmology"
   ]
  },
  {
   "cell_type": "markdown",
   "metadata": {},
   "source": [
    "Less than 100 years ago, the universe appeared to be composed of a single static galaxy, containing perhaps a million stars. Today we have observations of hundreds of billions of galaxies, each with hundreds of billions of stars, all moving.\n",
    "\n",
    "The beginnings of the modern physical science of cosmology came with the publication in 1929 by Edwin Hubble that included use of a linear model.\n",
    "\n",
    "In this exercise, you will build a model whose slope will give Hubble's Constant, which describes the velocity of galaxies as a linear function of distance from Earth."
   ]
  },
  {
   "cell_type": "markdown",
   "metadata": {},
   "source": [
    "![](http://www.pnas.org/content/15/3/168/F2.medium.gif)"
   ]
  },
  {
   "cell_type": "code",
   "execution_count": 11,
   "metadata": {},
   "outputs": [
    {
     "data": {
      "text/html": [
       "<div>\n",
       "<style scoped>\n",
       "    .dataframe tbody tr th:only-of-type {\n",
       "        vertical-align: middle;\n",
       "    }\n",
       "\n",
       "    .dataframe tbody tr th {\n",
       "        vertical-align: top;\n",
       "    }\n",
       "\n",
       "    .dataframe thead th {\n",
       "        text-align: right;\n",
       "    }\n",
       "</style>\n",
       "<table border=\"1\" class=\"dataframe\">\n",
       "  <thead>\n",
       "    <tr style=\"text-align: right;\">\n",
       "      <th></th>\n",
       "      <th>names</th>\n",
       "      <th>distances</th>\n",
       "      <th>velocities</th>\n",
       "    </tr>\n",
       "  </thead>\n",
       "  <tbody>\n",
       "    <tr>\n",
       "      <th>0</th>\n",
       "      <td>SMC</td>\n",
       "      <td>0.032</td>\n",
       "      <td>170</td>\n",
       "    </tr>\n",
       "    <tr>\n",
       "      <th>1</th>\n",
       "      <td>LMC</td>\n",
       "      <td>0.034</td>\n",
       "      <td>290</td>\n",
       "    </tr>\n",
       "    <tr>\n",
       "      <th>2</th>\n",
       "      <td>NGC-221</td>\n",
       "      <td>0.275</td>\n",
       "      <td>-185</td>\n",
       "    </tr>\n",
       "    <tr>\n",
       "      <th>3</th>\n",
       "      <td>NGC-224</td>\n",
       "      <td>0.275</td>\n",
       "      <td>-220</td>\n",
       "    </tr>\n",
       "    <tr>\n",
       "      <th>4</th>\n",
       "      <td>NGC-598</td>\n",
       "      <td>0.263</td>\n",
       "      <td>-70</td>\n",
       "    </tr>\n",
       "  </tbody>\n",
       "</table>\n",
       "</div>"
      ],
      "text/plain": [
       "     names  distances  velocities\n",
       "0      SMC      0.032         170\n",
       "1      LMC      0.034         290\n",
       "2  NGC-221      0.275        -185\n",
       "3  NGC-224      0.275        -220\n",
       "4  NGC-598      0.263         -70"
      ]
     },
     "execution_count": 11,
     "metadata": {},
     "output_type": "execute_result"
    }
   ],
   "source": [
    "import pandas as pd\n",
    "df = pd.read_csv('./data/hubble_data.csv')\n",
    "df.head()"
   ]
  },
  {
   "cell_type": "code",
   "execution_count": 13,
   "metadata": {},
   "outputs": [
    {
     "name": "stdout",
     "output_type": "stream",
     "text": [
      "For slope a1=454.16, the uncertainty in a1 is 75.24\n",
      "For intercept a0=-40.78, the uncertainty in a0 is 83.44\n"
     ]
    }
   ],
   "source": [
    "from statsmodels.formula.api import ols\n",
    "# Fit the model, based on the form of the formula\n",
    "model_fit = ols(formula=\"velocities ~ distances\", data=df).fit()\n",
    "\n",
    "# Extract the model parameters and associated \"errors\" or uncertainties\n",
    "a0 = model_fit.params['Intercept']\n",
    "a1 = model_fit.params['distances']\n",
    "e0 = model_fit.bse['Intercept']\n",
    "e1 = model_fit.bse['distances']\n",
    "\n",
    "# Print the results\n",
    "print('For slope a1={:.02f}, the uncertainty in a1 is {:.02f}'.format(a1, e1))\n",
    "print('For intercept a0={:.02f}, the uncertainty in a0 is {:.02f}'.format(a0, e0))"
   ]
  },
  {
   "cell_type": "code",
   "execution_count": 52,
   "metadata": {},
   "outputs": [],
   "source": [
    "with open('./data/monthly.pkl',\"rb\") as f:\n",
    "    df_monthly = pickle.load(f)\n",
    "    \n",
    "with open('./data/daily.pkl',\"rb\") as f:\n",
    "    df_daily = pickle.load(f)"
   ]
  },
  {
   "cell_type": "code",
   "execution_count": 53,
   "metadata": {},
   "outputs": [],
   "source": [
    "def plot_model_with_data(df):\n",
    "    plt.plot(df.DayCount, df.Close, marker='o', linestyle='')\n",
    "    plt.plot(df.DayCount, df['Model'] )\n",
    "    plt.legend(['Data', 'Model'])\n",
    "    plt.ylabel('DJIA')\n",
    "    plt.xlabel('Date')"
   ]
  },
  {
   "cell_type": "code",
   "execution_count": 54,
   "metadata": {},
   "outputs": [
    {
     "data": {
      "image/png": "[encoded data removed]",
      "text/plain": [
       "<Figure size 432x288 with 1 Axes>"
      ]
     },
     "metadata": {},
     "output_type": "display_data"
    }
   ],
   "source": [
    "# build and fit a model to the df_monthly data\n",
    "model_fit = ols('Close ~ DayCount', data=df_monthly).fit()\n",
    "\n",
    "# Use the model FIT to the MONTHLY data to make a predictions for both monthly and daily data\n",
    "df_monthly['Model'] = model_fit.predict(df_monthly.DayCount)\n",
    "df_daily['Model'] = model_fit.predict(df_daily.DayCount)\n",
    "\n",
    "# Plot the monthly and daily data and model, compare the RSS values seen on the figures\n",
    "fig_monthly = plot_model_with_data(df_monthly)"
   ]
  },
  {
   "cell_type": "code",
   "execution_count": 55,
   "metadata": {},
   "outputs": [
    {
     "data": {
      "image/png": "[encoded data removed]",
      "text/plain": [
       "<Figure size 432x288 with 1 Axes>"
      ]
     },
     "metadata": {},
     "output_type": "display_data"
    }
   ],
   "source": [
    "fig_daily = plot_model_with_data(df_daily)"
   ]
  },
  {
   "cell_type": "markdown",
   "metadata": {},
   "source": [
    "## Extrapolation: Going Over the Edge"
   ]
  },
  {
   "cell_type": "markdown",
   "metadata": {},
   "source": [
    "In this exercise, we consider the perils of extrapolation. Shown here is the profile of a hiking trail on a mountain. One portion of the trail, marked in black, looks linear, and was used to build a model. But we see that the best fit line, shown in red, does not fit outside the original \"domain\", as it extends into this new outside data, marked in blue.\n",
    "\n",
    "If we want use the model to make predictions for the altitude, but still be accurate to within some tolerance, what are the smallest and largest values of independent variable x that we can allow ourselves to apply the model to?\"\n",
    "\n",
    "Here, use the preloaded x_data, y_data, y_model, and plot_data_model_tolerance() to complete your solution."
   ]
  },
  {
   "cell_type": "markdown",
   "metadata": {},
   "source": [
    "![](https://assets.datacamp.com/production/repositories/1480/datasets/6307576adc9dde93c10422e742c33d865f9fbc72/ch03_ex07_fig01.png)"
   ]
  },
  {
   "cell_type": "code",
   "execution_count": 57,
   "metadata": {},
   "outputs": [],
   "source": [
    "y_data = np.array([  73.33885174,   91.52854842,   41.87555998,  103.06980499,\n",
    "         77.57108039,   99.70512917,  106.70722978,  128.26034956,\n",
    "        117.88171452,  136.65021987,   82.60474807,   86.82566796,\n",
    "        122.477045  ,  114.41893877,  127.63451229,  143.2255083 ,\n",
    "        136.61217437,  154.76845765,  182.39147012,  122.51909166,\n",
    "        161.78587909,  132.72560763,  210.81767421,  179.6837026 ,\n",
    "        181.98528167,  234.67907351,  246.48971034,  221.58691239,\n",
    "        250.3924093 ,  206.43287615,  303.75089312,  312.29865056,\n",
    "        323.8331032 ,  261.9686295 ,  316.64806585,  337.55295912,\n",
    "        360.13633529,  369.72729852,  408.0289548 ,  348.82736117,\n",
    "        394.93384188,  366.03460828,  374.7693763 ,  371.26981466,\n",
    "        377.88763074,  320.70120977,  336.82269401,  262.00816122,\n",
    "        290.35612838,  308.90807157,  259.98783618,  265.86978322,\n",
    "        271.12330621,  258.58229827,  241.52677418,  204.38155251,\n",
    "        198.05166573,  174.36397174,  190.97570971,  217.20785477,\n",
    "        146.83883158])\n",
    "\n",
    "y_model = np.array([-100. ,  -87.5,  -75. ,  -62.5,  -50. ,  -37.5,  -25. ,  -12.5,\n",
    "          0. ,   12.5,   25. ,   37.5,   50. ,   62.5,   75. ,   87.5,\n",
    "        100. ,  112.5,  125. ,  137.5,  150. ,  162.5,  175. ,  187.5,\n",
    "        200. ,  212.5,  225. ,  237.5,  250. ,  262.5,  275. ,  287.5,\n",
    "        300. ,  312.5,  325. ,  337.5,  350. ,  362.5,  375. ,  387.5,\n",
    "        400. ,  412.5,  425. ,  437.5,  450. ,  462.5,  475. ,  487.5,\n",
    "        500. ,  512.5,  525. ,  537.5,  550. ,  562.5,  575. ,  587.5,\n",
    "        600. ,  612.5,  625. ,  637.5,  650. ])\n",
    "\n",
    "x_data = np.array([-10. ,  -9.5,  -9. ,  -8.5,  -8. ,  -7.5,  -7. ,  -6.5,  -6. ,\n",
    "        -5.5,  -5. ,  -4.5,  -4. ,  -3.5,  -3. ,  -2.5,  -2. ,  -1.5,\n",
    "        -1. ,  -0.5,   0. ,   0.5,   1. ,   1.5,   2. ,   2.5,   3. ,\n",
    "         3.5,   4. ,   4.5,   5. ,   5.5,   6. ,   6.5,   7. ,   7.5,\n",
    "         8. ,   8.5,   9. ,   9.5,  10. ,  10.5,  11. ,  11.5,  12. ,\n",
    "        12.5,  13. ,  13.5,  14. ,  14.5,  15. ,  15.5,  16. ,  16.5,\n",
    "        17. ,  17.5,  18. ,  18.5,  19. ,  19.5,  20. ])"
   ]
  },
  {
   "cell_type": "code",
   "execution_count": 72,
   "metadata": {},
   "outputs": [],
   "source": [
    "def plot_data_model_tolerance(x_data, y_data, y_model, tolerance):    \n",
    "    residuals = np.abs(y_model - y_data)\n",
    "    x_good = x_data[residuals < tolerance]\n",
    "    y_good = y_model[residuals < tolerance]\n",
    "    x_min = np.min( x_good )\n",
    "    x_max = np.max( x_good )\n",
    "    fig, axis = plt.subplots(figsize=(8,6))\n",
    "    x = x_data\n",
    "    y = y_data\n",
    "    axis.plot(x[(x>=0) & (x<=10)], y[(x>=0) & (x<=10)], color=\"black\", linestyle=\" \", marker=\"o\")\n",
    "    axis.plot(x[x>10], y[x>10], color=\"blue\", linestyle=\" \", marker=\"o\")\n",
    "    axis.plot(x[x<0], y[x<0], color=\"blue\", linestyle=\" \", marker=\"o\")\n",
    "    axis.plot(x_data, y_model, color=\"red\")\n",
    "    axis.grid(True, which=\"both\")\n",
    "    axis.axhline(0, color=\"black\")\n",
    "    axis.axvline(0, color=\"black\")\n",
    "    axis.set_ylim([-5*50, 15*50])\n",
    "    axis.set_xlim([-15, 25])\n",
    "    axis.set_ylabel('Altitude (meters)')\n",
    "    axis.set_xlabel('Step Distance (Kilometers)')\n",
    "    axis.set_title(\"Hiking  Trip\")\n",
    "    style_options = dict(color=\"green\", alpha=0.35, linewidth=8)\n",
    "    line = axis.plot(x_good, y_good, **style_options)\n",
    "    plt.show()\n",
    "    return fig"
   ]
  },
  {
   "cell_type": "code",
   "execution_count": 74,
   "metadata": {},
   "outputs": [
    {
     "name": "stdout",
     "output_type": "stream",
     "text": [
      "Minimum good x value = -5.0\n",
      "Maximum good x value = 12.0\n"
     ]
    },
    {
     "data": {
      "image/png": "[encoded data removed]",
      "text/plain": [
       "<Figure size 576x432 with 1 Axes>"
      ]
     },
     "metadata": {},
     "output_type": "display_data"
    }
   ],
   "source": [
    "# Compute the residuals, \"data - model\", and determine where [residuals < tolerance]\n",
    "residuals = np.abs(y_model  - y_data)\n",
    "tolerance = 100\n",
    "x_good = x_data[residuals < tolerance]\n",
    "\n",
    "# Find the min and max of the \"good\" values, and plot y_data, y_model, and the tolerance range\n",
    "print('Minimum good x value = {}'.format(np.min(x_good)))\n",
    "print('Maximum good x value = {}'.format(np.max(x_good)))\n",
    "fig = plot_data_model_tolerance(x_data, y_data, y_model, tolerance)"
   ]
  },
  {
   "cell_type": "markdown",
   "metadata": {},
   "source": [
    "## RMSE Step-by-step"
   ]
  },
  {
   "cell_type": "markdown",
   "metadata": {},
   "source": [
    "In this exercise, you will quantify the over-all model \"goodness-of-fit\" of a pre-built model, by computing one of the most common quantitative measures of model quality, the RMSE, step-by-step.\n",
    "\n",
    "Start with the pre-loaded data x_data and y_data, and use it with a predefined modeling function model_fit_and_predict()."
   ]
  },
  {
   "cell_type": "markdown",
   "metadata": {},
   "source": [
    "![](https://assets.datacamp.com/production/repositories/1480/datasets/d30dad2a3e5c1af4cfd0b123cfa7da69749d30b0/ch03_ex10_fig01.png)"
   ]
  },
  {
   "cell_type": "code",
   "execution_count": 115,
   "metadata": {},
   "outputs": [],
   "source": [
    "x_data = np.array([  0. ,   0.5,   1. ,   1.5,   2. ,   2.5,   3. ,   3.5,   4. ,\n",
    "         4.5,   5. ,   5.5,   6. ,   6.5,   7. ,   7.5,   8. ,   8.5,\n",
    "         9. ,   9.5,  10. ]).reshape(21,1)\n",
    "\n",
    "\n",
    "y_data = np.array([ 161.78587909,  132.72560763,  210.81767421,  179.6837026 ,\n",
    "        181.98528167,  234.67907351,  246.48971034,  221.58691239,\n",
    "        250.3924093 ,  206.43287615,  303.75089312,  312.29865056,\n",
    "        323.8331032 ,  261.9686295 ,  316.64806585,  337.55295912,\n",
    "        360.13633529,  369.72729852,  408.0289548 ,  348.82736117,\n",
    "        394.93384188]).reshape(21,1)"
   ]
  },
  {
   "cell_type": "code",
   "execution_count": 116,
   "metadata": {},
   "outputs": [],
   "source": [
    "from sklearn.linear_model import LinearRegression\n",
    "def model_fit_and_predict(x_data, y_data):    \n",
    "    model = LinearRegression()\n",
    "    model.fit(x_data, y_data)\n",
    "    return model.predict(x_data)"
   ]
  },
  {
   "cell_type": "code",
   "execution_count": 117,
   "metadata": {},
   "outputs": [
    {
     "name": "stdout",
     "output_type": "stream",
     "text": [
      "RMSE = 26.17, MSE = 685.03, RSS = 14385.60\n"
     ]
    }
   ],
   "source": [
    "# Build the model and compute the residuals \"model - data\"\n",
    "y_model = model_fit_and_predict(x_data, y_data)\n",
    "residuals = y_model - y_data\n",
    "\n",
    "# Compute the RSS, MSE, and RMSE and print the results\n",
    "RSS = np.sum(np.square(residuals))\n",
    "MSE = RSS/len(residuals)\n",
    "RMSE = np.sqrt(MSE)\n",
    "print('RMSE = {:0.2f}, MSE = {:0.2f}, RSS = {:0.2f}'.format(RMSE, MSE, RSS))"
   ]
  },
  {
   "cell_type": "markdown",
   "metadata": {},
   "source": [
    "## R-Squared"
   ]
  },
  {
   "cell_type": "markdown",
   "metadata": {},
   "source": [
    "In this exercise you'll compute another measure of goodness, R-squared. R-squared is the ratio of the variance of the residuals divided by the variance of the data we are modeling, and in so doing, is a measure of how much of the variance in your data is \"explained\" by your model, as expressed in the spread of the residuals.\n",
    "\n",
    "Here we have pre-loaded the data x_data,y_data and the model predictions y_model for the best fit model; you're goal is to compute the R-squared measure to quantify how much this linear model accounts for variation in the data."
   ]
  },
  {
   "cell_type": "markdown",
   "metadata": {},
   "source": [
    "![](https://assets.datacamp.com/production/repositories/1480/datasets/d30dad2a3e5c1af4cfd0b123cfa7da69749d30b0/ch03_ex10_fig01.png)"
   ]
  },
  {
   "cell_type": "code",
   "execution_count": 120,
   "metadata": {},
   "outputs": [
    {
     "name": "stdout",
     "output_type": "stream",
     "text": [
      "R-squared is 0.89\n"
     ]
    }
   ],
   "source": [
    "# Compute the residuals and the deviations\n",
    "residuals = y_model - y_data\n",
    "deviations = np.mean(y_data) - y_data\n",
    "\n",
    "# Compute the variance of the residuals and deviations\n",
    "var_residuals = np.mean(np.square(residuals))\n",
    "var_deviations = np.mean(np.square(deviations))\n",
    "\n",
    "# Compute r_squared as 1 - the ratio of RSS/Variance\n",
    "r_squared = 1 - (var_residuals / var_deviations)\n",
    "print('R-squared is {:0.2f}'.format(r_squared))"
   ]
  },
  {
   "cell_type": "markdown",
   "metadata": {},
   "source": [
    "## Variation Around the Trend"
   ]
  },
  {
   "cell_type": "markdown",
   "metadata": {},
   "source": [
    "The data need not be perfectly linear, and there may be some random variation or \"spread\" in the measurements, and that does translate into variation of the model parameters. This variation is in the parameter is quantified by \"standard error\", and interpreted as \"uncertainty\" in the estimate of the model parameter.\n",
    "\n",
    "In this exercise, you will use ols from statsmodels to build a model and extract the standard error for each parameter of that model."
   ]
  },
  {
   "cell_type": "markdown",
   "metadata": {},
   "source": [
    "![](https://assets.datacamp.com/production/repositories/1480/datasets/96008939a1bd6ca848acb59b2cc4d45fea356fc7/ch03_ex13_fig01.png)"
   ]
  },
  {
   "cell_type": "code",
   "execution_count": 123,
   "metadata": {},
   "outputs": [],
   "source": [
    "x_data = np.array([ 0.        ,  0.08333333,  0.16666667,  0.25      ,  0.33333333,\n",
    "        0.41666667,  0.5       ,  0.58333333,  0.66666667,  0.75      ,\n",
    "        0.83333333,  0.91666667,  1.        ,  1.08333333,  1.16666667,\n",
    "        1.25      ,  1.33333333,  1.41666667,  1.5       ,  1.58333333,\n",
    "        1.66666667,  1.75      ,  1.83333333,  1.91666667,  2.        ])\n",
    "\n",
    "y_data = np.array([   4.87303609,    2.33139743,    6.74881808,    9.28109413,\n",
    "         19.26288955,   13.92871724,   30.23443529,   26.88304596,\n",
    "         34.29045062,   36.75188887,   46.05299048,   39.6529112 ,\n",
    "         49.03274839,   53.0145036 ,   61.73464166,   59.2003262 ,\n",
    "         66.14938204,   68.19975808,   75.12664124,   80.91511231,\n",
    "         80.0314758 ,   90.93417113,   94.37143883,   97.34081635,\n",
    "        102.70256785])"
   ]
  },
  {
   "cell_type": "code",
   "execution_count": 124,
   "metadata": {},
   "outputs": [
    {
     "name": "stdout",
     "output_type": "stream",
     "text": [
      "Estimate    of the intercept = 0.03\n",
      "Uncertainty of the intercept = 0.02\n",
      "Estimate    of the slope = 0.02\n",
      "Uncertainty of the slope = 0.00\n"
     ]
    }
   ],
   "source": [
    "# Store x_data and y_data, as times and distances, in df, and use ols() to fit a model to it.\n",
    "df = pd.DataFrame(dict(distances=x_data, times=y_data))\n",
    "model_fit = ols(formula=\"distances ~ times\", data=df).fit()\n",
    "\n",
    "# Extact the model parameters and their uncertainties\n",
    "a0 = model_fit.params['Intercept']\n",
    "e0 = model_fit.bse['Intercept']\n",
    "a1 = model_fit.params['times']\n",
    "e1 = model_fit.bse['times']\n",
    "\n",
    "# Print the results with more meaningful names\n",
    "print('Estimate    of the intercept = {:0.2f}'.format(a0))\n",
    "print('Uncertainty of the intercept = {:0.2f}'.format(e0))\n",
    "print('Estimate    of the slope = {:0.2f}'.format(a1))\n",
    "print('Uncertainty of the slope = {:0.2f}'.format(e1))"
   ]
  },
  {
   "cell_type": "markdown",
   "metadata": {},
   "source": [
    "## Variation in Two Parts"
   ]
  },
  {
   "cell_type": "markdown",
   "metadata": {},
   "source": [
    "Given two data sets of distance-versus-time data, one with very small velocity and one with large velocity. Notice that both may have the same standard error of slope, but different R-squared for the model overall, depending on the size of the slope (\"effect size\") as compared to the standard error (\"uncertainty\").\n",
    "\n",
    "If we plot both data sets as scatter plots on the same axes, the contrast is clear. Variation due to the slope is different than variantion due to the random scatter about the trend line. In this exercise, your goal is to compute the standard error and R-squared for two data sets and compare."
   ]
  },
  {
   "cell_type": "markdown",
   "metadata": {},
   "source": [
    "![](https://assets.datacamp.com/production/repositories/1480/datasets/2995eaec3d7e58c0dd64cad4c1f5ec3f30873e49/ch03_ex14_fig01.png)"
   ]
  },
  {
   "cell_type": "code",
   "execution_count": 125,
   "metadata": {},
   "outputs": [],
   "source": [
    "distances1 = np.array([  16.24345364,   -1.95089747,    3.05161581,    1.77031378,\n",
    "         25.32074296,   -2.18205364,   42.44811764,   21.55459766,\n",
    "         36.52372429,   35.00629625,   56.28774604,   25.23192624,\n",
    "         46.77582796,   50.32612312,   69.67102776,   51.50108733,\n",
    "         64.94238459,   62.05474915,   75.42213747,   84.9948188 ,\n",
    "         72.32714156,   98.9472371 ,  100.68257387,  100.85827672,\n",
    "        109.00855949])\n",
    "\n",
    "distances2 = np.array([ 16.24345364,  -5.2842308 ,  -3.61505086,  -8.22968622,\n",
    "        11.98740963, -18.8487203 ,  22.44811764,  -1.77873568,\n",
    "         9.85705763,   5.00629625,  22.9544127 , -11.43474043,\n",
    "         6.77582796,   6.99278979,  23.00436109,   1.50108733,\n",
    "        11.60905126,   5.38808249,  15.42213747,  21.66148547,\n",
    "         5.66047489,  28.9472371 ,  27.34924054,  24.19161006,  29.00855949])\n",
    "\n",
    "times = np.array([ 0.        ,  0.08333333,  0.16666667,  0.25      ,  0.33333333,\n",
    "        0.41666667,  0.5       ,  0.58333333,  0.66666667,  0.75      ,\n",
    "        0.83333333,  0.91666667,  1.        ,  1.08333333,  1.16666667,\n",
    "        1.25      ,  1.33333333,  1.41666667,  1.5       ,  1.58333333,\n",
    "        1.66666667,  1.75      ,  1.83333333,  1.91666667,  2.        ])\n",
    "\n",
    "df = pd.DataFrame(dict(distances1=distances1, distances2=distances2, times=times))"
   ]
  },
  {
   "cell_type": "code",
   "execution_count": 127,
   "metadata": {},
   "outputs": [
    {
     "name": "stdout",
     "output_type": "stream",
     "text": [
      "Model 1: SE = 3.694, R-squared = 0.898\n",
      "Model 2: SE = 3.694, R-squared = 0.335\n"
     ]
    }
   ],
   "source": [
    "# Build and fit two models, for columns distances1 and distances2 in df\n",
    "model_1 = ols(formula=\"distances1 ~ times\", data=df).fit()\n",
    "model_2 = ols(formula=\"distances2 ~ times\", data=df).fit()\n",
    "\n",
    "# Extract R-squared for each model, and the standard error for each slope\n",
    "se_1 = model_1.bse['times']\n",
    "se_2 = model_2.bse['times']\n",
    "rsquared_1 = model_1.rsquared\n",
    "rsquared_2 = model_2.rsquared\n",
    "\n",
    "# Print the results\n",
    "print('Model 1: SE = {:0.3f}, R-squared = {:0.3f}'.format(se_1, rsquared_1))\n",
    "print('Model 2: SE = {:0.3f}, R-squared = {:0.3f}'.format(se_2, rsquared_2))"
   ]
  },
  {
   "cell_type": "code",
   "execution_count": null,
   "metadata": {},
   "outputs": [],
   "source": []
  }
 ],
 "metadata": {
  "kernelspec": {
   "display_name": "Python 3",
   "language": "python",
   "name": "python3"
  },
  "language_info": {
   "codemirror_mode": {
    "name": "ipython",
    "version": 3
   },
   "file_extension": ".py",
   "mimetype": "text/x-python",
   "name": "python",
   "nbconvert_exporter": "python",
   "pygments_lexer": "ipython3",
   "version": "3.6.5"
  }
 },
 "nbformat": 4,
 "nbformat_minor": 2
}
