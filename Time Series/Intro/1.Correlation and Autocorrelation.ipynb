{
 "cells": [
  {
   "cell_type": "markdown",
   "metadata": {},
   "source": [
    "## 1. Correlation and Autocorrelation"
   ]
  },
  {
   "cell_type": "markdown",
   "metadata": {},
   "source": [
    "<b> \"Thin\" Application of Time Series </b>\n",
    "\n",
    "Google Trends allows users to see how often a term is searched for. We downloaded a file from Google Trends containing the frequency over time for the search word \"diet\", which is pre-loaded in a DataFrame called diet. A first step when analyzing a time series is to visualize the data with a plot. You should be able to clearly see a gradual decrease in searches for \"diet\" throughout the calendar year, hitting a low around the December holidays, followed by a spike in searches around the new year as people make New Year's resolutions to lose weight.\n",
    "\n",
    "Like many time series datasets you will be working with, the index of dates are strings and should be converted to a datetime index before plotting."
   ]
  },
  {
   "cell_type": "code",
   "execution_count": 233,
   "metadata": {},
   "outputs": [],
   "source": [
    "import pandas as pd\n",
    "import seaborn as sns\n",
    "import warnings\n",
    "warnings.filterwarnings('ignore')"
   ]
  },
  {
   "cell_type": "code",
   "execution_count": 36,
   "metadata": {},
   "outputs": [],
   "source": [
    "diet = pd.read_csv('./input/google_trend_diet.csv', index_col=0, names=['diet'])"
   ]
  },
  {
   "cell_type": "code",
   "execution_count": 37,
   "metadata": {},
   "outputs": [
    {
     "data": {
      "text/html": [
       "<div>\n",
       "<style scoped>\n",
       "    .dataframe tbody tr th:only-of-type {\n",
       "        vertical-align: middle;\n",
       "    }\n",
       "\n",
       "    .dataframe tbody tr th {\n",
       "        vertical-align: top;\n",
       "    }\n",
       "\n",
       "    .dataframe thead th {\n",
       "        text-align: right;\n",
       "    }\n",
       "</style>\n",
       "<table border=\"1\" class=\"dataframe\">\n",
       "  <thead>\n",
       "    <tr style=\"text-align: right;\">\n",
       "      <th></th>\n",
       "      <th>diet</th>\n",
       "    </tr>\n",
       "  </thead>\n",
       "  <tbody>\n",
       "    <tr>\n",
       "      <th>2014-03-02</th>\n",
       "      <td>66</td>\n",
       "    </tr>\n",
       "    <tr>\n",
       "      <th>2014-03-09</th>\n",
       "      <td>64</td>\n",
       "    </tr>\n",
       "    <tr>\n",
       "      <th>2014-03-16</th>\n",
       "      <td>64</td>\n",
       "    </tr>\n",
       "    <tr>\n",
       "      <th>2014-03-23</th>\n",
       "      <td>66</td>\n",
       "    </tr>\n",
       "    <tr>\n",
       "      <th>2014-03-30</th>\n",
       "      <td>64</td>\n",
       "    </tr>\n",
       "  </tbody>\n",
       "</table>\n",
       "</div>"
      ],
      "text/plain": [
       "            diet\n",
       "2014-03-02    66\n",
       "2014-03-09    64\n",
       "2014-03-16    64\n",
       "2014-03-23    66\n",
       "2014-03-30    64"
      ]
     },
     "execution_count": 37,
     "metadata": {},
     "output_type": "execute_result"
    }
   ],
   "source": [
    "diet.head()"
   ]
  },
  {
   "cell_type": "code",
   "execution_count": 38,
   "metadata": {},
   "outputs": [],
   "source": [
    "# Import pandas and plotting modules\n",
    "import pandas as pd\n",
    "import matplotlib.pyplot as plt\n",
    "\n",
    "# Convert the date index to datetime\n",
    "diet.index = pd.to_datetime(diet.index, format='%Y-%m-%d')"
   ]
  },
  {
   "cell_type": "code",
   "execution_count": 40,
   "metadata": {},
   "outputs": [
    {
     "data": {
      "text/html": [
       "<div>\n",
       "<style scoped>\n",
       "    .dataframe tbody tr th:only-of-type {\n",
       "        vertical-align: middle;\n",
       "    }\n",
       "\n",
       "    .dataframe tbody tr th {\n",
       "        vertical-align: top;\n",
       "    }\n",
       "\n",
       "    .dataframe thead th {\n",
       "        text-align: right;\n",
       "    }\n",
       "</style>\n",
       "<table border=\"1\" class=\"dataframe\">\n",
       "  <thead>\n",
       "    <tr style=\"text-align: right;\">\n",
       "      <th></th>\n",
       "      <th>diet</th>\n",
       "    </tr>\n",
       "  </thead>\n",
       "  <tbody>\n",
       "    <tr>\n",
       "      <th>2014-03-02</th>\n",
       "      <td>66</td>\n",
       "    </tr>\n",
       "    <tr>\n",
       "      <th>2014-03-09</th>\n",
       "      <td>64</td>\n",
       "    </tr>\n",
       "    <tr>\n",
       "      <th>2014-03-16</th>\n",
       "      <td>64</td>\n",
       "    </tr>\n",
       "    <tr>\n",
       "      <th>2014-03-23</th>\n",
       "      <td>66</td>\n",
       "    </tr>\n",
       "    <tr>\n",
       "      <th>2014-03-30</th>\n",
       "      <td>64</td>\n",
       "    </tr>\n",
       "  </tbody>\n",
       "</table>\n",
       "</div>"
      ],
      "text/plain": [
       "            diet\n",
       "2014-03-02    66\n",
       "2014-03-09    64\n",
       "2014-03-16    64\n",
       "2014-03-23    66\n",
       "2014-03-30    64"
      ]
     },
     "execution_count": 40,
     "metadata": {},
     "output_type": "execute_result"
    }
   ],
   "source": [
    "diet.head()"
   ]
  },
  {
   "cell_type": "code",
   "execution_count": 43,
   "metadata": {},
   "outputs": [
    {
     "data": {
      "image/png": "[encoded data removed]",
      "text/plain": [
       "<Figure size 432x288 with 1 Axes>"
      ]
     },
     "metadata": {},
     "output_type": "display_data"
    },
    {
     "data": {
      "image/png": "[encoded data removed]",
      "text/plain": [
       "<Figure size 432x288 with 1 Axes>"
      ]
     },
     "metadata": {},
     "output_type": "display_data"
    }
   ],
   "source": [
    "# Plot 2012 data using slicing\n",
    "diet['2018'].plot()\n",
    "plt.show()\n",
    "\n",
    "# Plot the entire time series diet and show gridlines\n",
    "diet.plot(grid=True)\n",
    "plt.show()"
   ]
  },
  {
   "cell_type": "markdown",
   "metadata": {},
   "source": [
    "<b>Merging Time Series With Different Dates</b>\n",
    "\n",
    "Stock and bond markets in the U.S. are closed on different days. For example, although the bond market is closed on Columbus Day (around Oct 12) and Veterans Day (around Nov 11), the stock market is open on those days. One way to see the dates that the stock market is open and the bond market is closed is to convert both indexes of dates into sets and take the difference in sets.\n",
    "\n",
    "The pandas .join() method is a convenient tool to merge the stock and bond DataFrames on dates when both markets are open."
   ]
  },
  {
   "cell_type": "code",
   "execution_count": 81,
   "metadata": {},
   "outputs": [],
   "source": [
    "stocks = pd.read_csv('./input/SP500.csv', index_col='DATE')"
   ]
  },
  {
   "cell_type": "code",
   "execution_count": 83,
   "metadata": {},
   "outputs": [
    {
     "data": {
      "text/html": [
       "<div>\n",
       "<style scoped>\n",
       "    .dataframe tbody tr th:only-of-type {\n",
       "        vertical-align: middle;\n",
       "    }\n",
       "\n",
       "    .dataframe tbody tr th {\n",
       "        vertical-align: top;\n",
       "    }\n",
       "\n",
       "    .dataframe thead th {\n",
       "        text-align: right;\n",
       "    }\n",
       "</style>\n",
       "<table border=\"1\" class=\"dataframe\">\n",
       "  <thead>\n",
       "    <tr style=\"text-align: right;\">\n",
       "      <th></th>\n",
       "      <th>SP500</th>\n",
       "    </tr>\n",
       "    <tr>\n",
       "      <th>DATE</th>\n",
       "      <th></th>\n",
       "    </tr>\n",
       "  </thead>\n",
       "  <tbody>\n",
       "    <tr>\n",
       "      <th>2009-03-02</th>\n",
       "      <td>700.82</td>\n",
       "    </tr>\n",
       "    <tr>\n",
       "      <th>2009-03-03</th>\n",
       "      <td>696.33</td>\n",
       "    </tr>\n",
       "    <tr>\n",
       "      <th>2009-03-04</th>\n",
       "      <td>712.87</td>\n",
       "    </tr>\n",
       "    <tr>\n",
       "      <th>2009-03-05</th>\n",
       "      <td>682.55</td>\n",
       "    </tr>\n",
       "    <tr>\n",
       "      <th>2009-03-06</th>\n",
       "      <td>683.38</td>\n",
       "    </tr>\n",
       "  </tbody>\n",
       "</table>\n",
       "</div>"
      ],
      "text/plain": [
       "             SP500\n",
       "DATE              \n",
       "2009-03-02  700.82\n",
       "2009-03-03  696.33\n",
       "2009-03-04  712.87\n",
       "2009-03-05  682.55\n",
       "2009-03-06  683.38"
      ]
     },
     "execution_count": 83,
     "metadata": {},
     "output_type": "execute_result"
    }
   ],
   "source": [
    "stocks.head()"
   ]
  },
  {
   "cell_type": "code",
   "execution_count": 84,
   "metadata": {},
   "outputs": [],
   "source": [
    "bonds = pd.read_csv('./input/BONDS.csv', index_col=0)\n",
    "bonds.columns = ['US10Y']"
   ]
  },
  {
   "cell_type": "code",
   "execution_count": 85,
   "metadata": {},
   "outputs": [
    {
     "data": {
      "text/html": [
       "<div>\n",
       "<style scoped>\n",
       "    .dataframe tbody tr th:only-of-type {\n",
       "        vertical-align: middle;\n",
       "    }\n",
       "\n",
       "    .dataframe tbody tr th {\n",
       "        vertical-align: top;\n",
       "    }\n",
       "\n",
       "    .dataframe thead th {\n",
       "        text-align: right;\n",
       "    }\n",
       "</style>\n",
       "<table border=\"1\" class=\"dataframe\">\n",
       "  <thead>\n",
       "    <tr style=\"text-align: right;\">\n",
       "      <th></th>\n",
       "      <th>US10Y</th>\n",
       "    </tr>\n",
       "    <tr>\n",
       "      <th>DATE</th>\n",
       "      <th></th>\n",
       "    </tr>\n",
       "  </thead>\n",
       "  <tbody>\n",
       "    <tr>\n",
       "      <th>2009-01-01</th>\n",
       "      <td>2.52</td>\n",
       "    </tr>\n",
       "    <tr>\n",
       "      <th>2009-02-01</th>\n",
       "      <td>2.87</td>\n",
       "    </tr>\n",
       "    <tr>\n",
       "      <th>2009-03-01</th>\n",
       "      <td>2.82</td>\n",
       "    </tr>\n",
       "    <tr>\n",
       "      <th>2009-04-01</th>\n",
       "      <td>2.93</td>\n",
       "    </tr>\n",
       "    <tr>\n",
       "      <th>2009-05-01</th>\n",
       "      <td>3.29</td>\n",
       "    </tr>\n",
       "  </tbody>\n",
       "</table>\n",
       "</div>"
      ],
      "text/plain": [
       "            US10Y\n",
       "DATE             \n",
       "2009-01-01   2.52\n",
       "2009-02-01   2.87\n",
       "2009-03-01   2.82\n",
       "2009-04-01   2.93\n",
       "2009-05-01   3.29"
      ]
     },
     "execution_count": 85,
     "metadata": {},
     "output_type": "execute_result"
    }
   ],
   "source": [
    "bonds.head()"
   ]
  },
  {
   "cell_type": "code",
   "execution_count": 86,
   "metadata": {},
   "outputs": [],
   "source": [
    "# Convert the stock index and bond index into sets\n",
    "set_stock_dates = set(stocks.index)\n",
    "set_bond_dates = set(bonds.index)"
   ]
  },
  {
   "cell_type": "code",
   "execution_count": 87,
   "metadata": {},
   "outputs": [
    {
     "name": "stdout",
     "output_type": "stream",
     "text": [
      "{'2016-10-18', '2015-05-26', '2013-04-09', '2009-07-14', '2011-05-04', '2016-04-13', '2015-08-24', '2015-03-16', '2014-02-26', '2012-08-22', '2015-02-24', '2014-04-04', '2011-05-18', '2012-08-10', '2009-03-03', '2011-09-19', '2013-08-29', '2013-12-12', '2014-05-21', '2012-06-14', '2009-03-26', '2019-01-11', '2014-05-02', '2009-05-28', '2014-01-10', '2017-05-02', '2017-05-26', '2017-02-23', '2018-10-10', '2018-06-21', '2013-07-29', '2018-02-02', '2012-08-09', '2017-02-03', '2011-02-03', '2012-03-08', '2015-11-11', '2016-12-23', '2011-02-15', '2011-11-03', '2010-01-08', '2017-02-24', '2012-07-20', '2013-01-17', '2018-11-06', '2010-03-10', '2015-12-29', '2017-12-29', '2011-05-12', '2010-02-25', '2012-07-26', '2018-09-25', '2015-05-22', '2017-08-04', '2014-08-21', '2012-12-31', '2016-01-14', '2014-03-05', '2011-02-09', '2014-10-31', '2010-06-24', '2014-05-20', '2014-08-13', '2017-10-16', '2010-05-10', '2010-05-19', '2012-05-16', '2013-04-17', '2014-04-17', '2011-04-15', '2010-09-22', '2012-12-26', '2016-05-26', '2011-07-12', '2015-09-02', '2012-06-06', '2010-12-22', '2017-01-24', '2010-08-24', '2016-02-24', '2014-03-17', '2015-05-08', '2016-04-14', '2012-07-11', '2009-03-25', '2009-10-06', '2016-01-25', '2011-10-28', '2019-02-27', '2012-10-05', '2013-02-14', '2018-10-26', '2012-10-26', '2018-04-02', '2014-06-17', '2016-03-21', '2017-08-21', '2017-01-06', '2009-08-03', '2010-12-02', '2009-08-24', '2010-10-25', '2018-11-07', '2017-10-10', '2012-01-23', '2012-10-22', '2013-11-04', '2014-01-28', '2013-12-10', '2018-01-31', '2010-06-30', '2018-08-10', '2011-01-26', '2012-06-07', '2009-12-17', '2013-10-29', '2010-09-23', '2015-07-13', '2013-10-23', '2013-07-10', '2009-10-30', '2010-02-09', '2015-03-02', '2016-02-22', '2012-04-10', '2009-08-07', '2013-06-04', '2015-07-23', '2016-09-13', '2016-11-07', '2018-07-24', '2017-01-19', '2014-09-25', '2018-02-15', '2018-04-24', '2015-01-02', '2018-12-03', '2012-04-20', '2009-10-28', '2010-05-06', '2011-08-12', '2009-08-05', '2016-12-21', '2015-05-21', '2017-11-20', '2014-09-24', '2013-03-08', '2017-09-26', '2018-02-14', '2010-02-24', '2017-08-17', '2010-02-19', '2010-03-30', '2010-04-28', '2012-07-10', '2013-09-18', '2016-04-22', '2012-03-26', '2013-10-17', '2014-02-07', '2017-10-18', '2011-08-22', '2017-02-22', '2014-12-30', '2016-10-27', '2013-10-16', '2009-04-15', '2016-08-30', '2013-07-15', '2018-07-31', '2010-04-30', '2016-08-25', '2011-12-22', '2014-01-15', '2011-01-25', '2017-09-19', '2015-05-27', '2015-03-19', '2010-05-20', '2016-11-14', '2009-05-04', '2013-09-20', '2015-01-20', '2013-07-19', '2009-06-11', '2013-01-25', '2014-12-05', '2012-05-14', '2018-09-07', '2012-12-12', '2013-09-23', '2015-12-02', '2014-05-05', '2016-01-07', '2014-04-22', '2018-04-09', '2014-02-13', '2019-02-08', '2010-05-17', '2014-07-22', '2013-05-31', '2013-01-30', '2013-01-28', '2014-01-03', '2015-03-20', '2013-07-09', '2016-05-11', '2015-03-23', '2013-09-09', '2015-01-09', '2009-11-04', '2016-08-08', '2013-01-09', '2009-08-12', '2010-05-28', '2017-01-23', '2018-10-15', '2017-10-31', '2010-01-12', '2016-11-29', '2013-11-14', '2011-10-10', '2012-02-27', '2017-03-27', '2011-10-04', '2017-09-13', '2014-08-05', '2018-12-27', '2014-06-30', '2017-04-03', '2015-12-15', '2011-07-13', '2013-07-08', '2012-01-24', '2014-07-07', '2014-11-03', '2013-05-09', '2017-05-11', '2018-05-09', '2018-12-17', '2013-03-06', '2017-08-25', '2012-05-18', '2014-03-13', '2018-12-20', '2018-06-04', '2016-05-17', '2014-08-19', '2010-01-21', '2018-06-27', '2014-11-26', '2011-02-17', '2015-07-29', '2012-02-09', '2017-10-30', '2016-03-28', '2019-02-07', '2018-10-12', '2011-04-08', '2009-12-31', '2009-03-09', '2014-08-29', '2010-07-30', '2017-06-08', '2014-10-07', '2016-05-24', '2015-06-08', '2015-10-21', '2016-02-19', '2010-10-14', '2018-04-23', '2017-07-06', '2009-05-06', '2018-03-20', '2009-05-19', '2010-12-10', '2015-01-22', '2018-11-13', '2015-10-12', '2016-09-16', '2017-02-10', '2010-12-03', '2012-01-06', '2012-09-07', '2014-12-22', '2016-03-02', '2018-11-20', '2016-04-05', '2009-04-17', '2012-01-03', '2010-12-08', '2010-09-13', '2017-07-25', '2009-08-11', '2011-02-16', '2014-02-03', '2012-07-03', '2015-08-26', '2013-04-08', '2017-02-07', '2015-03-25', '2016-08-11', '2017-04-06', '2012-11-30', '2011-06-07', '2012-10-23', '2018-07-23', '2010-02-23', '2012-07-27', '2013-05-17', '2014-08-12', '2012-05-31', '2014-05-14', '2012-11-12', '2014-09-30', '2009-09-10', '2015-09-18', '2013-03-18', '2010-10-12', '2015-04-16', '2012-10-03', '2012-12-19', '2017-08-31', '2013-12-31', '2012-09-06', '2018-11-12', '2015-04-10', '2009-05-18', '2011-08-30', '2012-05-21', '2017-03-03', '2014-05-28', '2010-10-28', '2012-05-10', '2018-12-21', '2016-07-18', '2018-08-30', '2017-04-20', '2013-03-19', '2015-11-18', '2014-02-10', '2015-01-16', '2014-02-24', '2012-04-02', '2012-05-22', '2017-10-12', '2017-01-13', '2013-10-04', '2018-09-04', '2013-11-19', '2015-12-17', '2012-04-30', '2011-08-24', '2009-05-12', '2017-06-14', '2011-05-31', '2013-10-24', '2014-01-22', '2018-03-26', '2011-04-25', '2017-05-05', '2016-01-29', '2019-01-10', '2010-11-19', '2010-11-08', '2011-12-27', '2014-12-16', '2011-01-27', '2014-04-21', '2015-08-10', '2015-10-27', '2013-03-04', '2012-07-25', '2010-07-21', '2015-03-31', '2010-08-11', '2014-07-03', '2013-09-17', '2011-12-28', '2012-09-10', '2016-11-22', '2012-11-09', '2009-11-17', '2011-06-16', '2015-09-23', '2018-03-16', '2011-02-28', '2018-01-02', '2011-01-19', '2011-04-07', '2014-03-04', '2011-04-14', '2012-12-21', '2010-08-02', '2013-02-11', '2009-12-28', '2010-10-21', '2015-02-26', '2016-01-20', '2017-03-22', '2011-06-08', '2009-03-11', '2012-02-21', '2010-02-22', '2015-01-21', '2014-05-22', '2012-09-19', '2018-08-17', '2018-11-28', '2016-06-15', '2017-07-13', '2016-04-20', '2016-06-21', '2009-06-22', '2017-03-08', '2016-04-08', '2016-08-15', '2018-02-16', '2015-07-14', '2017-10-24', '2013-08-22', '2014-08-15', '2015-10-05', '2013-11-27', '2014-03-07', '2018-03-23', '2015-03-17', '2015-08-05', '2015-05-29', '2009-07-29', '2012-03-23', '2010-04-12', '2012-06-28', '2011-09-13', '2017-12-18', '2011-12-19', '2017-08-02', '2017-04-19', '2010-08-13', '2012-10-12', '2017-05-04', '2012-09-11', '2015-09-08', '2010-04-29', '2012-05-04', '2011-05-10', '2017-03-06', '2012-08-29', '2017-12-22', '2013-09-30', '2014-04-30', '2014-01-07', '2015-05-07', '2015-08-20', '2018-04-10', '2009-09-30', '2010-05-21', '2010-12-17', '2012-07-09', '2012-07-19', '2014-06-24', '2012-03-19', '2011-08-05', '2012-03-28', '2018-04-18', '2014-02-11', '2017-10-27', '2009-04-20', '2018-04-13', '2012-06-26', '2016-06-23', '2016-02-04', '2011-07-07', '2009-10-08', '2016-12-06', '2016-02-02', '2010-08-30', '2012-12-03', '2012-12-18', '2013-12-18', '2018-04-16', '2016-07-06', '2015-12-14', '2010-04-08', '2014-10-20', '2014-05-07', '2016-06-30', '2016-01-19', '2010-03-25', '2011-11-14', '2012-02-15', '2016-02-16', '2011-12-02', '2014-03-27', '2010-09-24', '2017-09-27', '2016-07-19', '2012-11-02', '2014-07-14', '2009-05-20', '2016-02-03', '2011-03-25', '2010-05-26', '2014-04-03', '2014-02-14', '2009-12-03', '2018-08-21', '2014-11-13', '2016-11-18', '2019-01-28', '2015-12-18', '2015-07-16', '2016-11-23', '2018-02-09', '2018-10-30', '2012-06-08', '2017-11-29', '2016-10-28', '2013-11-21', '2017-10-03', '2010-08-09', '2018-10-22', '2013-09-11', '2014-11-19', '2013-08-12', '2017-06-09', '2011-06-27', '2009-11-30', '2010-01-13', '2012-03-06', '2011-07-19', '2012-11-29', '2016-09-19', '2015-02-03', '2014-05-16', '2009-09-18', '2013-01-04', '2011-04-11', '2011-01-10', '2015-05-06', '2018-06-13', '2015-02-20', '2017-11-27', '2011-06-14', '2018-06-15', '2017-06-13', '2009-11-24', '2009-12-18', '2014-07-11', '2016-09-26', '2014-07-18', '2015-11-09', '2014-06-12', '2016-03-09', '2018-10-23', '2009-09-14', '2015-08-04', '2016-12-14', '2011-09-26', '2012-08-02', '2010-10-13', '2011-03-10', '2009-03-16', '2016-06-28', '2014-07-02', '2019-02-19', '2017-07-31', '2013-06-25', '2010-02-03', '2012-10-17', '2018-09-05', '2011-09-02', '2012-04-03', '2013-09-05', '2014-03-03', '2016-10-11', '2014-10-17', '2015-05-13', '2014-03-24', '2019-02-14', '2009-08-14', '2019-02-26', '2013-12-16', '2014-01-17', '2010-04-14', '2016-02-12', '2012-04-17', '2018-11-05', '2010-12-13', '2018-12-11', '2011-03-03', '2017-03-31', '2013-02-07', '2009-05-07', '2016-10-12', '2017-09-06', '2015-07-09', '2015-08-03', '2019-02-20', '2012-06-12', '2015-02-19', '2013-05-22', '2018-02-05', '2018-07-25', '2018-11-21', '2018-06-26', '2014-12-29', '2012-01-17', '2010-03-04', '2014-09-15', '2012-03-21', '2012-05-09', '2017-10-06', '2018-03-15', '2013-12-13', '2011-06-15', '2013-07-11', '2012-01-19', '2016-04-28', '2009-08-27', '2015-11-23', '2017-09-11', '2015-07-17', '2015-06-23', '2009-12-21', '2012-08-21', '2018-07-06', '2014-08-06', '2013-08-26', '2012-08-13', '2010-07-27', '2016-04-21', '2010-11-05', '2015-12-22', '2016-03-30', '2016-12-07', '2012-10-31', '2015-11-19', '2016-05-06', '2017-01-10', '2011-10-14', '2016-01-04', '2009-12-30', '2019-01-03', '2010-06-25', '2009-12-08', '2018-03-29', '2009-10-22', '2009-05-27', '2013-07-25', '2013-08-14', '2009-09-08', '2016-12-15', '2018-07-13', '2010-09-27', '2011-07-05', '2015-04-15', '2017-06-29', '2016-07-14', '2009-06-17', '2013-10-03', '2013-12-20', '2014-02-05', '2011-07-08', '2009-12-23', '2011-06-13', '2014-10-21', '2016-08-12', '2010-03-12', '2015-12-10', '2013-07-03', '2015-12-21', '2017-08-28', '2010-08-04', '2009-04-27', '2018-01-05', '2017-11-08', '2013-11-06', '2016-07-08', '2009-03-10', '2014-07-25', '2014-05-15', '2011-11-15', '2012-10-09', '2009-06-02', '2019-01-23', '2017-01-17', '2015-11-06', '2011-05-26', '2015-08-21', '2015-06-26', '2016-01-11', '2009-03-02', '2015-01-27', '2016-03-17', '2009-10-05', '2014-03-21', '2009-08-25', '2009-07-10', '2011-12-14', '2016-10-13', '2016-11-08', '2016-02-26', '2014-12-11', '2009-07-23', '2011-12-13', '2018-06-08', '2018-07-02', '2011-11-09', '2018-08-31', '2017-04-17', '2009-06-24', '2014-09-08', '2015-05-20', '2009-08-04', '2018-05-07', '2015-05-04', '2017-01-03', '2012-06-27', '2016-08-22', '2012-03-09', '2018-06-14', '2012-10-02', '2014-10-29', '2012-08-31', '2009-06-16', '2011-01-21', '2014-11-05', '2012-08-17', '2009-08-17', '2010-11-10', '2016-06-29', '2016-10-20', '2016-09-14', '2011-03-16', '2009-06-15', '2014-08-07', '2014-03-20', '2013-12-03', '2015-10-30', '2016-05-27', '2014-11-20', '2015-06-18', '2011-12-23', '2013-05-23', '2010-11-15', '2011-05-16', '2015-02-10', '2017-05-03', '2010-02-10', '2016-08-03', '2010-11-11', '2014-03-26', '2009-07-24', '2009-04-03', '2011-10-18', '2012-02-16', '2014-09-04', '2015-06-12', '2016-02-23', '2010-01-19', '2018-07-03', '2016-04-11', '2011-12-05', '2010-02-16', '2017-05-19', '2017-03-30', '2018-04-25', '2015-02-09', '2011-10-27', '2016-09-09', '2010-12-30', '2018-01-03', '2011-10-05', '2015-03-09', '2012-11-19', '2016-09-22', '2011-06-10', '2011-06-02', '2018-02-08', '2012-04-18', '2017-05-08', '2018-08-16', '2016-10-03', '2012-03-12', '2011-01-05', '2012-11-28', '2013-06-20', '2016-10-31', '2014-07-21', '2011-03-02', '2011-04-18', '2012-03-22', '2013-01-02', '2018-06-05', '2016-03-29', '2018-02-23', '2017-06-22', '2018-09-12', '2018-05-08', '2011-01-14', '2012-05-02', '2016-07-21', '2009-10-27', '2014-12-24', '2017-03-28', '2010-01-27', '2015-10-29', '2014-04-09', '2012-06-04', '2018-02-07', '2017-10-20', '2013-06-13', '2014-06-26', '2015-04-28', '2017-08-24', '2011-12-30', '2017-05-18', '2018-11-14', '2013-12-02', '2014-12-17', '2009-11-03', '2010-07-07', '2013-05-02', '2017-11-02', '2018-05-17', '2012-12-27', '2015-06-22', '2015-12-16', '2017-03-23', '2009-06-29', '2014-01-21', '2016-01-28', '2016-10-04', '2016-12-05', '2012-08-03', '2009-07-15', '2019-01-18', '2009-08-06', '2015-06-16', '2011-07-27', '2012-02-22', '2014-04-25', '2012-01-26', '2016-11-15', '2015-12-07', '2011-02-08', '2016-03-07', '2013-09-04', '2018-09-06', '2016-11-10', '2018-07-16', '2015-07-27', '2017-11-15', '2017-01-12', '2009-03-19', '2015-01-28', '2013-06-17', '2013-06-03', '2012-09-25', '2009-09-23', '2009-11-25', '2018-03-22', '2010-04-27', '2015-04-07', '2015-09-14', '2009-07-21', '2014-10-24', '2017-01-11', '2009-07-13', '2010-03-19', '2017-09-22', '2018-12-07', '2014-12-04', '2011-10-03', '2016-03-31', '2018-02-27', '2014-12-18', '2014-01-09', '2015-03-12', '2015-07-10', '2016-04-19', '2013-05-13', '2010-05-18', '2013-01-10', '2010-12-23', '2015-11-13', '2012-12-07', '2018-11-26', '2009-10-09', '2009-10-20', '2010-10-05', '2010-09-03', '2016-07-29', '2017-10-04', '2010-03-31', '2011-10-17', '2010-10-06', '2011-12-06', '2018-05-22', '2018-12-06', '2015-12-09', '2015-03-13', '2012-02-23', '2010-05-12', '2009-09-09', '2010-07-06', '2017-09-05', '2015-01-12', '2018-01-17', '2014-08-27', '2011-10-25', '2014-10-27', '2015-11-20', '2016-09-28', '2014-06-02', '2012-04-16', '2016-10-24', '2013-08-15', '2015-02-11', '2011-05-27', '2012-06-25', '2014-04-14', '2010-03-11', '2011-11-10', '2013-10-11', '2012-08-30', '2012-09-04', '2017-05-30', '2015-10-07', '2014-09-09', '2018-02-22', '2017-08-16', '2016-05-12', '2011-02-04', '2014-10-16', '2015-10-06', '2013-03-22', '2015-10-26', '2017-04-18', '2010-04-21', '2013-05-08', '2017-07-17', '2013-05-30', '2013-10-30', '2018-05-25', '2017-03-13', '2009-06-04', '2016-01-27', '2015-03-18', '2013-01-15', '2009-08-26', '2017-08-03', '2018-01-19', '2016-05-09', '2011-08-16', '2017-12-27', '2011-02-02', '2017-11-07', '2017-10-17', '2016-08-04', '2011-07-14', '2016-07-22', '2009-08-20', '2014-07-24', '2016-09-06', '2015-06-05', '2013-04-25', '2015-04-30', '2010-11-30', '2012-09-14', '2014-09-19', '2009-12-29', '2018-11-02', '2010-08-23', '2016-12-08', '2012-09-26', '2011-11-04', '2011-11-17', '2010-05-27', '2010-07-26', '2009-12-14', '2018-03-06', '2013-06-11', '2017-02-27', '2013-08-16', '2013-02-25', '2013-01-24', '2017-09-14', '2017-07-12', '2013-12-05', '2012-09-12', '2017-08-09', '2014-01-02', '2014-11-06', '2014-07-10', '2018-07-18', '2009-11-20', '2012-01-09', '2013-09-10', '2019-01-24', '2011-05-20', '2014-03-18', '2010-03-26', '2014-05-19', '2011-07-15', '2009-09-17', '2010-06-03', '2011-02-18', '2012-04-04', '2013-04-26', '2012-05-29', '2011-05-24', '2014-09-17', '2016-05-13', '2010-06-29', '2012-05-11', '2019-01-08', '2010-06-14', '2018-09-18', '2010-09-28', '2017-03-29', '2012-11-08', '2010-08-20', '2009-06-30', '2010-12-29', '2013-03-11', '2016-04-27', '2017-05-25', '2012-03-15', '2013-12-24', '2018-11-08', '2009-05-05', '2013-02-22', '2018-07-09', '2013-04-29', '2014-05-30', '2013-06-07', '2014-08-26', '2010-08-19', '2013-05-20', '2011-11-16', '2017-09-29', '2016-08-09', '2017-02-09', '2012-07-23', '2017-11-06', '2017-01-30', '2011-04-06', '2012-07-16', '2017-12-26', '2013-02-19', '2016-05-03', '2018-09-14', '2009-11-23', '2011-08-09', '2015-06-17', '2013-05-29', '2009-12-16', '2018-04-20', '2019-02-04', '2010-11-17', '2012-02-08', '2017-04-25', '2015-12-30', '2011-10-06', '2018-07-19', '2012-08-15', '2013-03-15', '2011-12-08', '2012-06-29', '2010-04-06', '2013-02-28', '2012-10-08', '2015-09-25', '2013-03-13', '2018-12-28', '2015-07-24', '2016-06-24', '2013-01-11', '2016-01-22', '2016-10-14', '2011-03-08', '2019-01-15', '2018-11-30', '2010-10-26', '2009-07-27', '2014-04-07', '2015-09-30', '2010-01-07', '2013-05-14', '2018-08-29', '2015-10-02', '2010-03-24', '2010-05-24', '2011-01-13', '2015-07-31', '2009-08-13', '2012-01-25', '2011-08-26', '2016-04-29', '2017-09-08', '2015-02-17', '2017-02-06', '2014-06-23', '2011-05-09', '2015-04-24', '2016-06-20', '2017-07-05', '2015-11-16', '2017-04-26', '2011-06-22', '2014-01-08', '2014-12-08', '2016-01-26', '2011-11-07', '2012-03-02', '2019-01-30', '2013-05-21', '2014-11-12', '2010-10-15', '2014-09-02', '2016-12-27', '2017-04-04', '2009-07-28', '2018-10-16', '2016-11-28', '2017-06-30', '2010-02-05', '2017-10-25', '2016-04-04', '2018-05-11', '2016-07-26', '2013-12-26', '2016-02-29', '2012-09-27', '2012-12-20', '2011-09-22', '2018-06-11', '2012-06-21', '2015-10-15', '2013-05-07', '2013-04-19', '2010-10-19', '2016-06-27', '2016-06-07', '2015-05-14', '2009-06-18', '2012-10-25', '2011-10-21', '2018-05-10', '2018-11-09', '2009-07-07', '2015-06-25', '2018-07-26', '2010-07-16', '2013-11-15', '2017-06-26', '2018-04-04', '2010-03-02', '2009-04-22', '2009-10-26', '2011-08-03', '2012-02-03', '2017-09-12', '2016-12-19', '2012-04-24', '2010-04-22', '2018-08-02', '2015-09-22', '2009-11-12', '2016-08-29', '2009-11-16', '2013-04-02', '2013-11-11', '2014-11-17', '2018-10-08', '2013-08-28', '2013-12-23', '2013-07-18', '2013-06-26', '2011-11-02', '2017-11-13', '2014-10-09', '2015-06-10', '2010-07-28', '2013-08-20', '2010-12-06', '2018-10-11', '2013-05-24', '2010-11-09', '2017-02-02', '2010-03-16', '2016-07-25', '2018-12-12', '2011-11-28', '2013-12-19', '2018-08-06', '2016-05-25', '2009-06-05', '2013-07-12', '2014-01-16', '2012-06-05', '2014-11-10', '2015-11-04', '2013-02-04', '2018-08-03', '2014-04-16', '2009-10-07', '2015-12-04', '2013-03-28', '2010-10-22', '2010-10-08', '2010-12-16', '2011-08-10', '2015-06-02', '2012-11-15', '2016-04-06', '2018-06-07', '2011-11-21', '2017-11-21', '2015-07-21', '2011-09-16', '2013-10-02', '2012-05-25', '2017-03-14', '2015-09-11', '2009-10-21', '2017-09-18', '2009-11-02', '2009-12-22', '2012-07-30', '2018-10-25', '2009-04-08', '2013-01-08', '2017-02-15', '2015-09-28', '2018-02-20', '2013-01-22', '2010-09-09', '2009-04-16', '2013-01-14', '2018-07-10', '2010-03-17', '2012-09-13', '2013-12-30', '2018-10-19', '2014-10-08', '2013-06-27', '2015-09-24', '2017-12-05', '2018-05-04', '2019-02-25', '2013-10-18', '2017-11-14', '2012-11-26', '2012-06-11', '2009-05-08', '2015-07-22', '2015-03-11', '2011-02-11', '2013-10-07', '2014-10-15', '2013-04-16', '2009-05-13', '2011-06-23', '2012-07-05', '2018-01-04', '2018-04-03', '2018-02-13', '2009-11-19', '2016-03-11', '2010-10-11', '2012-06-20', '2017-09-21', '2016-05-10', '2011-08-29', '2015-01-05', '2014-09-18', '2018-01-23', '2013-07-26', '2018-10-31', '2016-04-15', '2015-01-23', '2013-02-13', '2016-04-18', '2017-06-20', '2015-04-09', '2012-01-31', '2012-12-17', '2012-07-18', '2014-07-23', '2017-03-17', '2012-07-06', '2018-04-06', '2009-07-22', '2013-01-03', '2015-02-04', '2017-01-05', '2010-04-23', '2010-06-15', '2017-11-10', '2015-10-16', '2015-04-23', '2015-09-10', '2013-04-11', '2010-07-15', '2016-05-05', '2017-05-16', '2017-07-27', '2014-11-24', '2017-01-26', '2013-12-17', '2011-04-04', '2016-06-17', '2015-05-18', '2014-08-28', '2016-01-13', '2012-11-07', '2012-04-11', '2009-11-06', '2017-07-07', '2009-09-11', '2015-08-19', '2018-02-26', '2018-03-09', '2018-07-12', '2011-02-22', '2018-08-07', '2016-05-20', '2009-05-15', '2009-10-12', '2013-02-12', '2018-05-30', '2013-03-27', '2017-08-18', '2016-11-16', '2016-11-02', '2011-08-17', '2017-10-02', '2016-01-08', '2017-12-08', '2015-11-02', '2014-03-12', '2016-02-10', '2018-07-27', '2010-10-07', '2010-02-08', '2018-01-10', '2016-05-23', '2013-08-23', '2010-09-21', '2015-11-10', '2013-08-19', '2014-07-30', '2011-04-13', '2011-06-06', '2018-07-17', '2015-11-27', '2013-10-28', '2018-03-02', '2018-12-26', '2014-10-28', '2014-04-08', '2015-02-23', '2014-04-11', '2009-03-05', '2017-01-25', '2010-09-17', '2018-09-13', '2012-08-23', '2017-06-12', '2012-02-28', '2014-07-28', '2011-01-07', '2015-02-25', '2011-11-30', '2009-08-10', '2015-08-31', '2010-10-29', '2010-01-22', '2014-12-09', '2016-01-21', '2012-02-17', '2012-10-15', '2016-12-12', '2016-03-18', '2018-08-24', '2015-10-20', '2016-11-04', '2017-03-16', '2011-07-06', '2016-09-23', '2017-08-10', '2015-10-08', '2016-07-07', '2016-06-02', '2015-02-05', '2018-07-20', '2016-08-23', '2013-03-20', '2010-01-05', '2012-11-13', '2016-10-17', '2010-08-27', '2018-05-29', '2013-11-13', '2014-11-25', '2013-06-28', '2009-11-11', '2014-11-18', '2009-10-14', '2017-07-03', '2014-06-03', '2017-04-12', '2018-03-12', '2009-04-23', '2012-08-07', '2010-05-13', '2013-10-21', '2014-01-06', '2012-01-11', '2017-05-31', '2017-02-21', '2019-02-12', '2014-03-31', '2014-08-22', '2017-05-15', '2014-03-11', '2018-03-21', '2012-10-24', '2018-06-25', '2017-03-02', '2012-05-03', '2013-08-21', '2017-04-27', '2016-11-17', '2018-06-22', '2012-09-21', '2011-10-11', '2018-10-03', '2011-07-22', '2015-08-06', '2009-03-13', '2012-09-28', '2012-04-09', '2010-12-21', '2012-02-13', '2011-05-23', '2016-05-19', '2018-03-07', '2010-09-29', '2011-05-11', '2015-08-17', '2015-03-30', '2011-11-18', '2017-10-26', '2017-06-07', '2018-03-14', '2017-10-23', '2010-04-19', '2016-06-22', '2012-03-20', '2017-05-22', '2018-11-29', '2011-01-28', '2013-08-06', '2014-06-20', '2014-05-27', '2016-08-19', '2011-11-22', '2014-04-29', '2009-06-12', '2017-05-09', '2014-01-24', '2009-09-21', '2014-08-25', '2017-11-16', '2012-07-13', '2012-03-30', '2010-01-20', '2012-02-29', '2015-08-07', '2012-12-14', '2010-03-09', '2009-06-23', '2009-11-05', '2016-02-18', '2014-03-06', '2017-08-14', '2012-02-14', '2013-12-09', '2015-02-27', '2010-05-05', '2009-07-02', '2011-05-25', '2014-03-19', '2019-02-22', '2013-09-19', '2010-02-12', '2015-11-24', '2011-04-21', '2017-08-15', '2013-07-16', '2010-06-22', '2010-07-02', '2011-05-17', '2014-03-10', '2014-08-08', '2010-02-04', '2010-05-14', '2013-06-14', '2014-12-26', '2017-06-06', '2010-07-14', '2015-07-02', '2018-12-31', '2018-10-04', '2011-03-31', '2010-06-28', '2015-12-28', '2017-09-15', '2011-05-06', '2012-02-24', '2015-06-15', '2012-09-20', '2011-07-28', '2014-07-29', '2012-02-10', '2010-04-13', '2015-11-30', '2013-05-03', '2016-08-10', '2010-11-29', '2009-12-04', '2017-12-28', '2011-08-11', '2018-09-28', '2019-01-09', '2015-06-09', '2017-06-02', '2010-09-07', '2014-10-22', '2016-07-13', '2014-01-14', '2015-09-04', '2015-09-17', '2016-03-23', '2012-05-15', '2014-06-09', '2011-06-29', '2012-01-12', '2014-02-19', '2017-07-14', '2011-12-29', '2009-12-09', '2014-02-27', '2012-05-24', '2012-03-14', '2010-06-02', '2009-09-24', '2018-07-30', '2009-03-20', '2016-05-02', '2010-10-20', '2010-06-07', '2010-06-11', '2011-12-16', '2016-08-16', '2017-05-12', '2016-10-10', '2011-04-05', '2015-04-29', '2012-09-24', '2018-03-19', '2011-07-29', '2018-08-20', '2013-09-25', '2016-04-07', '2018-11-27', '2011-08-08', '2009-09-15', '2014-07-17', '2012-01-18', '2010-11-26', '2009-07-17', '2013-03-26', '2012-04-27', '2017-08-29', '2016-05-04', '2012-11-23', '2016-12-22', '2011-08-31', '2016-10-26', '2018-08-27', '2014-09-26', '2010-07-12', '2015-06-29', '2018-03-08', '2010-01-04', '2015-04-14', '2019-01-04', '2010-07-09', '2014-06-04', '2018-01-16', '2009-04-02', '2015-03-24', '2016-07-27', '2013-09-27', '2009-04-09', '2016-07-20', '2013-04-04', '2014-09-16', '2011-01-18', '2011-06-03', '2010-01-26', '2014-06-13', '2014-10-02', '2009-12-11', '2014-05-29', '2011-03-07', '2016-10-19', '2013-09-06', '2016-02-08', '2016-09-08', '2015-10-19', '2018-01-25', '2016-06-13', '2015-06-04', '2013-06-18', '2013-11-22', '2011-09-27', '2014-06-19', '2016-06-14', '2017-11-09', '2017-04-21', '2017-11-03', '2011-10-13', '2011-03-14', '2011-02-24', '2016-10-21', '2009-07-06', '2015-08-13', '2011-03-24', '2014-10-30', '2014-09-12', '2009-06-19', '2012-04-05', '2019-02-05', '2015-07-20', '2015-07-15', '2009-05-11', '2016-06-06', '2011-01-03', '2014-11-21', '2013-10-22', '2012-12-06', '2017-06-23', '2011-05-13', '2018-06-12', '2018-02-21', '2011-08-25', '2013-11-18', '2012-10-10', '2012-03-29', '2014-05-13', '2018-06-18', '2014-05-06', '2016-02-17', '2013-04-18', '2017-12-21', '2014-09-10', '2010-11-02', '2014-10-23', '2017-12-20', '2014-02-25', '2018-08-28', '2017-04-24', '2010-11-23', '2014-10-14', '2018-06-28', '2017-11-22', '2017-06-19', '2010-06-17', '2010-03-03', '2011-03-28', '2014-07-09', '2011-12-20', '2015-11-12', '2010-09-30', '2011-05-02', '2012-08-08', '2011-03-04', '2014-06-11', '2013-08-08', '2014-01-29', '2012-11-06', '2018-09-20', '2010-02-11', '2009-09-04', '2010-03-08', '2011-02-07', '2012-11-05', '2016-03-24', '2010-11-04', '2017-11-24', '2010-06-16', '2010-01-29', '2011-06-20', '2013-09-12', '2014-04-23', '2018-03-05', '2015-04-06', '2018-03-13', '2017-07-20', '2009-03-23', '2011-03-21', '2017-02-13', '2013-08-09', '2017-08-11', '2015-09-29', '2018-09-24', '2014-05-08', '2018-01-30', '2016-08-18', '2013-01-23', '2017-10-19', '2018-05-21', '2012-12-28', '2010-02-26', '2013-06-21', '2017-03-09', '2013-05-06', '2010-12-31', '2016-12-28', '2018-08-22', '2018-06-20', '2015-07-28', '2016-08-24', '2010-06-10', '2015-01-26', '2015-01-29', '2012-10-18', '2012-08-14', '2012-03-13', '2015-07-30', '2018-06-06', '2011-12-07', '2010-02-17', '2018-08-09', '2012-09-18', '2009-04-14', '2019-02-11', '2012-11-21', '2013-07-05', '2014-11-28', '2016-06-10', '2009-10-15', '2018-01-22', '2009-03-24', '2019-01-22', '2010-08-06', '2015-10-23', '2018-10-09', '2013-03-07', '2011-04-19', '2009-11-10', '2013-06-12', '2018-04-26', '2014-03-14', '2016-03-15', '2015-04-27', '2012-04-12', '2018-12-13', '2013-07-02', '2013-11-12', '2017-11-28', '2012-01-04', '2013-08-07', '2018-12-18', '2015-04-22', '2010-07-22', '2017-01-31', '2010-05-03', '2018-01-18', '2018-05-03', '2015-12-23', '2011-04-20', '2017-09-28', '2011-05-03', '2019-02-06', '2013-04-03', '2014-02-28', '2012-01-13', '2010-07-23', '2015-01-08', '2012-04-23', '2011-10-07', '2011-07-26', '2011-06-17', '2015-04-08', '2010-04-15', '2014-05-23', '2009-09-29', '2013-09-13', '2018-04-11', '2014-06-06', '2012-12-05', '2018-01-24', '2010-09-02', '2010-11-22', '2015-10-28', '2015-01-30', '2009-06-03', '2010-08-26', '2019-02-21', '2009-03-06', '2013-02-05', '2017-12-19', '2010-12-14', '2012-04-25', '2016-08-17', '2012-06-22', '2016-07-28', '2010-07-20', '2016-02-09', '2015-08-18', '2016-10-25', '2009-08-31', '2011-12-15', '2016-10-06', '2015-06-24', '2011-06-09', '2014-04-02', '2017-02-16', '2011-09-08', '2009-08-21', '2014-12-03', '2009-04-13', '2013-04-30', '2015-10-09', '2010-06-23', '2011-11-29', '2014-06-25', '2016-12-13', '2013-02-08', '2012-01-10', '2013-10-10', '2016-12-29', '2010-09-14', '2011-12-21', '2017-01-18', '2009-12-24', '2013-03-05', '2018-03-28', '2018-01-26', '2014-11-07', '2015-11-25', '2014-02-04', '2018-07-11', '2009-03-12', '2009-12-15', '2010-01-15', '2009-03-30', '2011-03-11', '2017-06-21', '2011-07-18', '2014-05-09', '2016-11-25', '2015-02-18', '2018-11-23', '2015-04-02', '2016-06-03', '2009-10-19', '2016-08-05', '2013-01-07', '2015-05-28', '2015-12-03', '2019-01-02', '2009-04-24', '2017-12-07', '2016-05-31', '2013-06-24', '2010-07-13', '2016-04-12', '2014-03-25', '2013-11-29', '2017-02-14', '2013-02-27', '2018-12-24', '2014-12-23', '2014-12-10', '2009-04-29', '2014-03-28', '2017-07-21', '2012-01-05', '2009-10-23', '2013-03-14', '2015-03-04', '2017-08-07', '2015-06-19', '2011-08-18', '2016-10-07', '2015-08-12', '2014-10-06', '2011-01-24', '2012-10-11', '2009-07-08', '2009-09-25', '2012-02-02', '2017-12-12', '2019-02-28', '2011-10-19', '2011-10-12', '2013-07-30', '2017-03-21', '2018-04-30', '2013-04-22', '2017-04-10', '2015-08-28', '2019-01-31', '2009-09-02', '2013-12-04', '2018-10-18', '2015-08-14', '2015-05-05', '2013-07-17', '2012-02-06', '2013-08-02', '2012-09-17', '2017-12-04', '2017-01-20', '2010-04-07', '2012-05-07', '2014-08-14', '2015-12-31', '2012-08-24', '2009-07-09', '2011-03-22', '2012-12-10', '2014-12-15', '2011-09-12', '2014-01-13', '2015-12-08', '2011-06-30', '2017-01-09', '2017-05-23', '2011-09-28', '2014-07-08', '2013-07-24', '2015-05-19', '2012-10-19', '2018-09-27', '2015-01-14', '2013-04-05', '2016-07-05', '2016-08-02', '2019-01-07', '2011-01-31', '2018-01-12', '2016-01-05', '2016-09-02', '2017-02-17', '2009-11-27', '2014-08-20', '2012-11-16', '2016-03-04', '2019-02-01', '2010-02-02', '2017-07-19', '2018-08-08', '2011-09-20', '2016-12-16', '2011-11-23', '2011-07-21', '2016-02-11', '2013-01-18', '2012-10-16', '2010-03-05', '2009-04-07', '2017-09-20', '2010-08-18', '2014-01-23', '2016-09-27', '2018-05-18', '2010-09-08', '2016-09-12', '2012-07-24', '2014-06-18', '2010-11-03', '2012-06-18', '2009-09-16', '2016-06-09', '2013-07-23', '2016-04-25', '2010-08-03', '2014-09-03', '2018-06-19', '2013-04-12', '2011-02-25', '2009-04-28', '2010-08-10', '2011-03-15', '2011-03-18', '2017-04-11', '2011-03-29', '2016-06-08', '2013-10-08', '2017-03-07', '2017-05-17', '2010-07-08', '2015-04-20', '2009-06-09', '2016-01-06', '2014-08-18', '2015-04-17', '2015-10-14', '2012-05-23', '2017-09-07', '2010-04-05', '2012-12-24', '2019-02-15', '2018-05-15', '2018-04-17', '2011-04-28', '2013-08-27', '2016-09-29', '2010-01-28', '2012-04-13', '2010-06-21', '2014-11-11', '2012-08-16', '2009-05-29', '2017-11-17', '2018-01-29', '2010-12-07', '2010-06-08', '2018-09-11', '2009-03-31', '2015-02-06', '2013-02-06', '2014-06-27', '2012-12-11', '2011-10-26', '2012-11-20', '2013-01-16', '2018-06-29', '2013-09-24', '2017-12-14', '2019-01-17', '2016-11-21', '2013-11-05', '2009-09-03', '2013-11-07', '2011-04-12', '2017-04-13', '2015-09-16', '2009-05-14', '2014-02-21', '2016-11-03', '2009-05-21', '2009-06-10', '2013-12-06', '2018-04-27', '2016-03-03', '2018-05-31', '2014-06-05', '2009-09-28', '2010-12-15', '2011-06-21', '2015-06-30', '2019-01-16', '2017-04-05', '2017-10-05', '2017-12-11', '2010-05-25', '2010-02-18', '2013-09-16', '2014-06-16', '2012-07-02', '2018-10-24', '2016-01-15', '2018-12-19', '2009-07-16', '2014-02-12', '2017-02-08', '2010-08-05', '2010-03-18', '2009-10-16', '2011-01-06', '2009-03-27', '2014-04-24', '2015-09-09', '2012-08-06', '2015-05-11', '2019-02-13', '2012-03-07', '2016-09-30', '2014-02-06', '2015-11-05', '2016-09-20', '2011-05-19', '2010-10-27', '2015-04-21', '2011-09-21', '2011-09-14', '2010-12-27', '2016-03-10', '2017-07-11', '2012-05-17', '2016-08-31', '2009-07-30', '2014-09-11', '2016-02-25', '2012-12-04', '2017-08-08', '2013-07-31', '2010-05-04', '2010-12-28', '2017-11-30', '2011-08-19', '2011-09-09', '2010-04-20', '2013-10-25', '2011-09-29', '2009-03-18', '2013-03-25', '2009-11-18', '2010-09-10', '2015-01-13', '2011-09-15', '2010-05-07', '2016-09-07', '2017-12-06', '2009-05-26', '2017-05-24', '2010-06-04', '2017-07-10', '2010-09-20', '2011-06-24', '2013-10-14', '2018-02-12', '2017-03-24', '2011-08-23', '2011-02-10', '2013-02-26', '2015-05-12', '2015-11-17', '2018-08-23', '2011-12-12', '2018-09-17', '2011-03-09', '2015-01-07', '2014-04-10', '2014-09-23', '2016-11-11', '2014-10-03', '2019-01-14', '2009-10-02', '2016-04-26', '2010-04-16', '2018-09-26', '2010-11-24', '2014-09-29', '2012-03-05', '2011-07-11', '2016-12-09', '2010-03-22', '2015-01-06', '2018-12-04', '2015-02-12', '2010-01-11', '2012-06-15', '2016-03-08', '2012-02-07', '2017-08-23', '2014-05-12', '2018-04-12', '2009-06-08', '2015-06-03', '2013-11-20', '2017-07-26', '2010-11-12', '2018-01-08', '2016-11-30', '2009-07-20', '2010-10-04', '2012-05-30', '2014-09-22', '2010-12-09', '2018-05-24', '2016-03-22', '2017-07-24', '2018-09-19', '2017-12-15', '2015-03-26', '2010-12-20', '2018-09-10', '2011-04-29', '2013-12-11', '2010-06-18', '2018-02-06', '2017-03-10', '2016-01-12', '2017-06-05', '2010-01-06', '2014-04-28', '2013-08-30', '2011-10-24', '2012-03-16', '2013-12-27', '2014-02-18', '2009-06-25', '2018-01-11', '2016-12-30', '2011-04-27', '2015-12-24', '2014-02-20', '2010-11-16', '2018-04-05', '2012-11-27', '2011-01-11', '2016-06-16', '2009-09-22', '2018-10-29', '2016-03-16', '2018-08-15', '2012-07-12', '2010-10-18', '2013-09-03', '2017-10-09', '2013-11-26', '2009-08-28', '2018-05-23', '2009-11-09', '2014-10-10', '2015-08-27', '2016-12-02', '2012-01-20', '2012-06-19', '2015-02-13', '2012-07-17', '2013-05-16', '2014-01-27', '2013-02-21', '2011-02-14', '2012-06-13', '2018-07-05', '2018-08-14', '2016-09-21', '2013-03-21', '2013-10-09', '2011-08-15', '2009-04-06', '2010-05-11', '2011-07-25', '2011-09-06', '2017-01-04', '2017-07-18', '2018-02-28', '2010-07-19', '2014-01-30', '2012-09-05', '2014-09-05', '2017-10-11', '2014-07-15', '2011-04-26', '2014-07-31', '2017-09-25', '2017-08-30', '2011-01-12', '2015-07-08', '2015-03-03', '2017-05-10', '2018-05-02', '2013-04-15', '2010-03-23', '2014-04-15', '2017-06-15', '2015-08-25', '2009-07-31', '2018-11-16', '2016-11-09', '2017-03-15', '2015-03-27', '2016-07-12', '2009-08-19', '2009-12-02', '2009-10-13', '2010-04-09', '2012-05-08', '2017-07-28', '2013-06-05', '2014-08-11', '2013-08-13', '2009-11-13', '2013-10-15', '2010-01-14', '2013-02-20', '2013-11-25', '2018-09-21', '2015-04-13', '2015-02-02', '2011-05-05', '2010-09-16', '2013-06-19', '2013-03-12', '2018-05-14', '2013-08-05', '2009-05-22', '2012-08-28', '2013-01-31', '2016-02-05', '2015-05-15', '2017-08-22', '2016-08-26', '2014-11-04', '2009-06-26', '2014-01-31', '2013-04-24', '2013-04-10', '2013-04-23', '2019-01-29', '2016-07-11', '2012-01-27', '2012-04-26', '2015-08-11', '2013-07-22', '2013-05-28', '2010-08-16', '2018-05-16', '2011-07-20', '2013-05-15', '2017-10-13', '2013-06-10', '2011-06-28', '2013-06-06', '2015-10-13', '2013-09-26', '2014-06-10', '2010-08-25', '2012-12-13', '2018-12-14', '2014-08-04', '2018-11-19', '2014-10-13', '2011-03-30', '2011-08-02', '2016-10-05', '2010-09-15', '2015-09-15', '2016-05-18', '2014-07-16', '2009-03-04', '2011-01-20', '2011-11-25', '2011-02-23', '2015-06-11', '2015-10-22', '2017-04-28', '2018-10-02', '2012-08-27', '2010-08-12', '2010-11-18', '2016-12-20', '2017-06-28', '2018-10-05', '2012-11-14', '2017-06-16', '2014-12-19', '2018-08-13', '2009-03-17', '2016-05-16', '2011-09-07', '2017-04-07', '2011-09-23', '2013-05-10', '2012-07-31', '2014-12-31', '2009-04-30', '2015-09-21', '2019-01-25', '2010-08-17', '2011-11-11', '2018-01-09', '2013-01-29', '2015-01-15', '2015-07-06', '2011-10-31', '2018-03-27', '2009-04-21', '2016-07-15', '2012-01-30', '2010-08-31', '2009-12-10', '2011-01-04', '2012-10-04', '2015-03-05', '2011-11-08', '2018-12-10', '2009-08-18', '2011-12-09', '2013-10-31', '2010-07-29', '2009-10-29', '2015-03-06', '2015-12-11', '2017-12-13', '2018-04-19', '2011-08-04', '2013-11-08', '2010-03-29', '2011-03-23', '2014-12-12', '2014-12-02', '2009-12-07', '2013-02-15', '2017-06-27', '2015-09-03', '2015-11-03', '2011-10-20', '2015-03-10', '2016-03-14', '2012-04-19', '2010-01-25', '2015-07-07', '2010-06-09', '2014-11-14', '2018-11-15', '2011-09-30', '2011-03-17', '2010-04-26', '2012-08-20', '2016-09-15', '2018-10-17', '2017-01-27', '2010-03-15', '2017-02-28', '2012-03-27', '2017-03-20'}\n"
     ]
    }
   ],
   "source": [
    "# Take the difference between the sets and print\n",
    "print(set_stock_dates - set_bond_dates)"
   ]
  },
  {
   "cell_type": "code",
   "execution_count": 88,
   "metadata": {},
   "outputs": [],
   "source": [
    "stocks_and_bonds = stocks.join(bonds, how='inner')"
   ]
  },
  {
   "cell_type": "code",
   "execution_count": 89,
   "metadata": {},
   "outputs": [
    {
     "data": {
      "text/html": [
       "<div>\n",
       "<style scoped>\n",
       "    .dataframe tbody tr th:only-of-type {\n",
       "        vertical-align: middle;\n",
       "    }\n",
       "\n",
       "    .dataframe tbody tr th {\n",
       "        vertical-align: top;\n",
       "    }\n",
       "\n",
       "    .dataframe thead th {\n",
       "        text-align: right;\n",
       "    }\n",
       "</style>\n",
       "<table border=\"1\" class=\"dataframe\">\n",
       "  <thead>\n",
       "    <tr style=\"text-align: right;\">\n",
       "      <th></th>\n",
       "      <th>SP500</th>\n",
       "      <th>US10Y</th>\n",
       "    </tr>\n",
       "    <tr>\n",
       "      <th>DATE</th>\n",
       "      <th></th>\n",
       "      <th></th>\n",
       "    </tr>\n",
       "  </thead>\n",
       "  <tbody>\n",
       "    <tr>\n",
       "      <th>2009-04-01</th>\n",
       "      <td>811.08</td>\n",
       "      <td>2.93</td>\n",
       "    </tr>\n",
       "    <tr>\n",
       "      <th>2009-05-01</th>\n",
       "      <td>877.52</td>\n",
       "      <td>3.29</td>\n",
       "    </tr>\n",
       "    <tr>\n",
       "      <th>2009-06-01</th>\n",
       "      <td>942.87</td>\n",
       "      <td>3.72</td>\n",
       "    </tr>\n",
       "    <tr>\n",
       "      <th>2009-07-01</th>\n",
       "      <td>923.33</td>\n",
       "      <td>3.56</td>\n",
       "    </tr>\n",
       "    <tr>\n",
       "      <th>2009-09-01</th>\n",
       "      <td>998.04</td>\n",
       "      <td>3.40</td>\n",
       "    </tr>\n",
       "    <tr>\n",
       "      <th>2009-10-01</th>\n",
       "      <td>1029.85</td>\n",
       "      <td>3.39</td>\n",
       "    </tr>\n",
       "    <tr>\n",
       "      <th>2009-12-01</th>\n",
       "      <td>1108.86</td>\n",
       "      <td>3.59</td>\n",
       "    </tr>\n",
       "    <tr>\n",
       "      <th>2010-02-01</th>\n",
       "      <td>1089.19</td>\n",
       "      <td>3.69</td>\n",
       "    </tr>\n",
       "    <tr>\n",
       "      <th>2010-03-01</th>\n",
       "      <td>1115.71</td>\n",
       "      <td>3.73</td>\n",
       "    </tr>\n",
       "    <tr>\n",
       "      <th>2010-04-01</th>\n",
       "      <td>1178.10</td>\n",
       "      <td>3.85</td>\n",
       "    </tr>\n",
       "  </tbody>\n",
       "</table>\n",
       "</div>"
      ],
      "text/plain": [
       "              SP500  US10Y\n",
       "DATE                      \n",
       "2009-04-01   811.08   2.93\n",
       "2009-05-01   877.52   3.29\n",
       "2009-06-01   942.87   3.72\n",
       "2009-07-01   923.33   3.56\n",
       "2009-09-01   998.04   3.40\n",
       "2009-10-01  1029.85   3.39\n",
       "2009-12-01  1108.86   3.59\n",
       "2010-02-01  1089.19   3.69\n",
       "2010-03-01  1115.71   3.73\n",
       "2010-04-01  1178.10   3.85"
      ]
     },
     "execution_count": 89,
     "metadata": {},
     "output_type": "execute_result"
    }
   ],
   "source": [
    "stocks_and_bonds.head(10)"
   ]
  },
  {
   "cell_type": "markdown",
   "metadata": {},
   "source": [
    "<b> Correlation of Stocks and Bonds </b>\n",
    "\n",
    "Investors are often interested in the correlation between the returns of two different assets for asset allocation and hedging purposes. In this exercise, you'll try to answer the question of whether stocks are positively or negatively correlated with bonds. Scatter plots are also useful for visualizing the correlation between the two variables.\n",
    "\n",
    "Keep in mind that you should compute the correlations on the percentage changes rather than the levels.\n",
    "\n",
    "Stock prices and 10-year bond yields are combined in a DataFrame called stocks_and_bonds under columns SP500 and US10Y\n",
    "\n",
    "The pandas and plotting modules have already been imported for you. For the remainder of the course, pandas is imported as pd and matplotlib.pyplot is imported as plt"
   ]
  },
  {
   "cell_type": "code",
   "execution_count": 90,
   "metadata": {},
   "outputs": [],
   "source": [
    "# Compute percent change using pct_change()\n",
    "returns = stocks_and_bonds.pct_change()"
   ]
  },
  {
   "cell_type": "code",
   "execution_count": 92,
   "metadata": {},
   "outputs": [
    {
     "name": "stdout",
     "output_type": "stream",
     "text": [
      "Correlation of stocks and interest rates:  0.4350637147798583\n"
     ]
    }
   ],
   "source": [
    "# Compute correlation using corr()\n",
    "correlation = returns['SP500'].corr(returns['US10Y'])\n",
    "print(\"Correlation of stocks and interest rates: \", correlation)"
   ]
  },
  {
   "cell_type": "code",
   "execution_count": 93,
   "metadata": {},
   "outputs": [
    {
     "data": {
      "image/png": "[encoded data removed]",
      "text/plain": [
       "<Figure size 432x288 with 1 Axes>"
      ]
     },
     "metadata": {},
     "output_type": "display_data"
    }
   ],
   "source": [
    "# Make scatter plot\n",
    "plt.scatter(returns['SP500'], returns['US10Y'])\n",
    "plt.show()"
   ]
  },
  {
   "cell_type": "markdown",
   "metadata": {},
   "source": [
    "<b>Flying Saucers Aren't Correlated to Flying Markets</b>\n",
    "\n",
    "Two trending series may show a strong correlation even if they are completely unrelated. This is referred to as \"spurious correlation\". That's why when you look at the correlation of say, two stocks, you should look at the correlation of their returns and not their levels.\n",
    "\n",
    "To illustrate this point, calculate the correlation between the levels of the stock market and the annual sightings of UFOs. Both of those time series have trended up over the last several decades, and the correlation of their levels is very high. Then calculate the correlation of their percent changes. This will be close to zero, since there is no relationship between those two series.\n",
    "\n",
    "The DataFrame levels contains the levels of DJI and UFO. UFO data was downloaded from www.nuforc.org."
   ]
  },
  {
   "cell_type": "code",
   "execution_count": 115,
   "metadata": {},
   "outputs": [],
   "source": [
    "DJI  = pd.read_csv('./input/DJI.csv', index_col=0, names=['DJI'], skiprows=1)"
   ]
  },
  {
   "cell_type": "code",
   "execution_count": 117,
   "metadata": {},
   "outputs": [],
   "source": [
    "UFO  = pd.read_csv('./input/UFO.csv', index_col=0, names=['UFO'], skiprows=1)"
   ]
  },
  {
   "cell_type": "code",
   "execution_count": 118,
   "metadata": {},
   "outputs": [],
   "source": [
    "levels = DJI.join(UFO, how='inner')"
   ]
  },
  {
   "cell_type": "code",
   "execution_count": 122,
   "metadata": {},
   "outputs": [
    {
     "data": {
      "text/html": [
       "<div>\n",
       "<style scoped>\n",
       "    .dataframe tbody tr th:only-of-type {\n",
       "        vertical-align: middle;\n",
       "    }\n",
       "\n",
       "    .dataframe tbody tr th {\n",
       "        vertical-align: top;\n",
       "    }\n",
       "\n",
       "    .dataframe thead th {\n",
       "        text-align: right;\n",
       "    }\n",
       "</style>\n",
       "<table border=\"1\" class=\"dataframe\">\n",
       "  <thead>\n",
       "    <tr style=\"text-align: right;\">\n",
       "      <th></th>\n",
       "      <th>DJI</th>\n",
       "      <th>UFO</th>\n",
       "    </tr>\n",
       "  </thead>\n",
       "  <tbody>\n",
       "    <tr>\n",
       "      <th>1941</th>\n",
       "      <td>110.96</td>\n",
       "      <td>1</td>\n",
       "    </tr>\n",
       "    <tr>\n",
       "      <th>1942</th>\n",
       "      <td>119.40</td>\n",
       "      <td>2</td>\n",
       "    </tr>\n",
       "    <tr>\n",
       "      <th>1943</th>\n",
       "      <td>135.89</td>\n",
       "      <td>9</td>\n",
       "    </tr>\n",
       "    <tr>\n",
       "      <th>1944</th>\n",
       "      <td>152.32</td>\n",
       "      <td>9</td>\n",
       "    </tr>\n",
       "    <tr>\n",
       "      <th>1945</th>\n",
       "      <td>192.91</td>\n",
       "      <td>9</td>\n",
       "    </tr>\n",
       "  </tbody>\n",
       "</table>\n",
       "</div>"
      ],
      "text/plain": [
       "         DJI  UFO\n",
       "1941  110.96    1\n",
       "1942  119.40    2\n",
       "1943  135.89    9\n",
       "1944  152.32    9\n",
       "1945  192.91    9"
      ]
     },
     "execution_count": 122,
     "metadata": {},
     "output_type": "execute_result"
    }
   ],
   "source": [
    "levels.head()"
   ]
  },
  {
   "cell_type": "code",
   "execution_count": 119,
   "metadata": {},
   "outputs": [
    {
     "name": "stdout",
     "output_type": "stream",
     "text": [
      "Correlation of levels:  0.9399762210726432\n",
      "Correlation of changes:  0.06026935462405376\n"
     ]
    }
   ],
   "source": [
    "# Compute correlation of levels\n",
    "correlation1 = levels['DJI'].corr(levels['UFO'])\n",
    "print(\"Correlation of levels: \", correlation1)\n",
    "\n",
    "# Compute correlation of percent changes\n",
    "changes = levels.pct_change()\n",
    "correlation2 = changes['DJI'].corr(changes['UFO'])\n",
    "print(\"Correlation of changes: \", correlation2)"
   ]
  },
  {
   "cell_type": "code",
   "execution_count": 124,
   "metadata": {},
   "outputs": [
    {
     "data": {
      "text/plain": [
       "<matplotlib.axes._subplots.AxesSubplot at 0x1f8bbbb4b38>"
      ]
     },
     "execution_count": 124,
     "metadata": {},
     "output_type": "execute_result"
    },
    {
     "data": {
      "image/png": "[encoded data removed]",
      "text/plain": [
       "<Figure size 432x288 with 1 Axes>"
      ]
     },
     "metadata": {},
     "output_type": "display_data"
    }
   ],
   "source": [
    "sns.lineplot(levels.index, levels.DJI)\n",
    "sns.lineplot(levels.index, levels.UFO)"
   ]
  },
  {
   "cell_type": "code",
   "execution_count": 125,
   "metadata": {},
   "outputs": [
    {
     "data": {
      "text/plain": [
       "<matplotlib.axes._subplots.AxesSubplot at 0x1f8bb15d438>"
      ]
     },
     "execution_count": 125,
     "metadata": {},
     "output_type": "execute_result"
    },
    {
     "data": {
      "image/png": "[encoded data removed]",
      "text/plain": [
       "<Figure size 432x288 with 1 Axes>"
      ]
     },
     "metadata": {},
     "output_type": "display_data"
    }
   ],
   "source": [
    "sns.lineplot(changes.index, changes.DJI)\n",
    "sns.lineplot(changes.index, changes.UFO)"
   ]
  },
  {
   "cell_type": "markdown",
   "metadata": {},
   "source": [
    "<b>Looking at a Regression's R-Squared</b>\n",
    "\n",
    "R-squared measures how closely the data fit the regression line, so the R-squared in a simple regression is related to the correlation between the two variables. In particular, the magnitude of the correlation is the square root of the R-squared and the sign of the correlation is the sign of the regression coefficient.\n",
    "\n",
    "In this exercise, you will start using the statistical package statsmodels, which performs much of the statistical modeling and testing that is found in R and software packages like SAS and MATLAB.\n",
    "\n",
    "You will take two series, x and y, compute their correlation, and then regress y on x using the function OLS() in the statsmodels.api library. Most linear regressions contain a constant term which is the intercept (the α in the regression yt=α+βxt+ϵt). To include a constant using the function OLS(), you need to add a column of 1's to the right hand side of the regression.\n",
    "\n",
    "The module statsmodels.api has been imported for you as sm."
   ]
  },
  {
   "cell_type": "code",
   "execution_count": 170,
   "metadata": {},
   "outputs": [],
   "source": [
    "from numpy.random import rand\n",
    "import random"
   ]
  },
  {
   "cell_type": "code",
   "execution_count": 188,
   "metadata": {},
   "outputs": [],
   "source": [
    "x = rand(1000)\n",
    "y = - x + random.randrange(-4,4)"
   ]
  },
  {
   "cell_type": "code",
   "execution_count": 189,
   "metadata": {},
   "outputs": [],
   "source": [
    "x = pd.Series(x)\n",
    "y = pd.Series(y)"
   ]
  },
  {
   "cell_type": "code",
   "execution_count": 199,
   "metadata": {},
   "outputs": [
    {
     "data": {
      "text/html": [
       "<div>\n",
       "<style scoped>\n",
       "    .dataframe tbody tr th:only-of-type {\n",
       "        vertical-align: middle;\n",
       "    }\n",
       "\n",
       "    .dataframe tbody tr th {\n",
       "        vertical-align: top;\n",
       "    }\n",
       "\n",
       "    .dataframe thead th {\n",
       "        text-align: right;\n",
       "    }\n",
       "</style>\n",
       "<table border=\"1\" class=\"dataframe\">\n",
       "  <thead>\n",
       "    <tr style=\"text-align: right;\">\n",
       "      <th></th>\n",
       "      <th>const</th>\n",
       "      <th>x</th>\n",
       "    </tr>\n",
       "  </thead>\n",
       "  <tbody>\n",
       "    <tr>\n",
       "      <th>0</th>\n",
       "      <td>1.0</td>\n",
       "      <td>0.543376</td>\n",
       "    </tr>\n",
       "    <tr>\n",
       "      <th>1</th>\n",
       "      <td>1.0</td>\n",
       "      <td>0.275332</td>\n",
       "    </tr>\n",
       "    <tr>\n",
       "      <th>2</th>\n",
       "      <td>1.0</td>\n",
       "      <td>0.118543</td>\n",
       "    </tr>\n",
       "    <tr>\n",
       "      <th>3</th>\n",
       "      <td>1.0</td>\n",
       "      <td>0.617067</td>\n",
       "    </tr>\n",
       "    <tr>\n",
       "      <th>4</th>\n",
       "      <td>1.0</td>\n",
       "      <td>0.940287</td>\n",
       "    </tr>\n",
       "  </tbody>\n",
       "</table>\n",
       "</div>"
      ],
      "text/plain": [
       "   const         x\n",
       "0    1.0  0.543376\n",
       "1    1.0  0.275332\n",
       "2    1.0  0.118543\n",
       "3    1.0  0.617067\n",
       "4    1.0  0.940287"
      ]
     },
     "execution_count": 199,
     "metadata": {},
     "output_type": "execute_result"
    }
   ],
   "source": [
    "x.head()"
   ]
  },
  {
   "cell_type": "code",
   "execution_count": 191,
   "metadata": {},
   "outputs": [
    {
     "data": {
      "text/plain": [
       "0    2.456624\n",
       "1    2.724668\n",
       "2    2.881457\n",
       "3    2.382933\n",
       "4    2.059713\n",
       "dtype: float64"
      ]
     },
     "execution_count": 191,
     "metadata": {},
     "output_type": "execute_result"
    }
   ],
   "source": [
    "y.head()"
   ]
  },
  {
   "cell_type": "code",
   "execution_count": 192,
   "metadata": {
    "scrolled": true
   },
   "outputs": [
    {
     "name": "stdout",
     "output_type": "stream",
     "text": [
      "The correlation between x and y is -1.00\n",
      "                            OLS Regression Results                            \n",
      "==============================================================================\n",
      "Dep. Variable:                      y   R-squared:                       1.000\n",
      "Model:                            OLS   Adj. R-squared:                  1.000\n",
      "Method:                 Least Squares   F-statistic:                 1.581e+31\n",
      "Date:                Fri, 01 Mar 2019   Prob (F-statistic):               0.00\n",
      "Time:                        18:49:56   Log-Likelihood:                 32269.\n",
      "No. Observations:                1000   AIC:                        -6.453e+04\n",
      "Df Residuals:                     998   BIC:                        -6.452e+04\n",
      "Df Model:                           1                                         \n",
      "Covariance Type:            nonrobust                                         \n",
      "==============================================================================\n",
      "                 coef    std err          t      P>|t|      [0.025      0.975]\n",
      "------------------------------------------------------------------------------\n",
      "const          3.0000   1.44e-16   2.08e+16      0.000       3.000       3.000\n",
      "x             -1.0000   2.52e-16  -3.98e+15      0.000      -1.000      -1.000\n",
      "==============================================================================\n",
      "Omnibus:                       72.863   Durbin-Watson:                   0.030\n",
      "Prob(Omnibus):                  0.000   Jarque-Bera (JB):               35.431\n",
      "Skew:                           0.277   Prob(JB):                     2.02e-08\n",
      "Kurtosis:                       2.263   Cond. No.                         4.28\n",
      "==============================================================================\n",
      "\n",
      "Warnings:\n",
      "[1] Standard Errors assume that the covariance matrix of the errors is correctly specified.\n"
     ]
    }
   ],
   "source": [
    "# Import the statsmodels module\n",
    "import statsmodels.api as sm\n",
    "\n",
    "# Compute correlation of x and y\n",
    "correlation = x.corr(y)\n",
    "print(\"The correlation between x and y is %4.2f\" %(correlation))\n",
    "\n",
    "# Convert the Series x to a DataFrame and name the column x\n",
    "x = pd.DataFrame(x, columns=['x'])\n",
    "\n",
    "# Add a constant to the DataFrame x\n",
    "x = sm.add_constant(x)\n",
    "\n",
    "# Fit the regression of y on x\n",
    "result = sm.OLS(y,x).fit()\n",
    "\n",
    "# Print out the results and look at the relationship between R-squared and the correlation above\n",
    "print(result.summary())"
   ]
  },
  {
   "cell_type": "code",
   "execution_count": 200,
   "metadata": {},
   "outputs": [
    {
     "data": {
      "text/plain": [
       "<matplotlib.axes._subplots.AxesSubplot at 0x1f8bc4cb7b8>"
      ]
     },
     "execution_count": 200,
     "metadata": {},
     "output_type": "execute_result"
    },
    {
     "data": {
      "image/png": "[encoded data removed]",
      "text/plain": [
       "<Figure size 432x288 with 1 Axes>"
      ]
     },
     "metadata": {},
     "output_type": "display_data"
    }
   ],
   "source": [
    "sns.lineplot(x.index, x.x)"
   ]
  },
  {
   "cell_type": "code",
   "execution_count": 201,
   "metadata": {},
   "outputs": [
    {
     "data": {
      "text/plain": [
       "<matplotlib.axes._subplots.AxesSubplot at 0x1f8bc5072b0>"
      ]
     },
     "execution_count": 201,
     "metadata": {},
     "output_type": "execute_result"
    },
    {
     "data": {
      "image/png": "[encoded data removed]",
      "text/plain": [
       "<Figure size 432x288 with 1 Axes>"
      ]
     },
     "metadata": {},
     "output_type": "display_data"
    }
   ],
   "source": [
    "sns.lineplot(y.index, y)"
   ]
  },
  {
   "cell_type": "markdown",
   "metadata": {},
   "source": [
    "<b>A Popular Strategy Using Autocorrelation</b>\n",
    "\n",
    "One puzzling anomaly with stocks is that investors tend to overreact to news. Following large jumps, either up or down, stock prices tend to reverse. This is described as mean reversion in stock prices: prices tend to bounce back, or revert, towards previous levels after large moves, which are observed over time horizons of about a week. A more mathematical way to describe mean reversion is to say that stock returns are negatively autocorrelated.\n",
    "\n",
    "This simple idea is actually the basis for a popular hedge fund strategy. If you're curious to learn more about this hedge fund strategy (although it's not necessary reading for anything else later in the course), see here.\n",
    "\n",
    "You'll look at the autocorrelation of weekly returns of MSFT stock from 2012 to 2017. You'll start with a DataFrame MSFT of daily prices. You should use the .resample() method to get weekly prices and then compute returns from prices. Use the pandas method .autocorr() to get the autocorrelation and show that the autocorrelation is negative. Note that the .autocorr() method only works on Series, not DataFrames (even DataFrames with one column), so you will have to select the column in the DataFrame."
   ]
  },
  {
   "cell_type": "code",
   "execution_count": 207,
   "metadata": {},
   "outputs": [],
   "source": [
    "MSFT = pd.read_csv('input/MSFT.csv', index_col=0)"
   ]
  },
  {
   "cell_type": "code",
   "execution_count": 208,
   "metadata": {},
   "outputs": [
    {
     "data": {
      "text/html": [
       "<div>\n",
       "<style scoped>\n",
       "    .dataframe tbody tr th:only-of-type {\n",
       "        vertical-align: middle;\n",
       "    }\n",
       "\n",
       "    .dataframe tbody tr th {\n",
       "        vertical-align: top;\n",
       "    }\n",
       "\n",
       "    .dataframe thead th {\n",
       "        text-align: right;\n",
       "    }\n",
       "</style>\n",
       "<table border=\"1\" class=\"dataframe\">\n",
       "  <thead>\n",
       "    <tr style=\"text-align: right;\">\n",
       "      <th></th>\n",
       "      <th>Adj Close</th>\n",
       "    </tr>\n",
       "    <tr>\n",
       "      <th>Date</th>\n",
       "      <th></th>\n",
       "    </tr>\n",
       "  </thead>\n",
       "  <tbody>\n",
       "    <tr>\n",
       "      <th>8/6/2012</th>\n",
       "      <td>26.107651</td>\n",
       "    </tr>\n",
       "    <tr>\n",
       "      <th>8/7/2012</th>\n",
       "      <td>26.377876</td>\n",
       "    </tr>\n",
       "    <tr>\n",
       "      <th>8/8/2012</th>\n",
       "      <td>26.438896</td>\n",
       "    </tr>\n",
       "    <tr>\n",
       "      <th>8/9/2012</th>\n",
       "      <td>26.587088</td>\n",
       "    </tr>\n",
       "    <tr>\n",
       "      <th>8/10/2012</th>\n",
       "      <td>26.517351</td>\n",
       "    </tr>\n",
       "  </tbody>\n",
       "</table>\n",
       "</div>"
      ],
      "text/plain": [
       "           Adj Close\n",
       "Date                \n",
       "8/6/2012   26.107651\n",
       "8/7/2012   26.377876\n",
       "8/8/2012   26.438896\n",
       "8/9/2012   26.587088\n",
       "8/10/2012  26.517351"
      ]
     },
     "execution_count": 208,
     "metadata": {},
     "output_type": "execute_result"
    }
   ],
   "source": [
    "MSFT.head()"
   ]
  },
  {
   "cell_type": "code",
   "execution_count": 210,
   "metadata": {},
   "outputs": [],
   "source": [
    "MSFT.index = pd.to_datetime(MSFT.index)"
   ]
  },
  {
   "cell_type": "code",
   "execution_count": 218,
   "metadata": {},
   "outputs": [
    {
     "data": {
      "text/plain": [
       "<matplotlib.axes._subplots.AxesSubplot at 0x1f8bc5e2828>"
      ]
     },
     "execution_count": 218,
     "metadata": {},
     "output_type": "execute_result"
    },
    {
     "data": {
      "image/png": "[encoded data removed]",
      "text/plain": [
       "<Figure size 432x288 with 1 Axes>"
      ]
     },
     "metadata": {},
     "output_type": "display_data"
    }
   ],
   "source": [
    "sns.lineplot(data=MSFT, y='Adj Close',x = MSFT.index)"
   ]
  },
  {
   "cell_type": "code",
   "execution_count": 234,
   "metadata": {},
   "outputs": [
    {
     "name": "stdout",
     "output_type": "stream",
     "text": [
      "The autocorrelation of weekly returns is -0.16\n"
     ]
    }
   ],
   "source": [
    "# Convert the daily data to weekly data\n",
    "MSFT = MSFT.resample(rule='W', how='last')\n",
    "\n",
    "# Compute the percentage change of prices\n",
    "returns = MSFT.pct_change()\n",
    "\n",
    "# Compute and print the autocorrelation of returns\n",
    "autocorrelation = returns['Adj Close'].autocorr()\n",
    "print(\"The autocorrelation of weekly returns is %4.2f\" %(autocorrelation))"
   ]
  },
  {
   "cell_type": "markdown",
   "metadata": {},
   "source": [
    "<b>Are Interest Rates Autocorrelated?</b>\n",
    "\n",
    "When you look at daily changes in interest rates, the autocorrelation is close to zero. However, if you resample the data and look at annual changes, the autocorrelation is negative. This implies that while short term changes in interest rates may be uncorrelated, long term changes in interest rates are negatively autocorrelated. A daily move up or down in interest rates is unlikely to tell you anything about interest rates tomorrow, but a move in interest rates over a year can tell you something about where interest rates are going over the next year. And this makes some economic sense: over long horizons, when interest rates go up, the economy tends to slow down, which consequently causes interest rates to fall, and vice versa.\n",
    "\n",
    "The DataFrame daily_data contains daily data of 10-year interest rates from 1962 to 2017."
   ]
  },
  {
   "cell_type": "code",
   "execution_count": 235,
   "metadata": {},
   "outputs": [],
   "source": [
    "daily_data = pd.read_csv('input/SP500.csv', index_col=0)"
   ]
  },
  {
   "cell_type": "code",
   "execution_count": 236,
   "metadata": {},
   "outputs": [
    {
     "data": {
      "text/html": [
       "<div>\n",
       "<style scoped>\n",
       "    .dataframe tbody tr th:only-of-type {\n",
       "        vertical-align: middle;\n",
       "    }\n",
       "\n",
       "    .dataframe tbody tr th {\n",
       "        vertical-align: top;\n",
       "    }\n",
       "\n",
       "    .dataframe thead th {\n",
       "        text-align: right;\n",
       "    }\n",
       "</style>\n",
       "<table border=\"1\" class=\"dataframe\">\n",
       "  <thead>\n",
       "    <tr style=\"text-align: right;\">\n",
       "      <th></th>\n",
       "      <th>SP500</th>\n",
       "    </tr>\n",
       "    <tr>\n",
       "      <th>DATE</th>\n",
       "      <th></th>\n",
       "    </tr>\n",
       "  </thead>\n",
       "  <tbody>\n",
       "    <tr>\n",
       "      <th>2009-03-02</th>\n",
       "      <td>700.82</td>\n",
       "    </tr>\n",
       "    <tr>\n",
       "      <th>2009-03-03</th>\n",
       "      <td>696.33</td>\n",
       "    </tr>\n",
       "    <tr>\n",
       "      <th>2009-03-04</th>\n",
       "      <td>712.87</td>\n",
       "    </tr>\n",
       "    <tr>\n",
       "      <th>2009-03-05</th>\n",
       "      <td>682.55</td>\n",
       "    </tr>\n",
       "    <tr>\n",
       "      <th>2009-03-06</th>\n",
       "      <td>683.38</td>\n",
       "    </tr>\n",
       "  </tbody>\n",
       "</table>\n",
       "</div>"
      ],
      "text/plain": [
       "             SP500\n",
       "DATE              \n",
       "2009-03-02  700.82\n",
       "2009-03-03  696.33\n",
       "2009-03-04  712.87\n",
       "2009-03-05  682.55\n",
       "2009-03-06  683.38"
      ]
     },
     "execution_count": 236,
     "metadata": {},
     "output_type": "execute_result"
    }
   ],
   "source": [
    "daily_data.head()"
   ]
  },
  {
   "cell_type": "code",
   "execution_count": 237,
   "metadata": {},
   "outputs": [],
   "source": [
    "daily_data.index = pd.to_datetime(daily_data.index)"
   ]
  },
  {
   "cell_type": "code",
   "execution_count": 238,
   "metadata": {},
   "outputs": [
    {
     "data": {
      "text/plain": [
       "<matplotlib.axes._subplots.AxesSubplot at 0x1f8bc7f69b0>"
      ]
     },
     "execution_count": 238,
     "metadata": {},
     "output_type": "execute_result"
    },
    {
     "data": {
      "image/png": "[encoded data removed]",
      "text/plain": [
       "<Figure size 432x288 with 1 Axes>"
      ]
     },
     "metadata": {},
     "output_type": "display_data"
    }
   ],
   "source": [
    "sns.lineplot(data=daily_data, y='SP500',x = daily_data.index)"
   ]
  },
  {
   "cell_type": "code",
   "execution_count": 239,
   "metadata": {},
   "outputs": [
    {
     "name": "stdout",
     "output_type": "stream",
     "text": [
      "The autocorrelation of daily interest rate changes is -0.03\n"
     ]
    }
   ],
   "source": [
    "# Compute the daily change in interest rates \n",
    "daily_data['change_rates'] = daily_data.diff()\n",
    "\n",
    "# Compute and print the autocorrelation of daily changes\n",
    "autocorrelation_daily = daily_data['change_rates'].autocorr()\n",
    "print(\"The autocorrelation of daily interest rate changes is %4.2f\" %(autocorrelation_daily))"
   ]
  },
  {
   "cell_type": "code",
   "execution_count": 240,
   "metadata": {},
   "outputs": [
    {
     "name": "stdout",
     "output_type": "stream",
     "text": [
      "The autocorrelation of annual interest rate changes is -0.37\n"
     ]
    }
   ],
   "source": [
    "# Convert the daily data to annual data\n",
    "annual_data = daily_data['SP500'].resample(rule='A', how='last')\n",
    "\n",
    "# Repeat above for annual data\n",
    "annual_data['diff_rates'] = annual_data.diff()\n",
    "autocorrelation_annual = annual_data['diff_rates'].autocorr()\n",
    "print(\"The autocorrelation of annual interest rate changes is %4.2f\" %(autocorrelation_annual))"
   ]
  },
  {
   "cell_type": "code",
   "execution_count": null,
   "metadata": {},
   "outputs": [],
   "source": []
  }
 ],
 "metadata": {
  "kernelspec": {
   "display_name": "Python [conda env:sklearn]",
   "language": "python",
   "name": "conda-env-sklearn-py"
  },
  "language_info": {
   "codemirror_mode": {
    "name": "ipython",
    "version": 3
   },
   "file_extension": ".py",
   "mimetype": "text/x-python",
   "name": "python",
   "nbconvert_exporter": "python",
   "pygments_lexer": "ipython3",
   "version": "3.6.6"
  }
 },
 "nbformat": 4,
 "nbformat_minor": 2
}
