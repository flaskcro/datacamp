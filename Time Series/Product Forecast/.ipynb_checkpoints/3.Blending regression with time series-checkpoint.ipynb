{
 "cells": [
  {
   "cell_type": "markdown",
   "metadata": {},
   "source": [
    "## 3.Blending regression with time series"
   ]
  },
  {
   "cell_type": "code",
   "execution_count": 86,
   "metadata": {},
   "outputs": [],
   "source": [
    "library(xts)"
   ]
  },
  {
   "cell_type": "code",
   "execution_count": 87,
   "metadata": {},
   "outputs": [],
   "source": [
    "load(\"model_MET_hi.rda\")"
   ]
  },
  {
   "cell_type": "code",
   "execution_count": 88,
   "metadata": {
    "scrolled": false
   },
   "outputs": [
    {
     "data": {
      "text/plain": [
       "\n",
       "Call:\n",
       "lm(formula = log_sales ~ log_price, data = MET_hi_train)\n",
       "\n",
       "Coefficients:\n",
       "(Intercept)    log_price  \n",
       "     13.977       -1.517  \n"
      ]
     },
     "metadata": {},
     "output_type": "display_data"
    }
   ],
   "source": [
    "model_MET_hi"
   ]
  },
  {
   "cell_type": "code",
   "execution_count": 89,
   "metadata": {},
   "outputs": [],
   "source": [
    "dates_train <- seq(as.Date(\"2014-01-19\"), length = 154, by = 'weeks')"
   ]
  },
  {
   "cell_type": "code",
   "execution_count": 90,
   "metadata": {},
   "outputs": [],
   "source": [
    "bev = read.csv('./input/Bev.csv')\n",
    "# Create the dates object as an index for your xts object\n",
    "dates <- seq(as.Date(\"2014-01-19\"), length = 176, by = \"weeks\")\n",
    "\n",
    "# Create an xts object called bev_xts\n",
    "bev_xts <- xts(bev, order.by = dates)"
   ]
  },
  {
   "cell_type": "markdown",
   "metadata": {},
   "source": [
    "<b>Calculating residuals from regression</b>\n",
    "\n",
    "Your previous model that predicts the log of sales from the log of price along with holiday and promotion effects is saved in the model_MET_hi_full object. Your data frame that has the data that built this model is in the object MET_hi_train. Now let's see where we went wrong."
   ]
  },
  {
   "cell_type": "code",
   "execution_count": 91,
   "metadata": {},
   "outputs": [],
   "source": [
    "# Calculate the residuals from the model\n",
    "MET_hi_res <- residuals(model_MET_hi)\n",
    "\n",
    "# Convert the residuals to an xts object\n",
    "MET_hi_full_res <- xts(MET_hi_res, order = dates_train)"
   ]
  },
  {
   "cell_type": "code",
   "execution_count": 92,
   "metadata": {},
   "outputs": [
    {
     "data": {
      "text/plain": [
       "                    [,1]\n",
       "2014-01-19 -0.0555516071\n",
       "2014-01-26 -0.3179109204\n",
       "2014-02-02 -0.2793651232\n",
       "2014-02-09 -0.1233472588\n",
       "2014-02-16 -0.1791012265\n",
       "2014-02-23  0.0593078687\n",
       "2014-03-02  0.2200723471\n",
       "2014-03-09  0.3451655652\n",
       "2014-03-16  0.1350037395\n",
       "2014-03-23 -0.0628914870\n",
       "2014-03-30 -0.0932909278\n",
       "2014-04-06 -0.2449796112\n",
       "2014-04-13 -0.4184825955\n",
       "2014-04-20 -0.3702483087\n",
       "2014-04-27 -0.3253857439\n",
       "2014-05-04 -0.2025274543\n",
       "2014-05-11  0.1221052355\n",
       "2014-05-18  0.1007419576\n",
       "2014-05-25  0.0504159376\n",
       "2014-06-01 -0.0598421655\n",
       "2014-06-08  0.0008490571\n",
       "2014-06-15  0.3779382030\n",
       "2014-06-22  0.5549129534\n",
       "2014-06-29  0.3746711162\n",
       "2014-07-06  0.3739236279\n",
       "2014-07-13  0.0222191303\n",
       "2014-07-20 -0.0347243138\n",
       "2014-07-27 -0.2220189109\n",
       "2014-08-03 -0.3040493543\n",
       "2014-08-10 -0.4589448509\n",
       "2014-08-17 -0.4527375917\n",
       "2014-08-24 -0.4162298477\n",
       "2014-08-31 -0.4671131334\n",
       "2014-09-07 -0.4755817427\n",
       "2014-09-14 -0.2499429645\n",
       "2014-09-21 -0.1363795569\n",
       "2014-09-28  0.2070092019\n",
       "2014-10-05  0.3100431975\n",
       "2014-10-12  0.3377130947\n",
       "2014-10-19  0.2935944325\n",
       "2014-10-26  0.1345382031\n",
       "2014-11-02  0.0429719557\n",
       "2014-11-09 -0.2602061842\n",
       "2014-11-16 -0.2494120686\n",
       "2014-11-23 -0.1422948813\n",
       "2014-11-30 -0.0726109787\n",
       "2014-12-07  0.1800903071\n",
       "2014-12-14  0.2333630228\n",
       "2014-12-21  0.4089946632\n",
       "2014-12-28  0.2122145008\n",
       "2015-01-04  0.2382506435\n",
       "2015-01-11  0.0602633548\n",
       "2015-01-18  0.2176057734\n",
       "2015-01-25  0.2256902372\n",
       "2015-02-01  0.1513266276\n",
       "2015-02-08  0.2912763547\n",
       "2015-02-15 -0.3995295445\n",
       "2015-02-22 -0.3993136354\n",
       "2015-03-01 -0.2947013803\n",
       "2015-03-08 -0.1526748891\n",
       "2015-03-15  0.0261573000\n",
       "2015-03-22  0.1522345436\n",
       "2015-03-29  0.4776138771\n",
       "2015-04-05  0.6309993762\n",
       "2015-04-12  0.4735618698\n",
       "2015-04-19  0.4133119907\n",
       "2015-04-26  0.3024686926\n",
       "2015-05-03 -0.0119643150\n",
       "2015-05-10  0.1220748905\n",
       "2015-05-17 -0.5197449050\n",
       "2015-05-24 -0.3969789233\n",
       "2015-05-31 -0.3013307801\n",
       "2015-06-07 -0.0183703127\n",
       "2015-06-14 -0.0193371632\n",
       "2015-06-21  0.1320374580\n",
       "2015-06-28 -0.0305730440\n",
       "2015-07-05 -0.1536144469\n",
       "2015-07-12 -0.2206038296\n",
       "2015-07-19 -0.2057334729\n",
       "2015-07-26 -0.1860645235\n",
       "2015-08-02 -0.0201120871\n",
       "2015-08-09  0.1228173078\n",
       "2015-08-16 -0.1237486231\n",
       "2015-08-23 -0.3516611304\n",
       "2015-08-30 -0.4135507119\n",
       "2015-09-06 -0.4197504964\n",
       "2015-09-13 -0.4692251687\n",
       "2015-09-20 -0.3580909180\n",
       "2015-09-27 -0.1849157491\n",
       "2015-10-04 -0.1599981286\n",
       "2015-10-11  0.4389277245\n",
       "2015-10-18  0.5599551689\n",
       "2015-10-25  0.5845520010\n",
       "2015-11-01  0.2733745866\n",
       "2015-11-08  0.1284310083\n",
       "2015-11-15 -0.0562679343\n",
       "2015-11-22 -0.1940910086\n",
       "2015-11-29 -0.5289571808\n",
       "2015-12-06 -0.4926173585\n",
       "2015-12-13 -0.4929454693\n",
       "2015-12-20  0.4379150874\n",
       "2015-12-27  0.5217986862\n",
       "2016-01-03  0.1751312975\n",
       "2016-01-10  0.3682810150\n",
       "2016-01-17  0.5979727342\n",
       "2016-01-24  0.5630682872\n",
       "2016-01-31  0.5938589834\n",
       "2016-02-07  0.6740179568\n",
       "2016-02-14 -0.0567546904\n",
       "2016-02-21 -0.3431459767\n",
       "2016-02-28 -0.5110800575\n",
       "2016-03-06 -0.5891440179\n",
       "2016-03-13 -0.2364576522\n",
       "2016-03-20 -0.0783033436\n",
       "2016-03-27  0.2545881991\n",
       "2016-04-03  0.3815986613\n",
       "2016-04-10  0.3884379181\n",
       "2016-04-17  0.4568651319\n",
       "2016-04-24  0.1975890575\n",
       "2016-05-01 -0.1085361772\n",
       "2016-05-08  0.3972831154\n",
       "2016-05-15 -0.4292017764\n",
       "2016-05-22 -0.2428691127\n",
       "2016-05-29  0.0173923288\n",
       "2016-06-05  0.2754038199\n",
       "2016-06-12  0.3689167946\n",
       "2016-06-19  0.4999688175\n",
       "2016-06-26  0.3887748146\n",
       "2016-07-03  0.4671819156\n",
       "2016-07-10  0.5439345585\n",
       "2016-07-17  0.4248799661\n",
       "2016-07-24  0.2171552813\n",
       "2016-07-31  0.0808400248\n",
       "2016-08-07 -0.1935444165\n",
       "2016-08-14 -0.2727570950\n",
       "2016-08-21 -0.4974474851\n",
       "2016-08-28 -0.6804646972\n",
       "2016-09-04 -0.7864359836\n",
       "2016-09-11 -0.8489893141\n",
       "2016-09-18 -0.6943351390\n",
       "2016-09-25 -0.4045714008\n",
       "2016-10-02 -0.3274584061\n",
       "2016-10-09 -0.0506723705\n",
       "2016-10-16  0.0254946965\n",
       "2016-10-23 -0.0480841928\n",
       "2016-10-30  0.0018353425\n",
       "2016-11-06  0.1107681978\n",
       "2016-11-13  0.2585140348\n",
       "2016-11-20  0.1705635525\n",
       "2016-11-27  0.0748947245\n",
       "2016-12-04  0.1559848634\n",
       "2016-12-11 -0.0202695666\n",
       "2016-12-18  0.2315925686\n",
       "2016-12-25  0.2288682731"
      ]
     },
     "metadata": {},
     "output_type": "display_data"
    }
   ],
   "source": [
    "MET_hi_full_res"
   ]
  },
  {
   "cell_type": "markdown",
   "metadata": {},
   "source": [
    "<b>Visualizing residuals</b>\n",
    "\n",
    "Now that you have the residuals, let's take a couple of different looks at those residuals."
   ]
  },
  {
   "cell_type": "code",
   "execution_count": 93,
   "metadata": {
    "scrolled": true
   },
   "outputs": [
    {
     "data": {},
     "metadata": {},
     "output_type": "display_data"
    },
    {
     "data": {
      "image/png": "[encoded data removed]",
      "text/plain": [
       "Plot with title \"Histogram of MET_hi_full_res\""
      ]
     },
     "metadata": {},
     "output_type": "display_data"
    },
    {
     "data": {
      "image/png": "[encoded data removed]",
      "text/plain": [
       "plot without title"
      ]
     },
     "metadata": {},
     "output_type": "display_data"
    }
   ],
   "source": [
    "# Plot the histogram of the residuals\n",
    "hist(MET_hi_full_res)\n",
    "\n",
    "# Plot the residuals over time\n",
    "plot(MET_hi_full_res)"
   ]
  },
  {
   "cell_type": "markdown",
   "metadata": {},
   "source": [
    "<b>auto.arima function</b>\n",
    "\n",
    "Let's try to forecast the residuals from the model using time series! Your residuals are stored as MET_hi_full_res."
   ]
  },
  {
   "cell_type": "code",
   "execution_count": 94,
   "metadata": {
    "scrolled": true
   },
   "outputs": [
    {
     "name": "stdout",
     "output_type": "stream",
     "text": [
      "Series: MET_hi_full_res \n",
      "ARIMA(2,0,2) with zero mean \n",
      "\n",
      "Coefficients:\n",
      "         ar1      ar2      ma1     ma2\n",
      "      1.5789  -0.7734  -0.7597  0.1967\n",
      "s.e.  0.0944   0.0731   0.1245  0.0993\n",
      "\n",
      "sigma^2 estimated as 0.03853:  log likelihood=33.54\n",
      "AIC=-57.09   AICc=-56.68   BIC=-41.9\n",
      "\n",
      "Training set error measures:\n",
      "                       ME      RMSE       MAE      MPE     MAPE     MASE\n",
      "Training set 0.0006986756 0.1937295 0.1425958 71.63649 165.3714 0.506635\n",
      "                    ACF1\n",
      "Training set 0.002426363\n"
     ]
    }
   ],
   "source": [
    "library(forecast)\n",
    "# Build an ARIMA model on the residuals: MET_hi_arima\n",
    "MET_hi_arima = auto.arima(MET_hi_full_res)\n",
    "\n",
    "# Look at a summary of the model\n",
    "summary(MET_hi_arima)"
   ]
  },
  {
   "cell_type": "markdown",
   "metadata": {},
   "source": [
    "<b>Forecasting residuals with time series</b>\n",
    "\n",
    "Now that you have a model for these residuals, we need to forecast them. Your model is saved as MET_hi_arima."
   ]
  },
  {
   "cell_type": "code",
   "execution_count": 95,
   "metadata": {},
   "outputs": [],
   "source": [
    "# Forecast 22 weeks with your model: for_MET_hi_arima\n",
    "for_MET_hi_arima = forecast(MET_hi_arima, h=22)"
   ]
  },
  {
   "cell_type": "code",
   "execution_count": 96,
   "metadata": {
    "scrolled": false
   },
   "outputs": [
    {
     "data": {
      "text/plain": [
       "$method\n",
       "[1] \"ARIMA(2,0,2) with zero mean\"\n",
       "\n",
       "$model\n",
       "Series: MET_hi_full_res \n",
       "ARIMA(2,0,2) with zero mean \n",
       "\n",
       "Coefficients:\n",
       "         ar1      ar2      ma1     ma2\n",
       "      1.5789  -0.7734  -0.7597  0.1967\n",
       "s.e.  0.0944   0.0731   0.1245  0.0993\n",
       "\n",
       "sigma^2 estimated as 0.03853:  log likelihood=33.54\n",
       "AIC=-57.09   AICc=-56.68   BIC=-41.9\n",
       "\n",
       "$level\n",
       "[1] 80 95\n",
       "\n",
       "$mean\n",
       "Time Series:\n",
       "Start = 1079 \n",
       "End = 1226 \n",
       "Frequency = 0.142857142857143 \n",
       " [1]  0.175174130  0.115933201  0.047565655 -0.014562290 -0.059779961\n",
       " [6] -0.083123806 -0.085009664 -0.069932946 -0.044669831 -0.016442420\n",
       "[11]  0.008587076  0.026274788  0.034843871  0.034693769  0.027829385\n",
       "[16]  0.017107320  0.005487251 -0.004567118 -0.011454885 -0.014553840\n",
       "[21] -0.014119722 -0.011037541\n",
       "\n",
       "$lower\n",
       "Time Series:\n",
       "Start = 1079 \n",
       "End = 1226 \n",
       "Frequency = 0.142857142857143 \n",
       "            80%        95%\n",
       "1079 -0.0763888 -0.2095582\n",
       "1086 -0.2092594 -0.3814060\n",
       "1093 -0.3242633 -0.5210976\n",
       "1100 -0.4069323 -0.6146404\n",
       "1107 -0.4564689 -0.6664633\n",
       "1114 -0.4798409 -0.6898503\n",
       "1121 -0.4852006 -0.6970488\n",
       "1128 -0.4779277 -0.6939070\n",
       "1135 -0.4613632 -0.6819474\n",
       "1142 -0.4393629 -0.6632435\n",
       "1149 -0.4171236 -0.6424813\n",
       "1156 -0.3999490 -0.6255782\n",
       "1163 -0.3914050 -0.6170475\n",
       "1170 -0.3922008 -0.6181852\n",
       "1177 -0.4003762 -0.6270546\n",
       "1184 -0.4125029 -0.6399249\n",
       "1191 -0.4250947 -0.6530311\n",
       "1198 -0.4355594 -0.6637129\n",
       "1205 -0.4425094 -0.6706959\n",
       "1212 -0.4456186 -0.6738105\n",
       "1219 -0.4453090 -0.6735669\n",
       "1226 -0.4424561 -0.6708352\n",
       "\n",
       "$upper\n",
       "Time Series:\n",
       "Start = 1079 \n",
       "End = 1226 \n",
       "Frequency = 0.142857142857143 \n",
       "           80%       95%\n",
       "1079 0.4267371 0.5599064\n",
       "1086 0.4411258 0.6132724\n",
       "1093 0.4193946 0.6162289\n",
       "1100 0.3778077 0.5855158\n",
       "1107 0.3369090 0.5469034\n",
       "1114 0.3135933 0.5236026\n",
       "1121 0.3151812 0.5270295\n",
       "1128 0.3380618 0.5540411\n",
       "1135 0.3720236 0.5926077\n",
       "1142 0.4064781 0.6303587\n",
       "1149 0.4342978 0.6596554\n",
       "1156 0.4524986 0.6781278\n",
       "1163 0.4610927 0.6867353\n",
       "1170 0.4615884 0.6875727\n",
       "1177 0.4560350 0.6827134\n",
       "1184 0.4467176 0.6741395\n",
       "1191 0.4360692 0.6640056\n",
       "1198 0.4264251 0.6545787\n",
       "1205 0.4195996 0.6477861\n",
       "1212 0.4165109 0.6447028\n",
       "1219 0.4170696 0.6453274\n",
       "1226 0.4203810 0.6487602\n",
       "\n",
       "$x\n",
       "Time Series:\n",
       "Start = 1 \n",
       "End = 1072 \n",
       "Frequency = 0.142857142857143 \n",
       "  [1] -0.0555516071 -0.3179109204 -0.2793651232 -0.1233472588 -0.1791012265\n",
       "  [6]  0.0593078687  0.2200723471  0.3451655652  0.1350037395 -0.0628914870\n",
       " [11] -0.0932909278 -0.2449796112 -0.4184825955 -0.3702483087 -0.3253857439\n",
       " [16] -0.2025274543  0.1221052355  0.1007419576  0.0504159376 -0.0598421655\n",
       " [21]  0.0008490571  0.3779382030  0.5549129534  0.3746711162  0.3739236279\n",
       " [26]  0.0222191303 -0.0347243138 -0.2220189109 -0.3040493543 -0.4589448509\n",
       " [31] -0.4527375917 -0.4162298477 -0.4671131334 -0.4755817427 -0.2499429645\n",
       " [36] -0.1363795569  0.2070092019  0.3100431975  0.3377130947  0.2935944325\n",
       " [41]  0.1345382031  0.0429719557 -0.2602061842 -0.2494120686 -0.1422948813\n",
       " [46] -0.0726109787  0.1800903071  0.2333630228  0.4089946632  0.2122145008\n",
       " [51]  0.2382506435  0.0602633548  0.2176057734  0.2256902372  0.1513266276\n",
       " [56]  0.2912763547 -0.3995295445 -0.3993136354 -0.2947013803 -0.1526748891\n",
       " [61]  0.0261573000  0.1522345436  0.4776138771  0.6309993762  0.4735618698\n",
       " [66]  0.4133119907  0.3024686926 -0.0119643150  0.1220748905 -0.5197449050\n",
       " [71] -0.3969789233 -0.3013307801 -0.0183703127 -0.0193371632  0.1320374580\n",
       " [76] -0.0305730440 -0.1536144469 -0.2206038296 -0.2057334729 -0.1860645235\n",
       " [81] -0.0201120871  0.1228173078 -0.1237486231 -0.3516611304 -0.4135507119\n",
       " [86] -0.4197504964 -0.4692251687 -0.3580909180 -0.1849157491 -0.1599981286\n",
       " [91]  0.4389277245  0.5599551689  0.5845520010  0.2733745866  0.1284310083\n",
       " [96] -0.0562679343 -0.1940910086 -0.5289571808 -0.4926173585 -0.4929454693\n",
       "[101]  0.4379150874  0.5217986862  0.1751312975  0.3682810150  0.5979727342\n",
       "[106]  0.5630682872  0.5938589834  0.6740179568 -0.0567546904 -0.3431459767\n",
       "[111] -0.5110800575 -0.5891440179 -0.2364576522 -0.0783033436  0.2545881991\n",
       "[116]  0.3815986613  0.3884379181  0.4568651319  0.1975890575 -0.1085361772\n",
       "[121]  0.3972831154 -0.4292017764 -0.2428691127  0.0173923288  0.2754038199\n",
       "[126]  0.3689167946  0.4999688175  0.3887748146  0.4671819156  0.5439345585\n",
       "[131]  0.4248799661  0.2171552813  0.0808400248 -0.1935444165 -0.2727570950\n",
       "[136] -0.4974474851 -0.6804646972 -0.7864359836 -0.8489893141 -0.6943351390\n",
       "[141] -0.4045714008 -0.3274584061 -0.0506723705  0.0254946965 -0.0480841928\n",
       "[146]  0.0018353425  0.1107681978  0.2585140348  0.1705635525  0.0748947245\n",
       "[151]  0.1559848634 -0.0202695666  0.2315925686  0.2288682731\n",
       "\n",
       "$series\n",
       "[1] \"MET_hi_full_res\"\n",
       "\n",
       "$fitted\n",
       "Time Series:\n",
       "Start = 1 \n",
       "End = 1072 \n",
       "Frequency = 0.142857142857143 \n",
       "  [1] -0.02320580 -0.06427572 -0.28641917 -0.24431645 -0.06945853 -0.08061197\n",
       "  [7]  0.10433963  0.24119347  0.31855157  0.10610195 -0.11143096 -0.14568167\n",
       " [13] -0.23563816 -0.35189443 -0.28295163 -0.19877021 -0.07360747  0.20000101\n",
       " [19]  0.17853402  0.07949518 -0.05282206 -0.02056264  0.30387636  0.47152456\n",
       " [25]  0.28535903  0.21427597 -0.09078095 -0.15237937 -0.25975467 -0.28839927\n",
       " [31] -0.36861873 -0.32951726 -0.25770372 -0.27357308 -0.27735001 -0.08737666\n",
       " [37]  0.02059855  0.28106265  0.34407719  0.30396050  0.20898903  0.03987679\n",
       " [43] -0.05320189 -0.28619856 -0.26121992 -0.11488543 -0.01331543  0.20188312\n",
       " [49]  0.24330362  0.34558904  0.15266786  0.12078837 -0.02629703  0.09976378\n",
       " [55]  0.14035483  0.08081534  0.18512436 -0.37051391 -0.41460892 -0.25323314\n",
       " [61] -0.06594212  0.10919114  0.20554902  0.43813708  0.53389130  0.34345938\n",
       " [67]  0.22138424  0.11004803 -0.14417528 -0.02428180 -0.48624551 -0.39009947\n",
       " [73] -0.21862311  0.06937223  0.09046456  0.17439424  0.01350631 -0.13225137\n",
       " [79] -0.19525660 -0.16363647 -0.11968284  0.03209041  0.16013079 -0.05685643\n",
       " [85] -0.29140301 -0.34617196 -0.31102913 -0.31050915 -0.19745777 -0.03390158\n",
       " [91] -0.01133960  0.44988085  0.54959182  0.48496765  0.14716323 -0.03604364\n",
       " [97] -0.17649081 -0.25353886 -0.47927790 -0.41273854 -0.33900531  0.46664712\n",
       "[103]  0.59611493  0.20363207  0.23812661  0.41831210  0.38736435  0.37375854\n",
       "[109]  0.41741735 -0.19159346 -0.47603834 -0.54474240 -0.50808509 -0.13279055\n",
       "[115]  0.07128425  0.33398716  0.40549242  0.34049509  0.32915823  0.08147847\n",
       "[121] -0.20570774  0.21572569 -0.37634023 -0.27978843  0.01577846  0.28260050\n",
       "[127]  0.35497906  0.41090423  0.27249042  0.28468582  0.33883691  0.23578908\n",
       "[133]  0.04534350 -0.07094454 -0.26798400 -0.30145821 -0.42650722 -0.53527149\n",
       "[139] -0.57456777 -0.57315572 -0.40159035 -0.12334636 -0.04964234  0.13388193\n",
       "[145]  0.16158557  0.04233146  0.02960624  0.10384505  0.22095850  0.13807828\n",
       "[151]  0.02442437  0.07598085 -0.05363913  0.14570579\n",
       "\n",
       "$residuals\n",
       "Time Series:\n",
       "Start = 1 \n",
       "End = 1072 \n",
       "Frequency = 0.142857142857143 \n",
       "  [1] -0.032345804 -0.253635199  0.007054051  0.120969191 -0.109642699\n",
       "  [6]  0.139919839  0.115732712  0.103972099 -0.183547827 -0.168993441\n",
       " [11]  0.018140031 -0.099297940 -0.182844436 -0.018353878 -0.042434116\n",
       " [16] -0.003757240  0.195712706 -0.099259053 -0.128118078 -0.139337350\n",
       " [21]  0.053671114  0.398500840  0.251036598 -0.096853442  0.088564598\n",
       " [26] -0.192056839  0.056056633 -0.069639542 -0.044294683 -0.170545579\n",
       " [31] -0.084118860 -0.086712587 -0.209409410 -0.202008663  0.027407042\n",
       " [36] -0.049002892  0.186410653  0.028980544 -0.006364093 -0.010366070\n",
       " [41] -0.074450822  0.003095170 -0.207004292  0.036786496  0.118925040\n",
       " [46]  0.042274455  0.193405740  0.031479903  0.165691042 -0.133374538\n",
       " [51]  0.085582782 -0.060525018  0.243902800  0.125926457  0.010971797\n",
       " [56]  0.210461015 -0.584653909 -0.028799723  0.119907539  0.100558247\n",
       " [61]  0.092099425  0.043043407  0.272064857  0.192862291 -0.060329426\n",
       " [66]  0.069852613  0.081084450 -0.122012344  0.266250168 -0.495463107\n",
       " [71]  0.089266589  0.088768686  0.200252800 -0.088709394  0.041572901\n",
       " [76] -0.204967282 -0.167120756 -0.088352459 -0.010476872 -0.022428057\n",
       " [81]  0.099570750  0.090726898 -0.283879413 -0.294804703 -0.122147702\n",
       " [86] -0.073578535 -0.158196043 -0.047581763  0.012542026 -0.126096552\n",
       " [91]  0.450267324  0.110074315  0.034960184 -0.211593068 -0.018732224\n",
       " [96] -0.020224292 -0.017600199 -0.275418320 -0.013339458 -0.080206926\n",
       "[101]  0.776920393  0.055151564 -0.420983628  0.164648947  0.359846121\n",
       "[106]  0.144756191  0.206494630  0.300259422 -0.474172040 -0.151552518\n",
       "[111] -0.035041721 -0.044401614  0.271627438  0.054487206  0.183303952\n",
       "[116]  0.047611501 -0.017054501  0.116370044 -0.131569174 -0.190014652\n",
       "[121]  0.602990857 -0.644927464  0.133471119  0.297180760  0.259625363\n",
       "[126]  0.086316293  0.144989753 -0.022129418  0.194691491  0.259248737\n",
       "[131]  0.086043056 -0.018633800  0.035496529 -0.122599876 -0.004773091\n",
       "[136] -0.195989280 -0.253957472 -0.251164493 -0.274421543 -0.121179416\n",
       "[141] -0.002981051 -0.204112041 -0.001030026 -0.108387237 -0.209669767\n",
       "[146] -0.040496122  0.081161960  0.154668987 -0.050394947 -0.063183553\n",
       "[151]  0.131560491 -0.096250413  0.285231702  0.083162483\n"
      ]
     },
     "metadata": {},
     "output_type": "display_data"
    }
   ],
   "source": [
    "# Print first 10 observations\n",
    "head(for_MET_hi_arima, n = 10)"
   ]
  },
  {
   "cell_type": "markdown",
   "metadata": {},
   "source": [
    "<b>Visualizing residual forecasts</b>\n",
    "\n",
    "Like we have done throughout the course, we should visualize what these forecasts look like."
   ]
  },
  {
   "cell_type": "code",
   "execution_count": 97,
   "metadata": {
    "scrolled": true
   },
   "outputs": [
    {
     "data": {},
     "metadata": {},
     "output_type": "display_data"
    },
    {
     "data": {
      "image/png": "[encoded data removed]",
      "text/plain": [
       "plot without title"
      ]
     },
     "metadata": {},
     "output_type": "display_data"
    }
   ],
   "source": [
    "# Convert your forecasts into an xts object\n",
    "dates_valid <- seq(as.Date(\"2017-01-01\"), length = 22, by = \"weeks\")\n",
    "for_MET_hi_arima <- xts(for_MET_hi_arima$mean, order.by = dates_valid)\n",
    "\n",
    "# Plot the forecast\n",
    "plot(for_MET_hi_arima)"
   ]
  },
  {
   "cell_type": "markdown",
   "metadata": {},
   "source": [
    "<b>Combining residuals from regression & time series</b>\n",
    "\n",
    "The residuals from the two different models that you have developed now need to be combined together! Once they are combined we will have our full forecast.\n",
    "\n",
    "Your regression forecast is saved in the workspace as pred_MET_hi_xts."
   ]
  },
  {
   "cell_type": "code",
   "execution_count": 98,
   "metadata": {},
   "outputs": [],
   "source": [
    "load(\"pred_MET_hi_xts.rda\")"
   ]
  },
  {
   "cell_type": "code",
   "execution_count": 99,
   "metadata": {},
   "outputs": [],
   "source": [
    "bev_xts_valid <- bev_xts[index(bev_xts) >= \"2017-01-01\"]\n",
    "MET_hi_v <- bev_xts_valid[,\"MET.hi\"]"
   ]
  },
  {
   "cell_type": "code",
   "execution_count": 100,
   "metadata": {},
   "outputs": [
    {
     "data": {
      "text/plain": [
       "               [,1]\n",
       "2017-01-01 2560.006\n",
       "2017-01-08 2586.904\n",
       "2017-01-15 1974.262\n",
       "2017-01-22 2092.230\n",
       "2017-01-29 2293.419\n",
       "2017-02-05 2382.812"
      ]
     },
     "metadata": {},
     "output_type": "display_data"
    }
   ],
   "source": [
    "head(pred_MET_hi_xts)"
   ]
  },
  {
   "cell_type": "code",
   "execution_count": 101,
   "metadata": {},
   "outputs": [
    {
     "data": {
      "text/plain": [
       "                  [,1]\n",
       "2017-01-01  0.17517413\n",
       "2017-01-08  0.11593320\n",
       "2017-01-15  0.04756566\n",
       "2017-01-22 -0.01456229\n",
       "2017-01-29 -0.05977996\n",
       "2017-02-05 -0.08312381"
      ]
     },
     "metadata": {},
     "output_type": "display_data"
    }
   ],
   "source": [
    "head(for_MET_hi_arima)"
   ]
  },
  {
   "cell_type": "code",
   "execution_count": 102,
   "metadata": {},
   "outputs": [],
   "source": [
    "# Convert your residual forecast to the exponential version\n",
    "for_MET_hi_arima <- exp(for_MET_hi_arima)\n",
    "\n",
    "# Multiply your forecasts together!\n",
    "for_MET_hi_final <- pred_MET_hi_xts * for_MET_hi_arima"
   ]
  },
  {
   "cell_type": "code",
   "execution_count": 103,
   "metadata": {
    "scrolled": true
   },
   "outputs": [
    {
     "data": {
      "text/plain": [
       "               [,1]\n",
       "2017-01-01 3050.128\n",
       "2017-01-08 2904.889\n",
       "2017-01-15 2070.438\n",
       "2017-01-22 2061.983\n",
       "2017-01-29 2160.336\n",
       "2017-02-05 2192.753\n",
       "2017-02-12 2102.334\n",
       "2017-02-19 2342.527\n",
       "2017-02-26 2096.142\n",
       "2017-03-05 2173.951\n",
       "2017-03-12 2213.470\n",
       "2017-03-19 2446.873\n",
       "2017-03-26 2406.954\n",
       "2017-04-02 2343.459\n",
       "2017-04-09 2403.974\n",
       "2017-04-16 2450.095\n",
       "2017-04-23 2126.574\n",
       "2017-04-30 2355.134\n",
       "2017-05-07 2594.330\n",
       "2017-05-14 2333.506\n",
       "2017-05-21 2500.035\n",
       "2017-05-28 2425.527"
      ]
     },
     "metadata": {},
     "output_type": "display_data"
    }
   ],
   "source": [
    "for_MET_hi_final"
   ]
  },
  {
   "cell_type": "code",
   "execution_count": 104,
   "metadata": {
    "scrolled": true
   },
   "outputs": [
    {
     "data": {},
     "metadata": {},
     "output_type": "display_data"
    },
    {
     "data": {},
     "metadata": {},
     "output_type": "display_data"
    },
    {
     "data": {
      "image/png": "[encoded data removed]",
      "text/plain": [
       "plot without title"
      ]
     },
     "metadata": {},
     "output_type": "display_data"
    },
    {
     "data": {
      "image/png": "[encoded data removed]",
      "text/plain": [
       "plot without title"
      ]
     },
     "metadata": {},
     "output_type": "display_data"
    }
   ],
   "source": [
    "# Plot the final forecast - don't touch the options!\n",
    "plot(for_MET_hi_final, col='red', ylim=c(1000,4000))\n",
    "\n",
    "# Overlay the validation data set\n",
    "lines(MET_hi_v, col = \"blue\")"
   ]
  },
  {
   "cell_type": "markdown",
   "metadata": {},
   "source": [
    "<b>Calculating transfer function MAPE and MAE</b>\n",
    "\n",
    "Just how off were these forecasts? The MAE and MAPE will help us understand this. Your validation data is stored as MET_hi_v and your final forecast is for_MET_hi_final. Sorry, but no initial code to help you here."
   ]
  },
  {
   "cell_type": "code",
   "execution_count": 105,
   "metadata": {},
   "outputs": [
    {
     "name": "stdout",
     "output_type": "stream",
     "text": [
      "[1] 494.7779\n",
      "[1] 29.46534\n"
     ]
    }
   ],
   "source": [
    "# Calculate the MAE\n",
    "MAE <- mean(abs(for_MET_hi_final - MET_hi_v))\n",
    "print(MAE)\n",
    "\n",
    "# Calculate the MAPE\n",
    "MAPE <- 100*mean(abs((for_MET_hi_final - MET_hi_v)/MET_hi_v))\n",
    "print(MAPE)"
   ]
  },
  {
   "cell_type": "markdown",
   "metadata": {},
   "source": [
    "<b>ARIMA Forecasting</b>\n",
    "\n",
    "Before we build an ensemble model we need an actual time series forecast of the demand itself so we can average the forecasts. The training data object MET_hi is saved in your workspace as well as the validation data MET_hi_v."
   ]
  },
  {
   "cell_type": "code",
   "execution_count": 106,
   "metadata": {},
   "outputs": [],
   "source": [
    "MET_hi <- bev_xts[,\"MET.hi\"]"
   ]
  },
  {
   "cell_type": "code",
   "execution_count": 107,
   "metadata": {
    "scrolled": true
   },
   "outputs": [],
   "source": [
    "# Build an ARIMA model using the auto.arima function\n",
    "MET_hi_model_arima <- auto.arima(MET_hi)\n",
    "\n",
    "# Forecast the ARIMA model\n",
    "for_MET_hi <- forecast(MET_hi_model_arima, h = 22)"
   ]
  },
  {
   "cell_type": "code",
   "execution_count": 108,
   "metadata": {},
   "outputs": [
    {
     "name": "stdout",
     "output_type": "stream",
     "text": [
      "[1] 36.95411\n"
     ]
    }
   ],
   "source": [
    "# Save the forecast as an xts object\n",
    "dates_valid <- seq(as.Date(\"2017-01-01\"), length = 22, by = \"weeks\")\n",
    "for_MET_hi_xts <- xts(for_MET_hi$mean, order.by = dates_valid)\n",
    "\n",
    "# Calculate the MAPE of the forecast\n",
    "MAPE <- 100*mean(abs((for_MET_hi_xts - MET_hi_v)/MET_hi_v))\n",
    "print(MAPE)"
   ]
  },
  {
   "cell_type": "code",
   "execution_count": 109,
   "metadata": {},
   "outputs": [
    {
     "name": "stdout",
     "output_type": "stream",
     "text": [
      "Series: MET_hi \n",
      "ARIMA(2,0,1) with non-zero mean \n",
      "\n",
      "Coefficients:\n",
      "         ar1      ar2      ma1       mean\n",
      "      1.5053  -0.6607  -0.5838  2535.3941\n",
      "s.e.  0.1113   0.0869   0.1259   105.8614\n",
      "\n",
      "sigma^2 estimated as 279504:  log likelihood=-1351.88\n",
      "AIC=2713.76   AICc=2714.12   BIC=2729.62\n",
      "\n",
      "Training set error measures:\n",
      "                     ME    RMSE      MAE       MPE     MAPE      MASE\n",
      "Training set -0.1804762 522.639 378.6062 -4.498455 16.10262 0.1493047\n",
      "                    ACF1\n",
      "Training set -0.02294005\n"
     ]
    }
   ],
   "source": [
    "summary(MET_hi_model_arima)"
   ]
  },
  {
   "cell_type": "markdown",
   "metadata": {},
   "source": [
    "<b>Ensembling of Forecasts</b>\n",
    "\n",
    "Now that you have two forecasts (your regression and your time series) we can ensemble their forecasts to see if that helps the forecasts. Your two forecasts are saved as for_MET_hi_xts and pred_MET_hi_xts in your workspace as well as the validation data set MET_hi_v."
   ]
  },
  {
   "cell_type": "code",
   "execution_count": 110,
   "metadata": {},
   "outputs": [
    {
     "name": "stdout",
     "output_type": "stream",
     "text": [
      "[1] 533.8911\n",
      "[1] 32.28549\n"
     ]
    }
   ],
   "source": [
    "# Ensemble the two forecasts together\n",
    "for_MET_hi_en <- 0.5*(for_MET_hi_xts + pred_MET_hi_xts)\n",
    "\n",
    "# Calculate the MAE and MAPE\n",
    "MAE <- mean(abs(for_MET_hi_en - MET_hi_v))\n",
    "print(MAE)\n",
    "\n",
    "MAPE <-  100 * mean(abs(for_MET_hi_en - MET_hi_v)/MET_hi_v)\n",
    "print(MAPE)"
   ]
  },
  {
   "cell_type": "code",
   "execution_count": 111,
   "metadata": {},
   "outputs": [
    {
     "data": {},
     "metadata": {},
     "output_type": "display_data"
    },
    {
     "data": {},
     "metadata": {},
     "output_type": "display_data"
    },
    {
     "data": {
      "image/png": "[encoded data removed]",
      "text/plain": [
       "plot without title"
      ]
     },
     "metadata": {},
     "output_type": "display_data"
    },
    {
     "data": {
      "image/png": "[encoded data removed]",
      "text/plain": [
       "plot without title"
      ]
     },
     "metadata": {},
     "output_type": "display_data"
    }
   ],
   "source": [
    "# Plot the final forecast - don't touch the options!\n",
    "plot(for_MET_hi_en, col='red', ylim=c(1000,4000))\n",
    "\n",
    "# Overlay the validation data set\n",
    "lines(MET_hi_v, col = \"blue\")"
   ]
  },
  {
   "cell_type": "code",
   "execution_count": null,
   "metadata": {},
   "outputs": [],
   "source": []
  }
 ],
 "metadata": {
  "kernelspec": {
   "display_name": "R",
   "language": "R",
   "name": "ir"
  },
  "language_info": {
   "codemirror_mode": "r",
   "file_extension": ".r",
   "mimetype": "text/x-r-source",
   "name": "R",
   "pygments_lexer": "r",
   "version": "3.5.1"
  }
 },
 "nbformat": 4,
 "nbformat_minor": 2
}
