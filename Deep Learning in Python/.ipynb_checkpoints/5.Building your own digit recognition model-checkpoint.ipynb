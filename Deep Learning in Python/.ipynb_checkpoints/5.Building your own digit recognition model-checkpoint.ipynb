{
 "cells": [
  {
   "cell_type": "markdown",
   "metadata": {},
   "source": [
    "# 5.Building your own digit recognition model"
   ]
  },
  {
   "cell_type": "code",
   "execution_count": 207,
   "metadata": {},
   "outputs": [],
   "source": [
    "import pandas as pd"
   ]
  },
  {
   "cell_type": "code",
   "execution_count": 208,
   "metadata": {},
   "outputs": [],
   "source": [
    "df  = pd.read_csv('./data/mnist.csv')"
   ]
  },
  {
   "cell_type": "code",
   "execution_count": 209,
   "metadata": {},
   "outputs": [],
   "source": [
    "from keras.utils import to_categorical\n",
    "X = df.iloc[:,1:].as_matrix()\n",
    "y = to_categorical(df.iloc[:,0:1].as_matrix())"
   ]
  },
  {
   "cell_type": "code",
   "execution_count": 210,
   "metadata": {},
   "outputs": [],
   "source": [
    "X_train = X[:1600]\n",
    "y_train = y[:1600]"
   ]
  },
  {
   "cell_type": "code",
   "execution_count": 211,
   "metadata": {},
   "outputs": [],
   "source": [
    "X_test = X[1600:]\n",
    "y_test = y[1600:]"
   ]
  },
  {
   "cell_type": "markdown",
   "metadata": {},
   "source": [
    "## 5.1 Make Simple Model"
   ]
  },
  {
   "cell_type": "code",
   "execution_count": 212,
   "metadata": {},
   "outputs": [],
   "source": [
    "from keras.layers import Dense\n",
    "from keras.models import Sequential"
   ]
  },
  {
   "cell_type": "code",
   "execution_count": 213,
   "metadata": {},
   "outputs": [],
   "source": [
    "# Create the model: model\n",
    "model = Sequential()"
   ]
  },
  {
   "cell_type": "code",
   "execution_count": 214,
   "metadata": {},
   "outputs": [],
   "source": [
    "# Add the first hidden layer\n",
    "model.add(Dense(50, activation='relu', input_shape=(X.shape[1],)))"
   ]
  },
  {
   "cell_type": "code",
   "execution_count": 215,
   "metadata": {},
   "outputs": [],
   "source": [
    "# Add the second hidden layer\n",
    "model.add(Dense(50, activation='relu'))"
   ]
  },
  {
   "cell_type": "code",
   "execution_count": 216,
   "metadata": {},
   "outputs": [],
   "source": [
    "# Add the output layer\n",
    "model.add(Dense(10, activation='softmax'))"
   ]
  },
  {
   "cell_type": "code",
   "execution_count": 217,
   "metadata": {},
   "outputs": [],
   "source": [
    "# Compile the model\n",
    "model.compile(optimizer='adam', loss='categorical_crossentropy', metrics=['accuracy'])"
   ]
  },
  {
   "cell_type": "code",
   "execution_count": 218,
   "metadata": {},
   "outputs": [
    {
     "name": "stdout",
     "output_type": "stream",
     "text": [
      "Train on 1120 samples, validate on 480 samples\n",
      "Epoch 1/10\n",
      "1120/1120 [==============================] - 2s 2ms/step - loss: 13.7098 - acc: 0.1437 - val_loss: 13.4187 - val_acc: 0.1583\n",
      "Epoch 2/10\n",
      "1120/1120 [==============================] - 0s 286us/step - loss: 13.2101 - acc: 0.1759 - val_loss: 13.1835 - val_acc: 0.1812\n",
      "Epoch 3/10\n",
      "1120/1120 [==============================] - 0s 272us/step - loss: 13.1749 - acc: 0.1813 - val_loss: 13.2225 - val_acc: 0.1771\n",
      "Epoch 4/10\n",
      "1120/1120 [==============================] - 0s 274us/step - loss: 13.1950 - acc: 0.1786 - val_loss: 13.1357 - val_acc: 0.1833\n",
      "Epoch 5/10\n",
      "1120/1120 [==============================] - 0s 271us/step - loss: 13.1979 - acc: 0.1795 - val_loss: 13.6794 - val_acc: 0.1479\n",
      "Epoch 6/10\n",
      "1120/1120 [==============================] - 0s 278us/step - loss: 13.1253 - acc: 0.1830 - val_loss: 12.3541 - val_acc: 0.2271\n",
      "Epoch 7/10\n",
      "1120/1120 [==============================] - 0s 274us/step - loss: 12.4321 - acc: 0.2241 - val_loss: 12.5783 - val_acc: 0.2083\n",
      "Epoch 8/10\n",
      "1120/1120 [==============================] - 0s 292us/step - loss: 12.2640 - acc: 0.2384 - val_loss: 12.1816 - val_acc: 0.2417\n",
      "Epoch 9/10\n",
      "1120/1120 [==============================] - 0s 279us/step - loss: 12.2248 - acc: 0.2384 - val_loss: 12.7295 - val_acc: 0.2062\n",
      "Epoch 10/10\n",
      "1120/1120 [==============================] - 0s 287us/step - loss: 12.0375 - acc: 0.2500 - val_loss: 11.8871 - val_acc: 0.2625\n"
     ]
    },
    {
     "data": {
      "text/plain": [
       "<keras.callbacks.History at 0x26223d76588>"
      ]
     },
     "execution_count": 218,
     "metadata": {},
     "output_type": "execute_result"
    }
   ],
   "source": [
    "# Fit the model\n",
    "model.fit(X_train,y_train,epochs=10, validation_split=.3)"
   ]
  },
  {
   "cell_type": "markdown",
   "metadata": {},
   "source": [
    "## 5.2 Wider and Deeper Network"
   ]
  },
  {
   "cell_type": "code",
   "execution_count": 219,
   "metadata": {},
   "outputs": [],
   "source": [
    "def make_model(nodes, layers, input_shape, hidden_activation, output_activation):\n",
    "    model = Sequential()\n",
    "    model.add(Dense(nodes, activation=hidden_activation, input_shape=input_shape))\n",
    "    for i in range(layers - 1):\n",
    "        model.add(Dense(nodes, activation=hidden_activation))\n",
    "    model.add(Dense(10, activation=output_activation))\n",
    "    return model"
   ]
  },
  {
   "cell_type": "code",
   "execution_count": 220,
   "metadata": {},
   "outputs": [],
   "source": [
    "input_shape = X[1].shape"
   ]
  },
  {
   "cell_type": "code",
   "execution_count": 221,
   "metadata": {},
   "outputs": [
    {
     "data": {
      "text/plain": [
       "(784,)"
      ]
     },
     "execution_count": 221,
     "metadata": {},
     "output_type": "execute_result"
    }
   ],
   "source": [
    "input_shape"
   ]
  },
  {
   "cell_type": "code",
   "execution_count": 222,
   "metadata": {},
   "outputs": [],
   "source": [
    "# 1layers and 50 nodes\n",
    "model1 = make_model(50, 1 , input_shape, 'relu', 'softmax')\n",
    "model1.compile(optimizer='adam', loss='categorical_crossentropy', metrics=['accuracy'])\n",
    "hist1 = model1.fit(X_train,y_train,validation_split=.3, epochs=30, verbose=False)"
   ]
  },
  {
   "cell_type": "code",
   "execution_count": 223,
   "metadata": {},
   "outputs": [
    {
     "data": {
      "image/png": "[encoded data removed]",
      "text/plain": [
       "<Figure size 432x288 with 1 Axes>"
      ]
     },
     "metadata": {},
     "output_type": "display_data"
    }
   ],
   "source": [
    "import matplotlib.pyplot as plt\n",
    "\n",
    "plt.plot(hist1.history['val_loss'], 'r')\n",
    "plt.xlabel('Epochs')\n",
    "plt.ylabel('Validation score')\n",
    "plt.show()"
   ]
  },
  {
   "cell_type": "code",
   "execution_count": 224,
   "metadata": {},
   "outputs": [],
   "source": [
    "# 2layer and 50 nodes\n",
    "model2 = make_model(50, 2, input_shape, 'relu', 'softmax')\n",
    "model2.compile(optimizer='adam', loss='categorical_crossentropy', metrics=['accuracy'])\n",
    "hist2 = model2.fit(X_train,y_train,validation_split=.3, epochs=30, verbose=False)"
   ]
  },
  {
   "cell_type": "code",
   "execution_count": 225,
   "metadata": {},
   "outputs": [
    {
     "data": {
      "image/png": "[encoded data removed]",
      "text/plain": [
       "<Figure size 432x288 with 1 Axes>"
      ]
     },
     "metadata": {},
     "output_type": "display_data"
    }
   ],
   "source": [
    "import matplotlib.pyplot as plt\n",
    "\n",
    "plt.plot(hist1.history['val_loss'], 'r', hist2.history['val_loss'], 'g')\n",
    "plt.xlabel('Epochs')\n",
    "plt.ylabel('Validation score')\n",
    "plt.show()"
   ]
  },
  {
   "cell_type": "code",
   "execution_count": 226,
   "metadata": {},
   "outputs": [],
   "source": [
    "# 3layers and 50 nodes\n",
    "model3 = make_model(50, 3, input_shape, 'relu', 'softmax')\n",
    "model3.compile(optimizer='adam', loss='categorical_crossentropy', metrics=['accuracy'])\n",
    "hist3 = model3.fit(X_train,y_train,validation_split=.3, epochs=30, verbose=False)"
   ]
  },
  {
   "cell_type": "code",
   "execution_count": 227,
   "metadata": {},
   "outputs": [
    {
     "data": {
      "image/png": "[encoded data removed]",
      "text/plain": [
       "<Figure size 432x288 with 1 Axes>"
      ]
     },
     "metadata": {},
     "output_type": "display_data"
    }
   ],
   "source": [
    "import matplotlib.pyplot as plt\n",
    "plt.plot(hist1.history['val_loss'], 'r', hist2.history['val_loss'], 'g', hist3.history['val_loss'], 'b')\n",
    "plt.xlabel('Epochs')\n",
    "plt.ylabel('Validation score')\n",
    "plt.show()"
   ]
  },
  {
   "cell_type": "code",
   "execution_count": null,
   "metadata": {},
   "outputs": [],
   "source": [
    "# 4layer and 50 nodes\n",
    "model4 = make_model(50, 4, input_shape, 'relu', 'softmax')\n",
    "model4.compile(optimizer='adam', loss='categorical_crossentropy', metrics=['accuracy'])\n",
    "hist4 = model4.fit(X_train,y_train, validation_split=.3, epochs=30, verbose=False)"
   ]
  },
  {
   "cell_type": "code",
   "execution_count": null,
   "metadata": {},
   "outputs": [],
   "source": [
    "import matplotlib.pyplot as plt\n",
    "\n",
    "plt.plot(hist1.history['val_loss'], 'r', hist2.history['val_loss'], 'g', hist3.history['val_loss'], 'b', \n",
    "         hist4.history['val_loss'], 'y')\n",
    "plt.xlabel('Epochs')\n",
    "plt.ylabel('Validation score')\n",
    "plt.show()"
   ]
  },
  {
   "cell_type": "code",
   "execution_count": null,
   "metadata": {},
   "outputs": [],
   "source": [
    "# 4layer and 100 nodes\n",
    "model5 = make_model(100, 4, input_shape, 'relu', 'softmax')\n",
    "model5.compile(optimizer='adam', loss='categorical_crossentropy', metrics=['accuracy'])\n",
    "hist5 = model5.fit(X_train,y_train,validation_split=.3, epochs=30, verbose=False)"
   ]
  },
  {
   "cell_type": "code",
   "execution_count": null,
   "metadata": {},
   "outputs": [],
   "source": [
    "import matplotlib.pyplot as plt\n",
    "\n",
    "plt.plot(hist5.history['val_loss'], 'r', \n",
    "         hist4.history['val_loss'], 'y')\n",
    "plt.xlabel('Epochs')\n",
    "plt.ylabel('Validation score')\n",
    "plt.show()"
   ]
  },
  {
   "cell_type": "code",
   "execution_count": null,
   "metadata": {},
   "outputs": [],
   "source": [
    "# 4layer and 80 nodes\n",
    "model6 = make_model(80, 4, input_shape, 'relu', 'softmax')\n",
    "model6.compile(optimizer='adam', loss='categorical_crossentropy', metrics=['accuracy'])\n",
    "hist6 = model6.fit(X_train,y_train,validation_split=.3, epochs=30, verbose=False)"
   ]
  },
  {
   "cell_type": "code",
   "execution_count": null,
   "metadata": {},
   "outputs": [],
   "source": [
    "import matplotlib.pyplot as plt\n",
    "\n",
    "plt.plot(hist6.history['val_loss'], 'r', \n",
    "         hist4.history['val_loss'], 'y')\n",
    "plt.xlabel('Epochs')\n",
    "plt.ylabel('Validation score')\n",
    "plt.show()"
   ]
  },
  {
   "cell_type": "code",
   "execution_count": null,
   "metadata": {},
   "outputs": [],
   "source": [
    "# 4layer and 70 nodes\n",
    "model7 = make_model(70, 4, input_shape, 'relu', 'softmax')\n",
    "model7.compile(optimizer='adam', loss='categorical_crossentropy', metrics=['accuracy'])\n",
    "hist7 = model7.fit(X_train,y_train,validation_split=.3, epochs=30, verbose=False)"
   ]
  },
  {
   "cell_type": "code",
   "execution_count": null,
   "metadata": {},
   "outputs": [],
   "source": [
    "# 4layer and 60 nodes\n",
    "model8 = make_model(60, 4, input_shape, 'relu', 'softmax')\n",
    "model8.compile(optimizer='adam', loss='categorical_crossentropy', metrics=['accuracy'])\n",
    "hist8 = model8.fit(X_train,y_train,validation_split=.3, epochs=30, verbose=False)"
   ]
  },
  {
   "cell_type": "code",
   "execution_count": null,
   "metadata": {},
   "outputs": [],
   "source": [
    "import matplotlib.pyplot as plt\n",
    "\n",
    "plt.plot(hist6.history['val_loss'], 'r', \n",
    "         hist7.history['val_loss'], 'g', \n",
    "         hist8.history['val_loss'], 'b', \n",
    "         hist4.history['val_loss'], 'y')\n",
    "plt.xlabel('Epochs')\n",
    "plt.ylabel('Validation score')\n",
    "plt.show()"
   ]
  },
  {
   "cell_type": "code",
   "execution_count": null,
   "metadata": {},
   "outputs": [],
   "source": [
    "# 5layer and 70 nodes\n",
    "model9 = make_model(70, 5, input_shape, 'relu', 'softmax')\n",
    "model9.compile(optimizer='adam', loss='categorical_crossentropy', metrics=['accuracy'])\n",
    "hist9 = model9.fit(X_train,y_train,validation_split=.3, epochs=30, verbose=False)"
   ]
  },
  {
   "cell_type": "code",
   "execution_count": null,
   "metadata": {},
   "outputs": [],
   "source": [
    "import matplotlib.pyplot as plt\n",
    "\n",
    "plt.plot(hist9.history['val_loss'], 'r', \n",
    "         hist7.history['val_loss'], 'g', \n",
    "         hist6.history['val_loss'], 'b')\n",
    "plt.xlabel('Epochs')\n",
    "plt.ylabel('Validation score')\n",
    "plt.show()"
   ]
  },
  {
   "cell_type": "code",
   "execution_count": null,
   "metadata": {},
   "outputs": [],
   "source": [
    "from numpy import argmax\n",
    "\n",
    "predict_prob1 = model9.predict(X_test)\n",
    "predict1 = [argmax(i, axis=None, out=None) for i in predict_prob1]\n",
    "\n",
    "predict_prob2 = model7.predict(X_test)\n",
    "predict2 = [argmax(i, axis=None, out=None) for i in predict_prob2]\n",
    "\n",
    "predict_prob3 = model6.predict(X_test)\n",
    "predict3 = [argmax(i, axis=None, out=None) for i in predict_prob3]\n",
    "\n",
    "\n",
    "target = [argmax(i, axis=None, out=None) for i in y_test]"
   ]
  },
  {
   "cell_type": "code",
   "execution_count": null,
   "metadata": {},
   "outputs": [],
   "source": [
    "from sklearn.metrics import accuracy_score\n",
    "print(\"Model6 Accuracy : %2.2f%%\" % (accuracy_score(target, predict3) * 100.0))\n",
    "print(\"Model7 Accuracy : %2.2f%%\" % (accuracy_score(target, predict2) * 100.0))\n",
    "print(\"Model9 Accuracy : %2.2f%%\" % (accuracy_score(target, predict1) * 100.0))"
   ]
  },
  {
   "cell_type": "code",
   "execution_count": null,
   "metadata": {},
   "outputs": [],
   "source": []
  }
 ],
 "metadata": {
  "kernelspec": {
   "display_name": "Python 3",
   "language": "python",
   "name": "python3"
  },
  "language_info": {
   "codemirror_mode": {
    "name": "ipython",
    "version": 3
   },
   "file_extension": ".py",
   "mimetype": "text/x-python",
   "name": "python",
   "nbconvert_exporter": "python",
   "pygments_lexer": "ipython3",
   "version": "3.5.5"
  }
 },
 "nbformat": 4,
 "nbformat_minor": 2
}
