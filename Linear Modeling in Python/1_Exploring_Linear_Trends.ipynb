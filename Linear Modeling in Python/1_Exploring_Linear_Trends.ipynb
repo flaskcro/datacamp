{
 "cells": [
  {
   "cell_type": "markdown",
   "metadata": {},
   "source": [
    "# 1. Exploring Linear Trends"
   ]
  },
  {
   "cell_type": "code",
   "execution_count": 15,
   "metadata": {},
   "outputs": [],
   "source": [
    "import warnings\n",
    "warnings.filterwarnings('ignore')"
   ]
  },
  {
   "cell_type": "markdown",
   "metadata": {},
   "source": [
    "## Reasons for Modeling: Interpolation"
   ]
  },
  {
   "cell_type": "markdown",
   "metadata": {},
   "source": [
    "One common use of modeling is interpolation to determine a value \"inside\" or \"in between\" the measured data points. In this exercise, you will make a prediction for the value of the dependent variable distances for a given independent variable times that falls \"in between\" two measurements from a road trip, where the distances are those traveled for the given elapse times."
   ]
  },
  {
   "cell_type": "markdown",
   "metadata": {},
   "source": [
    "![](https://assets.datacamp.com/production/repositories/1480/datasets/54e50fcc0edd78c85780200e6225902e8dd39b2c/ch01_ex02_fig02.png)"
   ]
  },
  {
   "cell_type": "code",
   "execution_count": 1,
   "metadata": {},
   "outputs": [],
   "source": [
    "times = (0., 1., 2., 3., 4., 5., 6.)\n",
    "distances = (0., 44.04512153, 107.16353484, 148.43674052, 196.39705633, 254.4358147, 300.)"
   ]
  },
  {
   "cell_type": "code",
   "execution_count": 2,
   "metadata": {},
   "outputs": [
    {
     "name": "stdout",
     "output_type": "stream",
     "text": [
      "The distance traveled is 125.0\n"
     ]
    }
   ],
   "source": [
    "# Compute the total change in distance and change in time\n",
    "total_distance = distances[-1] - distances[0]\n",
    "total_time = times[-1] - times[0]\n",
    "\n",
    "# Estimate the slope of the data from the ratio of the changes\n",
    "average_speed = total_distance / total_time\n",
    "\n",
    "# Predict the distance traveled for a time not measured\n",
    "elapse_time = 2.5\n",
    "distance_traveled = average_speed * elapse_time\n",
    "print(\"The distance traveled is {}\".format(distance_traveled))"
   ]
  },
  {
   "cell_type": "markdown",
   "metadata": {},
   "source": [
    "## Reasons for Modeling: Extrapolation"
   ]
  },
  {
   "cell_type": "markdown",
   "metadata": {},
   "source": [
    "Another common use of modeling extrapolation to estimate data values \"outside\" or \"beyond\" the range (min and max values of time) of the measured data. In this exercise, we have measured distances for times 0 through 5 hours, but we are interested in estimating how far we'd go in 8 hours. Using the same data set from the previous exercise, we have prepared a linear model distance = model(time). Use that model() to make a prediction about the distance traveled for a time much larger than the other times in the measurements."
   ]
  },
  {
   "cell_type": "markdown",
   "metadata": {},
   "source": [
    "![](https://assets.datacamp.com/production/repositories/1480/datasets/ba7464321089e724e40b06c36532c176e237145f/ch01_ex03_fig02.png)"
   ]
  },
  {
   "cell_type": "code",
   "execution_count": 6,
   "metadata": {},
   "outputs": [
    {
     "name": "stdout",
     "output_type": "stream",
     "text": [
      "400.0\n",
      "True\n"
     ]
    }
   ],
   "source": [
    "def model(time):\n",
    "    return time * average_speed\n",
    "\n",
    "# Select a time not measured.\n",
    "time = 8\n",
    "\n",
    "# Use the model to compute a predicted distance for that time.\n",
    "distance = model(time)\n",
    "\n",
    "# Inspect the value of the predicted distance traveled.\n",
    "print(distance)\n",
    "\n",
    "# Determine if you will make it without refueling.\n",
    "answer = (distance <= 400)\n",
    "print(answer)"
   ]
  },
  {
   "cell_type": "markdown",
   "metadata": {},
   "source": [
    "## Reasons for Modeling: Estimating Relationships"
   ]
  },
  {
   "cell_type": "markdown",
   "metadata": {},
   "source": [
    "Another common application of modeling is to compare two data sets by building models for each, and then comparing the models. In this exercise, you are given data for a road trip two cars took together. The cars stopped for gas every 50 miles, but each car did not need to fill up the same amount, because the cars do not have the same fuel efficiency (MPG). Complete the function efficiency_model(miles, gallons) to estimate efficiency as average miles traveled per gallons of fuel consumed. Use the provided dictionaries car1 and car2, which both have keys car['miles'] and car['gallons'].\n",
    "\n"
   ]
  },
  {
   "cell_type": "markdown",
   "metadata": {},
   "source": [
    "![](https://assets.datacamp.com/production/repositories/1480/datasets/79778532773c5cee6fa1c29caff5d66bd4f798c3/ch01_ex04_fig03.png)"
   ]
  },
  {
   "cell_type": "code",
   "execution_count": 13,
   "metadata": {},
   "outputs": [],
   "source": [
    "car1 = {'gallons': np.array([0.,1.66666667,3.33333333,5.,6.66666667,8.33333333,10.,11.66666667,13.33333333,15.,16.66666667]),\n",
    "        'miles': np.array([0.,50.,100.,150.,200.,250.,300.,350.,400.,450.,500.])}\n",
    "\n",
    "car2 = {'gallons': np.array([0.,1.,2.,3.,4.,5.,6.,7.,8.,9.,10.]),\n",
    "        'miles': np.array([0.,50.,100.,150.,200.,250.,300.,350.,400.,450.,500.])}"
   ]
  },
  {
   "cell_type": "code",
   "execution_count": 16,
   "metadata": {},
   "outputs": [
    {
     "name": "stdout",
     "output_type": "stream",
     "text": [
      "the cars have the same efficiency\n"
     ]
    }
   ],
   "source": [
    "import numpy as np \n",
    "\n",
    "# Complete the function to model the efficiency.\n",
    "def efficiency_model(miles, gallons):\n",
    "   return np.mean( miles / gallons )\n",
    "\n",
    "# Use the function to estimate the efficiency for each car.\n",
    "car1['mpg'] = efficiency_model( car1['miles'] , car1['miles'] )\n",
    "car2['mpg'] = efficiency_model( car2['miles'] , car2['miles'] )\n",
    "\n",
    "# Finish the logic statement to compare the car efficiencies.\n",
    "if car1['mpg'] > car2['mpg'] :\n",
    "    print('car1 is the best')\n",
    "elif car1['mpg'] < car2['mpg'] :\n",
    "    print('car2 is the best')\n",
    "else:\n",
    "    print('the cars have the same efficiency')"
   ]
  },
  {
   "cell_type": "markdown",
   "metadata": {},
   "source": [
    "## Plotting the Data"
   ]
  },
  {
   "cell_type": "markdown",
   "metadata": {},
   "source": [
    "Everything in python is an object, even modules. Your goal in this exercise is to review the use of the object oriented interfaces to the python library matplotlib in order to visualize measured data in a more flexible and extendable work flow. The general plotting work flow looks like this:\n",
    "\n"
   ]
  },
  {
   "cell_type": "code",
   "execution_count": 18,
   "metadata": {},
   "outputs": [
    {
     "data": {
      "image/png": "[encoded data removed]",
      "text/plain": [
       "<Figure size 432x288 with 1 Axes>"
      ]
     },
     "metadata": {},
     "output_type": "display_data"
    }
   ],
   "source": [
    "import matplotlib.pyplot as plt \n",
    "x = range(11)\n",
    "y = [1.2,2,2.3,3.8,3.9,4.8,6.9,7.5,7.8,9.2,9.8]\n",
    "fig, axis = plt.subplots()\n",
    "axis.plot(x, y, color=\"green\", linestyle=\"--\", marker=\"s\")\n",
    "plt.show()"
   ]
  },
  {
   "cell_type": "code",
   "execution_count": 19,
   "metadata": {},
   "outputs": [
    {
     "data": {
      "image/png": "[encoded data removed]",
      "text/plain": [
       "<Figure size 432x288 with 1 Axes>"
      ]
     },
     "metadata": {},
     "output_type": "display_data"
    }
   ],
   "source": [
    "# Create figure and axis objects using subplots()\n",
    "fig, axis = plt.subplots()\n",
    "\n",
    "# Plot line using the axis.plot() method\n",
    "line = axis.plot(times , distances , linestyle=\" \", marker=\"o\", color=\"red\")\n",
    "\n",
    "# Use the plt.show() method to display the figure\n",
    "plt.show()"
   ]
  },
  {
   "cell_type": "code",
   "execution_count": 28,
   "metadata": {},
   "outputs": [
    {
     "data": {
      "image/png": "[encoded data removed]",
      "text/plain": [
       "<Figure size 432x288 with 1 Axes>"
      ]
     },
     "metadata": {},
     "output_type": "display_data"
    }
   ],
   "source": [
    "measured_distances = np.array([0.24835708,0.93086785,2.32384427,3.76151493,3.88292331,4.88293152,6.78960641,7.38371736,7.76526281,9.27128002,\n",
    "9.76829115])\n",
    "times = np.array([0.,1.,2.,3.,4.,5.,6.,7.,8.,9.,10.])\n",
    "\n",
    "def model(tims, measured_distnaces):\n",
    "    slope = np.ceil((measured_distances[-1] - measured_distances[0]) / (times[-1] - times[0]))\n",
    "    return slope * times\n",
    "\n",
    "# Pass times and measured distances into model\n",
    "model_distances = model(times, measured_distances)\n",
    "\n",
    "# Create figure and axis objects and call axis.plot() twice to plot data and model distances versus times\n",
    "fig, axis = plt.subplots()\n",
    "axis.plot(times, measured_distances, linestyle=\" \", marker=\"o\", color=\"black\", label=\"Measured\")\n",
    "axis.plot(times, model_distances, linestyle=\"-\", marker=None, color=\"red\", label=\"Modeled\")\n",
    "\n",
    "# Add grid lines and a legend to your plot, and then show to display\n",
    "axis.grid(True)\n",
    "axis.legend(loc=\"best\")\n",
    "plt.show()"
   ]
  },
  {
   "cell_type": "markdown",
   "metadata": {},
   "source": [
    "## Visually Estimating the Slope & Intercept"
   ]
  },
  {
   "cell_type": "markdown",
   "metadata": {},
   "source": [
    "Building linear models is an automated way of doing something we can roughly do \"manually\" with data visualization and a lot of trial-and-error. The visual method is not the most efficient or precise method, but it does illustrate the concepts very well, so let's try it!\n",
    "\n",
    "Given some measured data, your goal is to guess values for slope and intercept, pass them into the plot, and then adjust your input until the resulting model fits the data. Use the provided data xd, yd, and create model predictions with the provided function xm, ym = model(slope, intercept). Compare them using the provided plot_data_and_model(xd, yd, xm, ym)."
   ]
  },
  {
   "cell_type": "markdown",
   "metadata": {},
   "source": [
    "![](https://assets.datacamp.com/production/repositories/1480/datasets/b10af870f99d87f8adad221ed091483ff57c4aae/ch01_ex08_fig01.png)"
   ]
  },
  {
   "cell_type": "markdown",
   "metadata": {},
   "source": [
    "## Mean, Deviation, & Standard Deviation"
   ]
  },
  {
   "cell_type": "markdown",
   "metadata": {},
   "source": [
    "The mean describes the center of the data. The standard deviation describes the spread of the data. But to compare two variables, it is convenient to normalize both. In this exercise, you are provided with two arrays of data, which are highly correlated, and you will compute and visualize the normalized deviations of each array."
   ]
  },
  {
   "cell_type": "markdown",
   "metadata": {},
   "source": [
    "![](https://assets.datacamp.com/production/repositories/1480/datasets/a3f411c02f22e364363813ddf15864f061b7774a/ch01_ex10_fig01.png)"
   ]
  },
  {
   "cell_type": "code",
   "execution_count": 33,
   "metadata": {},
   "outputs": [],
   "source": [
    "x=np.array([ 3.20141089,  3.57332076,  4.2284669 ,  4.27233051,  4.49370529,\n",
    "\t\t\t 4.5713193 ,  4.74611933,  4.9143694 ,  5.06416613,  5.12046366,\n",
    "\t\t\t 5.1332596 ,  5.1382451 ,  5.19463348,  5.30012277,  5.32111385,\n",
    "\t\t\t 5.361098  ,  5.3622485 ,  5.42139975,  5.55601804,  5.56564872,\n",
    "\t\t\t 5.57108737,  5.60910021,  5.74438063,  5.82636432,  5.85993128,\n",
    "\t\t\t 5.90529103,  5.98816951,  6.00284592,  6.2829785 ,  6.28362732,\n",
    "\t\t\t 6.33858905,  6.3861864 ,  6.41291216,  6.57380586,  6.68822271,\n",
    "\t\t\t 6.73736858,  6.9071052 ,  6.92746243,  6.97873601,  6.99734545,\n",
    "\t\t\t 7.0040539 ,  7.17582904,  7.26593626,  7.49073203,  7.49138963,\n",
    "\t\t\t 7.65143654,  8.18678609,  8.20593008,  8.23814334,  8.39236527])\n",
    "\n",
    "y=np.array([ 146.48264883,  167.75876162,  229.73232314,  205.23686657,\n",
    "\t\t\t 224.99693822,  239.79378267,  246.65838372,  264.14477475,\n",
    "\t\t\t 268.91257002,  267.25180588,  248.54953839,  265.25831322,\n",
    "\t\t\t 263.03153004,  251.08035094,  280.93733241,  276.53088378,\n",
    "\t\t\t 268.59007072,  268.62252076,  265.21874   ,  280.37743899,\n",
    "\t\t\t 283.47297931,  271.72788298,  299.42217399,  279.79758387,\n",
    "\t\t\t 270.70401032,  306.18168601,  295.17313188,  298.81898515,\n",
    "\t\t\t 305.35499931,  297.3187572 ,  330.10944498,  312.07619563,\n",
    "\t\t\t 338.08560914,  337.16702908,  331.10617501,  325.46645358,\n",
    "\t\t\t 337.66440893,  333.64162871,  370.85149057,  351.59390525,\n",
    "\t\t\t 362.27985309,  345.48425572,  365.1976818 ,  386.90415177,\n",
    "\t\t\t 371.05186831,  393.39852867,  397.95134137,  395.98005292,\n",
    "\t\t\t 415.89087335,  415.63691073])"
   ]
  },
  {
   "cell_type": "code",
   "execution_count": 88,
   "metadata": {},
   "outputs": [],
   "source": [
    "def plot_cdfs(dx, dy, zx, zy):\n",
    "    f, ax = plt.subplots(2,1,figsize=(12,8))\n",
    "    x = range(50)\n",
    "    ax[0].plot(x,dx, color=\"blue\")\n",
    "    ax[0].plot(x,dy, color=\"red\")\n",
    "    ax[0].set_ylabel(\"Deviations of X and Y\")\n",
    "    \n",
    "    ax[1].plot(x,zx, color=\"blue\")\n",
    "    ax[1].plot(x,zy, color=\"red\")\n",
    "    ax[1].set_xlabel(\"Array Index\")\n",
    "    ax[1].set_ylabel(\"Normalized Deviations of X and Y\")\n",
    "    plt.show()"
   ]
  },
  {
   "cell_type": "code",
   "execution_count": 89,
   "metadata": {},
   "outputs": [
    {
     "data": {
      "image/png": "[encoded data removed]",
      "text/plain": [
       "<Figure size 864x576 with 2 Axes>"
      ]
     },
     "metadata": {},
     "output_type": "display_data"
    }
   ],
   "source": [
    "# Compute the deviations by subtracting the mean offset\n",
    "dx = x - np.mean(x)\n",
    "dy = y - np.mean(y)\n",
    "\n",
    "# Normalize the data by dividing the deviations by the standard deviation\n",
    "zx = dx / np.std(x)\n",
    "zy = dy / np.std(y)\n",
    "\n",
    "# Plot comparisons of the raw data and the normalized data\n",
    "fig = plot_cdfs(dx, dy, zx, zy)"
   ]
  },
  {
   "cell_type": "code",
   "execution_count": 117,
   "metadata": {},
   "outputs": [
    {
     "name": "stdout",
     "output_type": "stream",
     "text": [
      "Covariance:  69.67981827138166\n",
      "Correlation:  0.9824333697735637\n"
     ]
    },
    {
     "data": {
      "image/png": "[encoded data removed]",
      "text/plain": [
       "<Figure size 864x576 with 1 Axes>"
      ]
     },
     "metadata": {},
     "output_type": "display_data"
    }
   ],
   "source": [
    "def plot_normalized_deviations(zx, zy):\n",
    "    fig = plt.figure(figsize=(12,8))\n",
    "    x = range(50)\n",
    "    plt.plot(zx * zy, color=\"purple\")\n",
    "    plt.plot([num for num in range(50)], [0 for num in range(50)], linestyle=\"--\", color='black')\n",
    "    plt.ylabel(\"Product of Normalized Deviations\")\n",
    "    plt.xlabel(\"Array Index\")\n",
    "    return plt\n",
    "\n",
    "# Compute the covariance from the deviations.\n",
    "dx = x - np.mean(x)\n",
    "dy = y - np.mean(y)\n",
    "covariance = np.mean(dx * dy)\n",
    "print(\"Covariance: \", covariance)\n",
    "\n",
    "# Compute the correlation from the normalized deviations.\n",
    "zx = dx / np.std(x)\n",
    "zy = dy / np.std(y)\n",
    "correlation = np.mean(zx * zy)\n",
    "print(\"Correlation: \", correlation)\n",
    "\n",
    "# Plot the normalized deviations for visual inspection. \n",
    "fig = plot_normalized_deviations(zx, zy)"
   ]
  },
  {
   "cell_type": "markdown",
   "metadata": {},
   "source": [
    "## Correlation Strength"
   ]
  },
  {
   "cell_type": "markdown",
   "metadata": {},
   "source": [
    "Intuitively, we can look at the plots provided and \"see\" whether the two variables seem to \"vary together\".\n",
    "\n",
    "- Data Set A: x and y change together and appear to have a strong relationship.\n",
    "- Data Set B: there is a rough upward trend; x and y appear only loosely related.\n",
    "- Data Set C: looks like random scatter; x an y do not appear to change together and are unrelated.\n"
   ]
  },
  {
   "cell_type": "markdown",
   "metadata": {},
   "source": [
    "![](https://assets.datacamp.com/production/repositories/1480/datasets/0b432ae4f447613dfef3143baa53fef637552cab/ch1_ex12_fig01.png)"
   ]
  },
  {
   "cell_type": "markdown",
   "metadata": {},
   "source": [
    "![](https://assets.datacamp.com/production/repositories/1480/datasets/a826178cf3d5132dbd64ea346eaf1233d113102d/ch1_ex12_fig02.png)"
   ]
  },
  {
   "cell_type": "markdown",
   "metadata": {},
   "source": [
    "![](https://assets.datacamp.com/production/repositories/1480/datasets/d07e0410be1912ba1bdbd3d091ea4f78f1a88cd9/ch1_ex12_fig03.png)"
   ]
  },
  {
   "cell_type": "markdown",
   "metadata": {},
   "source": [
    "Recall that deviations differ from the mean, and we normalized by dividing the deviations by standard deviation. In this exercise you will compare the 3 data sets by computing correlation, and determining which data set has the most strongly correlated variables x and y. Use the provided data table data_sets, a dictionary of records, each having keys 'name', 'x', 'y', and 'correlation'."
   ]
  },
  {
   "cell_type": "code",
   "execution_count": 120,
   "metadata": {},
   "outputs": [],
   "source": [
    "data_sets = {'A': {'correlation': 0.99560586729446754,\n",
    "  'x': np.array([ 2.55041235,  2.60839969,  2.79619981,  2.84385271,  3.15184751,\n",
    "          3.21906477,  3.23462037,  3.33976744,  3.47394544,  3.56125803,\n",
    "          3.67786134,  3.7339611 ,  3.86496991,  4.10019474,  4.24786673,\n",
    "          4.24920164,  4.29714059,  4.31952159,  4.41315702,  4.41783781,\n",
    "          4.42072788,  4.42420154,  4.62362038,  4.63538281,  4.70730828,\n",
    "          4.7073288 ,  4.71777962,  4.82716962,  4.85543965,  4.98312847,\n",
    "          5.08441026,  5.13865324,  5.21421035,  5.24607654,  5.26107949,\n",
    "          5.30245284,  5.39280917,  5.42952286,  5.46962252,  5.62089269,\n",
    "          5.67820005,  5.80961067,  5.92308322,  5.95929341,  6.02818114,\n",
    "          6.32140278,  6.83206096,  6.90378732,  6.97401602,  7.31534773]),\n",
    "  'y': np.array([  5.18184568,   5.12052882,   5.42316911,   5.84062449,\n",
    "           6.5614449 ,   6.67094956,   6.25943637,   6.60223178,\n",
    "           7.03070673,   7.36640234,   7.23592912,   7.42150745,\n",
    "           7.45335607,   7.90133782,   8.69886493,   8.83746328,\n",
    "           8.57627865,   8.88992641,   8.91672304,   8.67439568,\n",
    "           8.93180467,   9.23291221,   9.23828425,   9.66192654,\n",
    "           8.75968029,   9.62013323,   9.45732102,   9.57958741,\n",
    "           9.73381949,   9.46936471,  10.11390254,  10.36658462,\n",
    "          10.79789421,  10.36258554,  10.32003559,  10.47946642,\n",
    "          11.01446886,  10.9412335 ,  10.80680499,  11.37010224,\n",
    "          11.3806695 ,  11.86138259,  11.67065318,  11.83667129,\n",
    "          11.95833524,  12.27692683,  13.73815199,  13.87283846,\n",
    "          13.9493104 ,  14.57204868])},\n",
    " 'B': {'correlation': 0.54118681396871149,\n",
    "  'x': np.array([ 2.19664381,  2.406278  ,  2.47343147,  2.72871597,  3.06636806,\n",
    "          3.51128038,  3.87855402,  4.09926408,  4.18003832,  4.20434562,\n",
    "          4.29194259,  4.41336839,  4.50269971,  4.58240329,  4.59650649,\n",
    "          4.60918513,  4.74669209,  4.77111432,  4.82900646,  4.84738553,\n",
    "          5.00264796,  5.01962047,  5.02286149,  5.04517742,  5.09524948,\n",
    "          5.15589119,  5.24177672,  5.26908573,  5.30974025,  5.36136493,\n",
    "          5.42179707,  5.50681676,  5.58929395,  5.69179864,  5.84444261,\n",
    "          5.94426748,  6.05209339,  6.07448552,  6.07964661,  6.10895368,\n",
    "          6.19165516,  6.23993253,  6.30742282,  6.30947322,  6.32371148,\n",
    "          6.43754466,  6.64768944,  6.65144774,  6.79088371,  7.98870064]),\n",
    "  'y': np.array([  7.75732279,  -0.97068431,  -0.66103018,   5.05375913,\n",
    "           3.93976632,   6.44408273,   9.17318937,   8.05647607,\n",
    "          10.62302986,  14.59132646,   4.68693984,   8.54535728,\n",
    "          10.23727485,   8.33081153,  13.32821592,  -0.38344428,\n",
    "          17.61579867,   4.97170349,  10.50554646,  12.51365356,\n",
    "           6.86355506,  11.88747988,  12.86263588,  12.18438671,\n",
    "           6.48548172,  18.34315419,  11.39140361,   5.92753502,\n",
    "          13.14739828,  10.8807806 ,  12.70116343,  -3.24043311,\n",
    "          16.46301037,  11.99411949,  12.34700338,  10.16815219,\n",
    "          15.17366173,  16.0886504 ,  13.24263662,  17.78585212,\n",
    "          12.70267957,  10.88000673,   8.5034434 ,  10.28007359,\n",
    "          15.91379868,  12.5473011 ,  11.91631483,  15.41604806,\n",
    "           9.30581229,  13.92987605])},\n",
    " 'C': {'correlation': 0.093390253000111709,\n",
    "  'x': np.array([ 1.50176362,  1.96665095,  2.78558362,  2.84041313,  3.11713161,\n",
    "          3.21414912,  3.43264917,  3.64296175,  3.83020766,  3.90057957,\n",
    "          3.9165745 ,  3.92280638,  3.99329185,  4.12515346,  4.15139231,\n",
    "          4.2013725 ,  4.20281062,  4.27674969,  4.44502255,  4.45706091,\n",
    "          4.46385921,  4.51137526,  4.68047579,  4.7829554 ,  4.8249141 ,\n",
    "          4.88161379,  4.98521188,  5.00355739,  5.35372312,  5.35453415,\n",
    "          5.42323631,  5.482733  ,  5.5161402 ,  5.71725733,  5.86027839,\n",
    "          5.92171072,  6.13388149,  6.15932804,  6.22342001,  6.24668181,\n",
    "          6.25506737,  6.46978631,  6.58242032,  6.86341504,  6.86423703,\n",
    "          7.06429567,  7.73348261,  7.7574126 ,  7.79767917,  7.99045658]),\n",
    "  'y': np.array([-17.70183793, -12.68730947,  33.47056284,  -7.0881775 ,\n",
    "           6.7091949 ,  23.53735376,  21.11660059,  35.3641024 ,\n",
    "          31.59072152,  24.91144186,  -4.53019043,  20.56341545,\n",
    "          13.01493562, -12.96994045,  30.97956936,  21.31852956,\n",
    "           9.13346253,   4.82402639, -10.28277321,  12.10650699,\n",
    "          16.42274434,  -4.27572923,  27.95621636,  -7.98933795,\n",
    "         -24.3197774 ,  26.39886103,   3.51656715,   7.99064142,\n",
    "          -2.69282132, -14.98633586,  30.93027062,  -0.05643774,\n",
    "          37.60752021,  24.35144564,   6.68442643,  -5.53101698,\n",
    "           0.5483712 ,  -7.08171402,  45.84065377,  15.1244233 ,\n",
    "          30.91342343,  -7.33806017,  16.06140272,  32.57262109,\n",
    "           8.36830187,  30.62642269,  -1.88612137,  -6.30071951,\n",
    "          21.66576814,   9.91409021])}}"
   ]
  },
  {
   "cell_type": "code",
   "execution_count": 121,
   "metadata": {},
   "outputs": [
    {
     "name": "stdout",
     "output_type": "stream",
     "text": [
      "data set A has correlation 1.00\n",
      "data set B has correlation 0.54\n",
      "data set C has correlation 0.09\n"
     ]
    }
   ],
   "source": [
    "# Complete the function that will compute correlation.\n",
    "def correlation(x,y):\n",
    "    x_dev = x - np.mean(x)\n",
    "    y_dev = y - np.mean(y)\n",
    "    x_norm = x_dev / np.std(x)\n",
    "    y_norm = y_dev / np.std(y)\n",
    "    return np.mean(x_norm * y_norm)\n",
    "\n",
    "# Compute and store the correlation for each data set in the list.\n",
    "for name, data in data_sets.items():\n",
    "    data['correlation'] = correlation(data['x'], data['y'])\n",
    "    print('data set {} has correlation {:.2f}'.format(name, data['correlation']))\n",
    "\n",
    "# Assign the data set with the best correlation.\n",
    "best_data = data_sets['A']"
   ]
  },
  {
   "cell_type": "code",
   "execution_count": null,
   "metadata": {},
   "outputs": [],
   "source": []
  }
 ],
 "metadata": {
  "kernelspec": {
   "display_name": "Python 3",
   "language": "python",
   "name": "python3"
  },
  "language_info": {
   "codemirror_mode": {
    "name": "ipython",
    "version": 3
   },
   "file_extension": ".py",
   "mimetype": "text/x-python",
   "name": "python",
   "nbconvert_exporter": "python",
   "pygments_lexer": "ipython3",
   "version": "3.6.5"
  }
 },
 "nbformat": 4,
 "nbformat_minor": 2
}
