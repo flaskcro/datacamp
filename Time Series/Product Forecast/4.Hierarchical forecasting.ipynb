{
 "cells": [
  {
   "cell_type": "markdown",
   "metadata": {},
   "source": [
    "## 4. Hierarchical forecasting"
   ]
  },
  {
   "cell_type": "code",
   "execution_count": 114,
   "metadata": {},
   "outputs": [],
   "source": [
    "# Load xts package \n",
    "library(xts)\n",
    "library(forecast)\n",
    "bev = read.csv('./input/Bev.csv')\n",
    "newyear <- read.csv('./input/newyear.csv')\n",
    "valentine <- read.csv('./input/valentine.csv')\n",
    "christmas <- read.csv('./input/christmas.csv')\n",
    "mother <- read.csv('./input/mother.csv')"
   ]
  },
  {
   "cell_type": "code",
   "execution_count": 115,
   "metadata": {},
   "outputs": [
    {
     "ename": "ERROR",
     "evalue": "Error in data.frame(bev, as.vector(newyear)): arguments imply differing number of rows: 176, 153\n",
     "output_type": "error",
     "traceback": [
      "Error in data.frame(bev, as.vector(newyear)): arguments imply differing number of rows: 176, 153\nTraceback:\n",
      "1. data.frame(bev, as.vector(newyear))",
      "2. stop(gettextf(\"arguments imply differing number of rows: %s\", \n .     paste(unique(nrows), collapse = \", \")), domain = NA)"
     ]
    }
   ],
   "source": [
    "bev <- data.frame(bev, as.vector(newyear))\n",
    "colnames(bev)[13] <- \"newyear\""
   ]
  },
  {
   "cell_type": "code",
   "execution_count": null,
   "metadata": {},
   "outputs": [],
   "source": [
    "# Create the dates object as an index for your xts object\n",
    "dates <- seq(as.Date(\"2014-01-19\"), length = 176, by = \"weeks\")\n",
    "\n",
    "# Create an xts object called bev_xts\n",
    "bev_xts <- xts(bev, order.by = dates)\n",
    "\n",
    "dates_valid <- seq(as.Date(\"2017-01-01\"), length = 22, by = \"weeks\")\n",
    "\n",
    "MET_sp <- bev_xts[,\"MET.sp\"]\n",
    "\n",
    "MET_sp_t <- MET_sp[index(MET_sp) < \"2017-01-01\"]\n",
    "MET_sp_v <- MET_sp[index(MET_sp) >= \"2017-01-01\"]"
   ]
  },
  {
   "cell_type": "markdown",
   "metadata": {},
   "source": [
    "<b>Build time series forecast for new product</b>\n",
    "\n",
    "Before we can even calculate a bottom-up forecast for the metropolitan region we need to have forecasts of multiple products! First, let's build a time series forecast of the specialty product in the metropolitan region. The product demand is saved as MET_sp in your workspace as well as dates_valid as well as your validation data MET_sp_v.\n",
    "\n",
    "You've written the MAPE function enough at this point. A mape() function has now been written for you to use with two inputs: the first is the forecast and the second is the validation set."
   ]
  },
  {
   "cell_type": "code",
   "execution_count": 56,
   "metadata": {},
   "outputs": [],
   "source": [
    "mape <-function(forecast, valid){\n",
    "    100*mean(abs((forecast - valid)/valid))\n",
    "}"
   ]
  },
  {
   "cell_type": "code",
   "execution_count": 57,
   "metadata": {},
   "outputs": [
    {
     "name": "stdout",
     "output_type": "stream",
     "text": [
      "[1] 6.352973\n"
     ]
    }
   ],
   "source": [
    "# Build a time series model \n",
    "MET_sp_model_arima <- auto.arima(MET_sp_t)\n",
    "\n",
    "# Forecast the time series model for 22 periods\n",
    "for_MET_sp <- forecast(MET_sp_model_arima, h=22)\n",
    "\n",
    "# Create an xts object\n",
    "for_MET_sp_xts <- xts(for_MET_sp$mean, order.by=dates_valid)\n",
    "\n",
    "# Calculate the MAPE\n",
    "MAPE <- mape(for_MET_sp_xts, MET_sp_v)\n",
    "print(MAPE)"
   ]
  },
  {
   "cell_type": "markdown",
   "metadata": {},
   "source": [
    "<b>Build regression forecast for new product</b>\n",
    "\n",
    "We saw in a previous exercise that regression forecasts are also worth building! Your workspace has some preloaded things to help. You have a data frame called MET_sp_train with the variables log_sales, log_price, christmas, valentine, newyear, and mother in it. Your workspace also has a validation data frame MET_sp_valid for predictions."
   ]
  },
  {
   "cell_type": "code",
   "execution_count": 63,
   "metadata": {},
   "outputs": [],
   "source": [
    "MET_sp_train <- read.csv('./input/MET_sp_train.csv')"
   ]
  },
  {
   "cell_type": "code",
   "execution_count": 64,
   "metadata": {},
   "outputs": [],
   "source": [
    "MET_sp_valid <- read.csv('./input/MET_sp_valid.csv')"
   ]
  },
  {
   "cell_type": "code",
   "execution_count": 65,
   "metadata": {},
   "outputs": [
    {
     "name": "stdout",
     "output_type": "stream",
     "text": [
      "[1] 6.55474\n"
     ]
    }
   ],
   "source": [
    "# Build a regression model\n",
    "model_MET_sp_full <- lm(log_sales ~ log_price + newyear + valentine + christmas + mother, data = MET_sp_train)\n",
    "\n",
    "# Forecast the regression model using the predict function \n",
    "pred_MET_sp <- predict(model_MET_sp_full, MET_sp_valid)\n",
    "\n",
    "# Exponentiate your predictions and create an xts object\n",
    "pred_MET_sp <- exp(pred_MET_sp)\n",
    "pred_MET_sp_xts <- xts(pred_MET_sp, order.by = dates_valid)\n",
    "\n",
    "# Calculate MAPE\n",
    "MAPE <- mape(pred_MET_sp_xts, MET_sp_v)\n",
    "print(MAPE)"
   ]
  },
  {
   "cell_type": "markdown",
   "metadata": {},
   "source": [
    "<b>Ensemble forecast for new product</b>\n",
    "\n",
    "Now that you have two different types of forecasts - a time series and a regression - let's try to ensemble them together to improve the forecast. Your forecast objects for_MET_sp_xts and pred_MET_sp_xts are in your workspace along with your validation data object MET_sp_v."
   ]
  },
  {
   "cell_type": "code",
   "execution_count": 66,
   "metadata": {},
   "outputs": [
    {
     "name": "stdout",
     "output_type": "stream",
     "text": [
      "[1] 5.842651\n"
     ]
    }
   ],
   "source": [
    "# Ensemble the two forecasts\n",
    "for_MET_sp_en <- 0.5 * (for_MET_sp_xts + pred_MET_sp_xts)\n",
    "\n",
    "# Calculate the MAPE\n",
    "MAPE <- mape(for_MET_sp_en, MET_sp_v)\n",
    "print(MAPE)"
   ]
  },
  {
   "cell_type": "markdown",
   "metadata": {},
   "source": [
    "<b>Calculate bottom-up forecast for whole region</b>\n",
    "\n",
    "Perfect! Now you have a forecast for the high value product in the metropolitan region in the object pred_MET_hi_xts (the regression was the best) and a forecast for the specialty product in the object for_MET_sp_en (the ensemble was the best). I have also forecasting the low value product in the region for you and the forecast is in the object pred_MET_lo_xts (the regression was the best). Now you can build a bottom-up forecast of the whole metropolitan region!"
   ]
  },
  {
   "cell_type": "code",
   "execution_count": 100,
   "metadata": {},
   "outputs": [],
   "source": [
    "bev_xts_train <- bev_xts[index(bev_xts) < \"2017-01-01\"]\n",
    "bev_xts_valid <- bev_xts[index(bev_xts) >= \"2017-01-01\"]\n",
    "\n",
    "MET_sp_train <- bev_xts_train[,\"MET.sp\"]\n",
    "MET_hi_train <- bev_xts_train[,\"MET.hi\"]\n",
    "MET_lo_train <- bev_xts_train[,\"MET.lo\"]\n",
    "\n",
    "MET_sp_valid <- bev_xts_valid[,\"MET.sp\"]\n",
    "MET_hi_valid <- bev_xts_valid[,\"MET.hi\"]\n",
    "MET_lo_valid <- bev_xts_valid[,\"MET.lo\"]"
   ]
  },
  {
   "cell_type": "code",
   "execution_count": 101,
   "metadata": {},
   "outputs": [],
   "source": [
    "# Save the prices of each product\n",
    "l_MET_sp <- log(as.vector(MET_sp_train))\n",
    "\n",
    "# Save as a data frame\n",
    "MET_sp_train <- data.frame(as.vector(log(MET_sp_train[index(MET_sp_train) < \"2017-01-01\"])), \n",
    "                           as.vector(log(MET_sp_train[index(MET_sp_train) < \"2017-01-01\"])))\n",
    "colnames(MET_sp_train) <- c(\"log_sales\", \"log_price\")\n",
    "\n",
    "MET_sp_valid <- data.frame(as.vector(log(MET_sp_valid[index(MET_sp_valid) >= \"2017-01-01\"])), \n",
    "                           as.vector(log(MET_sp_valid[index(MET_sp_valid) >= \"2017-01-01\"])))\n",
    "colnames(MET_sp_valid) <- c(\"log_sales\", \"log_price\")\n",
    "\n",
    "# Calculate the regression\n",
    "model_MET_sp <- lm(log_sales ~ log_price, data = MET_sp_train)"
   ]
  },
  {
   "cell_type": "code",
   "execution_count": 102,
   "metadata": {},
   "outputs": [],
   "source": [
    "# Save the prices of each product\n",
    "l_MET_hi <- log(as.vector(MET_hi_train))\n",
    "\n",
    "# Save as a data frame\n",
    "MET_hi_train <- data.frame(as.vector(log(MET_hi_train[index(MET_hi_train) < \"2017-01-01\"])), \n",
    "                           as.vector(log(MET_hi_train[index(MET_hi_train) < \"2017-01-01\"])))\n",
    "colnames(MET_hi_train) <- c(\"log_sales\", \"log_price\")\n",
    "\n",
    "MET_hi_valid <- data.frame(as.vector(log(MET_hi_valid[index(MET_hi_valid) >= \"2017-01-01\"])), \n",
    "                           as.vector(log(MET_hi_valid[index(MET_hi_valid) >= \"2017-01-01\"])))\n",
    "colnames(MET_hi_valid) <- c(\"log_sales\", \"log_price\")\n",
    "\n",
    "# Calculate the regression\n",
    "model_MET_hi <- lm(log_sales ~ log_price, data = MET_hi_train)"
   ]
  },
  {
   "cell_type": "code",
   "execution_count": 103,
   "metadata": {},
   "outputs": [],
   "source": [
    "# Save the prices of each product\n",
    "l_MET_lo <- log(as.vector(MET_lo_train))\n",
    "\n",
    "# Save as a data frame\n",
    "MET_lo_train <- data.frame(as.vector(log(MET_lo_train[index(MET_lo_train) < \"2017-01-01\"])), \n",
    "                           as.vector(log(MET_lo_train[index(MET_lo_train) < \"2017-01-01\"])))\n",
    "colnames(MET_lo_train) <- c(\"log_sales\", \"log_price\")\n",
    "\n",
    "MET_lo_valid <- data.frame(as.vector(log(MET_lo_valid[index(MET_lo_valid) >= \"2017-01-01\"])), \n",
    "                           as.vector(log(MET_lo_valid[index(MET_lo_valid) >= \"2017-01-01\"])))\n",
    "colnames(MET_lo_valid) <- c(\"log_sales\", \"log_price\")\n",
    "\n",
    "# Calculate the regression\n",
    "model_MET_lo <- lm(log_sales ~ log_price, data = MET_lo_train)"
   ]
  },
  {
   "cell_type": "code",
   "execution_count": 135,
   "metadata": {},
   "outputs": [],
   "source": [
    "pred_MET_hi_xts <- exp(predict(model_MET_hi, MET_hi_valid[2]))\n",
    "pred_MET_lo_xts <- exp(predict(model_MET_lo, MET_lo_valid[2]))\n",
    "pred_MET_sp_xts <- exp(predict(model_MET_sp, MET_sp_valid[2]))"
   ]
  },
  {
   "cell_type": "code",
   "execution_count": 136,
   "metadata": {},
   "outputs": [
    {
     "name": "stdout",
     "output_type": "stream",
     "text": [
      "[1] 0.6496508\n"
     ]
    }
   ],
   "source": [
    "# Calculate the metropolitan regional sales forecast\n",
    "for_MET_total <- pred_MET_hi_xts + pred_MET_lo_xts + for_MET_sp_en\n",
    "\n",
    "# Calculate a validation data set \n",
    "MET_t_v <- bev_xts_valid[,\"MET.hi\"] + bev_xts_valid[,\"MET.lo\"] + bev_xts_valid[,\"MET.sp\"]\n",
    "\n",
    "# Calculate the MAPE\n",
    "MAPE <- mape(for_MET_total, MET_t_v)\n",
    "print(MAPE)"
   ]
  },
  {
   "cell_type": "code",
   "execution_count": 137,
   "metadata": {},
   "outputs": [
    {
     "data": {},
     "metadata": {},
     "output_type": "display_data"
    },
    {
     "data": {},
     "metadata": {},
     "output_type": "display_data"
    },
    {
     "data": {
      "image/png": "[encoded data removed]",
      "text/plain": [
       "plot without title"
      ]
     },
     "metadata": {},
     "output_type": "display_data"
    },
    {
     "data": {
      "image/png": "[encoded data removed]",
      "text/plain": [
       "plot without title"
      ]
     },
     "metadata": {},
     "output_type": "display_data"
    }
   ],
   "source": [
    "plot(MET_t_v)\n",
    "lines(for_MET_total, col = \"blue\")"
   ]
  },
  {
   "cell_type": "markdown",
   "metadata": {},
   "source": [
    "<b>Ensemble forecast for new product</b>\n",
    "\n",
    "Now that you have two different types of forecasts - a time series and a regression - let's try to ensemble them together to improve the forecast. Your forecast objects for_MET_sp_xts and pred_MET_sp_xts are in your workspace along with your validation data object MET_sp_v."
   ]
  },
  {
   "cell_type": "code",
   "execution_count": 138,
   "metadata": {},
   "outputs": [
    {
     "name": "stdout",
     "output_type": "stream",
     "text": [
      "[1] 3.176487\n"
     ]
    }
   ],
   "source": [
    "# Ensemble the two forecasts\n",
    "for_MET_sp_en <- 0.5 * (for_MET_sp_xts + pred_MET_sp_xts)\n",
    "\n",
    "# Calculate the MAPE\n",
    "MAPE <- mape(for_MET_sp_en, MET_sp_v)\n",
    "print(MAPE)"
   ]
  },
  {
   "cell_type": "code",
   "execution_count": 140,
   "metadata": {},
   "outputs": [
    {
     "data": {},
     "metadata": {},
     "output_type": "display_data"
    },
    {
     "data": {},
     "metadata": {},
     "output_type": "display_data"
    },
    {
     "data": {
      "image/png": "[encoded data removed]",
      "text/plain": [
       "plot without title"
      ]
     },
     "metadata": {},
     "output_type": "display_data"
    },
    {
     "data": {
      "image/png": "[encoded data removed]",
      "text/plain": [
       "plot without title"
      ]
     },
     "metadata": {},
     "output_type": "display_data"
    }
   ],
   "source": [
    "plot(MET_sp_v)\n",
    "lines(for_MET_sp_en, col = \"blue\")"
   ]
  },
  {
   "cell_type": "markdown",
   "metadata": {},
   "source": [
    "<b>Build time series forecast at regional level</b>\n",
    "\n",
    "Sometimes you don't have the time to build forecasts for every product, so we take a top-down approach to hierarchical forecasting. Let's work on the metropolitan region in reverse this time!\n",
    "\n",
    "Your workspace has the following objects pre-loaded: MET_total for the total regional sales, dates_valid, and MET_t_v for the valiation data set."
   ]
  },
  {
   "cell_type": "code",
   "execution_count": 155,
   "metadata": {},
   "outputs": [],
   "source": [
    "MET_total <- bev_xts_train[,\"MET.hi\"] + bev_xts_train[,\"MET.lo\"] + bev_xts_train[,\"MET.sp\"] "
   ]
  },
  {
   "cell_type": "code",
   "execution_count": 156,
   "metadata": {},
   "outputs": [
    {
     "name": "stdout",
     "output_type": "stream",
     "text": [
      "[1] 17.10332\n"
     ]
    }
   ],
   "source": [
    "# Build a regional time series model\n",
    "MET_t_model_arima <- auto.arima(MET_total)\n",
    "\n",
    "# Calculate a 2017 forecast for 22 periods\n",
    "for_MET_t <- forecast(MET_t_model_arima, h=22)\n",
    "\n",
    "# Make an xts object from your forecast\n",
    "for_MET_t_xts <- xts(for_MET_t$mean, order.by=dates_valid)\n",
    "\n",
    "# Calculate the MAPE\n",
    "MAPE <- mape(for_MET_t_xts, MET_t_v)\n",
    "print(MAPE)"
   ]
  },
  {
   "cell_type": "code",
   "execution_count": 157,
   "metadata": {},
   "outputs": [
    {
     "data": {},
     "metadata": {},
     "output_type": "display_data"
    },
    {
     "data": {},
     "metadata": {},
     "output_type": "display_data"
    },
    {
     "data": {
      "image/png": "[encoded data removed]",
      "text/plain": [
       "plot without title"
      ]
     },
     "metadata": {},
     "output_type": "display_data"
    },
    {
     "data": {
      "image/png": "[encoded data removed]",
      "text/plain": [
       "plot without title"
      ]
     },
     "metadata": {},
     "output_type": "display_data"
    }
   ],
   "source": [
    "plot(MET_t_v)\n",
    "lines(for_MET_t_xts, col = \"blue\")"
   ]
  },
  {
   "cell_type": "markdown",
   "metadata": {},
   "source": [
    "<b>Using average historical proportions</b>\n",
    "\n",
    "Now that you have a regional sales forecast for the metropolitan region we can distribute this forecast down. First, let's try distributing it down using the average historical proportion technique. Your forecast is saved as for_MET_t_xts, your sales objects are MET_hi, MET_lo, MET_sp, and MET_total, and you have three validation data sets called MET_hi_v, MET_lo_v, and MET_sp_v."
   ]
  },
  {
   "cell_type": "code",
   "execution_count": 158,
   "metadata": {},
   "outputs": [],
   "source": [
    "# Calculate the average historical proportions\n",
    "prop_hi <- mean(MET_hi / MET_total)\n",
    "prop_lo <- mean(MET_lo / MET_total)\n",
    "prop_sp <- mean(MET_sp / MET_total)"
   ]
  },
  {
   "cell_type": "code",
   "execution_count": 159,
   "metadata": {},
   "outputs": [],
   "source": [
    "# Distribute out your forecast to each product\n",
    "for_prop_hi <- for_MET_t_xts * prop_hi\n",
    "for_prop_lo <- for_MET_t_xts * prop_lo\n",
    "for_prop_sp <- for_MET_t_xts * prop_sp"
   ]
  },
  {
   "cell_type": "code",
   "execution_count": 160,
   "metadata": {},
   "outputs": [
    {
     "name": "stdout",
     "output_type": "stream",
     "text": [
      "[1] 38.7318\n",
      "[1] 10.70649\n",
      "[1] 6.232888\n"
     ]
    }
   ],
   "source": [
    "# Calculate the MAPE's for each product\n",
    "MAPE_hi <- mape(for_prop_hi, MET_hi_v)\n",
    "print(MAPE_hi)\n",
    "\n",
    "MAPE_lo <- mape(for_prop_lo, MET_lo_v)\n",
    "print(MAPE_lo)\n",
    "\n",
    "MAPE_sp <- mape(for_prop_sp, MET_sp_v)\n",
    "print(MAPE_sp)"
   ]
  },
  {
   "cell_type": "markdown",
   "metadata": {},
   "source": [
    "<b>Using proportion of historical averages</b>\n",
    "\n",
    "Now let's try doing that exact same thing, but with the proportion of historical averages technique instead. Your forecast is saved as for_MET_t_xts, your sales objects are MET_hi, MET_lo, MET_sp, and MET_total, and you have three validation data sets called MET_hi_v, MET_lo_v, and MET_sp_v."
   ]
  },
  {
   "cell_type": "code",
   "execution_count": 161,
   "metadata": {},
   "outputs": [],
   "source": [
    "# Calculate the average historical proportions\n",
    "prop_hi_2 <- mean(MET_hi) / mean(MET_total)\n",
    "prop_lo_2 <- mean(MET_lo) / mean(MET_total)\n",
    "prop_sp_2 <- mean(MET_sp) / mean(MET_total)"
   ]
  },
  {
   "cell_type": "code",
   "execution_count": 162,
   "metadata": {},
   "outputs": [],
   "source": [
    "# Distribute out your forecast to each product\n",
    "for_prop_hi_2 <- for_MET_t_xts * prop_hi_2\n",
    "for_prop_lo_2 <- for_MET_t_xts * prop_lo_2\n",
    "for_prop_sp_2 <- for_MET_t_xts * prop_sp_2"
   ]
  },
  {
   "cell_type": "code",
   "execution_count": 163,
   "metadata": {},
   "outputs": [
    {
     "name": "stdout",
     "output_type": "stream",
     "text": [
      "[1] 38.33559\n",
      "[1] 8.450784\n",
      "[1] 6.517045\n"
     ]
    }
   ],
   "source": [
    "# Calculate the MAPEs for each product\n",
    "MAPE_hi <- mape(for_prop_hi_2, MET_hi_v)\n",
    "print(MAPE_hi)\n",
    "MAPE_lo <- mape(for_prop_lo_2, MET_lo_v)\n",
    "print(MAPE_lo)\n",
    "MAPE_sp <- mape(for_prop_sp_2, MET_sp_v)\n",
    "print(MAPE_sp)"
   ]
  },
  {
   "cell_type": "markdown",
   "metadata": {},
   "source": [
    "<b>Build time series forecast for new region</b>\n",
    "\n",
    "So you have built models forcasting sales for the metropolitan region in your lessons and the mountain region in the videos. Let's build a middle-out forecast for the southeast coastal region and then we will have completed the whole state's hierarchy! In your workspace you have SEC_total for sales and dates_valid and SEC_t_v for validation."
   ]
  },
  {
   "cell_type": "code",
   "execution_count": 200,
   "metadata": {},
   "outputs": [],
   "source": [
    "SEC_total <- read.csv('./input/sec.csv')\n",
    "colnames(SEC_total)[2] <- 'SEC.hi'\n",
    "SEC_t_v <- read.csv('./input/sec_v.csv')\n",
    "colnames(SEC_t_v)[1] <- 'SEC.hi'"
   ]
  },
  {
   "cell_type": "code",
   "execution_count": 201,
   "metadata": {},
   "outputs": [],
   "source": [
    "SEC_total <- xts(SEC_total[,-1], order.by=as.Date(SEC_total[,1],\"%Y-%m-%d\"))\n",
    "SEC_t_v <- xts(SEC_t_v[,-1], order.by=as.Date(SEC_t_v[,1],\"%Y-%m-%d\"))"
   ]
  },
  {
   "cell_type": "code",
   "execution_count": 217,
   "metadata": {},
   "outputs": [],
   "source": [
    "dates_valid <- seq(as.Date(\"2017-01-01\"), length = 22, by = \"weeks\")"
   ]
  },
  {
   "cell_type": "code",
   "execution_count": 218,
   "metadata": {},
   "outputs": [
    {
     "name": "stdout",
     "output_type": "stream",
     "text": [
      "[1] 4.709641\n"
     ]
    }
   ],
   "source": [
    "# Build a time series model for the region\n",
    "SEC_t_model_arima <- auto.arima(SEC_total)\n",
    "\n",
    "# Forecast the time series model\n",
    "for_SEC_t <- forecast(SEC_t_model_arima, h=22)\n",
    "\n",
    "# Make into an xts object\n",
    "for_SEC_t_xts <- xts(for_SEC_t$mean, order.by=dates_valid)\n",
    "\n",
    "# Calculate the MAPE\n",
    "MAPE <- mape(for_SEC_t_xts, SEC_t_v)\n",
    "print(MAPE)"
   ]
  },
  {
   "cell_type": "markdown",
   "metadata": {},
   "source": [
    "<b>Top-down forecast for new region</b>\n",
    "\n",
    "Let's get top-down forecasts for each of the products in the southeast coastal region. There are two products - a high value and low value. You have the following objects for sales SEC_hi, SEC_lo, and SEC_total in your workspace. You also have SEC_hi_v and SEC_lo_v for validation."
   ]
  },
  {
   "cell_type": "code",
   "execution_count": 243,
   "metadata": {},
   "outputs": [],
   "source": [
    "SEC_hi <- read.csv('./input/sec_hi.csv')\n",
    "SEC_lo <- read.csv('./input/sec_lo.csv')"
   ]
  },
  {
   "cell_type": "code",
   "execution_count": 244,
   "metadata": {},
   "outputs": [],
   "source": [
    "SEC_hi <- xts(SEC_hi[,-1], order.by=as.Date(SEC_hi[,1],\"%Y-%m-%d\"))\n",
    "SEC_lo <- xts(SEC_lo[,-1], order.by=as.Date(SEC_lo[,1],\"%Y-%m-%d\"))"
   ]
  },
  {
   "cell_type": "code",
   "execution_count": 245,
   "metadata": {},
   "outputs": [],
   "source": [
    "SEC_hi_v <- read.csv('./input/sec_hi_v.csv')\n",
    "SEC_lo_v <- read.csv('./input/sec_lo_v.csv')"
   ]
  },
  {
   "cell_type": "code",
   "execution_count": 246,
   "metadata": {},
   "outputs": [],
   "source": [
    "SEC_hi_v <- xts(SEC_hi_v[,-1], order.by=as.Date(SEC_hi_v[,1],\"%Y-%m-%d\"))\n",
    "SEC_lo_v <- xts(SEC_lo_v[,-1], order.by=as.Date(SEC_lo_v[,1],\"%Y-%m-%d\"))"
   ]
  },
  {
   "cell_type": "code",
   "execution_count": 247,
   "metadata": {},
   "outputs": [
    {
     "name": "stdout",
     "output_type": "stream",
     "text": [
      "[1] 7.932197\n",
      "[1] 4.931046\n"
     ]
    }
   ],
   "source": [
    "# Calculate the average of historical proportions\n",
    "prop_hi <- mean(SEC_hi/SEC_total)\n",
    "prop_lo <- mean(SEC_lo/SEC_total)\n",
    "\n",
    "# Distribute the forecast\n",
    "for_prop_hi <- prop_hi*for_SEC_t_xts\n",
    "for_prop_lo <- prop_lo*for_SEC_t_xts\n",
    "\n",
    "# Calculate a MAPE for each product\n",
    "MAPE_hi <- mape(for_prop_hi, SEC_hi_v)\n",
    "print(MAPE_hi)\n",
    "\n",
    "MAPE_lo <- mape(for_prop_lo, SEC_lo_v)\n",
    "print(MAPE_lo)"
   ]
  },
  {
   "cell_type": "code",
   "execution_count": null,
   "metadata": {},
   "outputs": [],
   "source": []
  }
 ],
 "metadata": {
  "kernelspec": {
   "display_name": "R",
   "language": "R",
   "name": "ir"
  },
  "language_info": {
   "codemirror_mode": "r",
   "file_extension": ".r",
   "mimetype": "text/x-r-source",
   "name": "R",
   "pygments_lexer": "r",
   "version": "3.5.1"
  }
 },
 "nbformat": 4,
 "nbformat_minor": 2
}
