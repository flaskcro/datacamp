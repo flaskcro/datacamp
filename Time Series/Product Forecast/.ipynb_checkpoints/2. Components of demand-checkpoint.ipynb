{
 "cells": [
  {
   "cell_type": "markdown",
   "metadata": {},
   "source": [
    "## 2. Components of demand"
   ]
  },
  {
   "cell_type": "code",
   "execution_count": 7,
   "metadata": {},
   "outputs": [],
   "source": [
    "# Load xts package \n",
    "library(xts)\n",
    "bev = read.csv('./input/Bev.csv')\n",
    "# Create the dates object as an index for your xts object\n",
    "dates <- seq(as.Date(\"2014-01-19\"), length = 176, by = \"weeks\")\n",
    "\n",
    "# Create an xts object called bev_xts\n",
    "bev_xts <- xts(bev, order.by = dates)"
   ]
  },
  {
   "cell_type": "code",
   "execution_count": 9,
   "metadata": {},
   "outputs": [],
   "source": [
    "# Split the data into training and validation\n",
    "bev_xts_train <- bev_xts[index(bev_xts) < \"2017-01-01\"]\n",
    "bev_xts_valid <- bev_xts[index(bev_xts) >= \"2017-01-01\"]"
   ]
  },
  {
   "cell_type": "markdown",
   "metadata": {},
   "source": [
    "<b>Calculating price elasticity</b>\n",
    "\n",
    "Now that you know about price elasticities, let's see how elastic prices are for the high end product in the metropolitan region! Grand training and validation data sets have already been created for you and are stored in the objects bev_xts_train and bev_xts_valid.\n",
    "\n",
    "You already have the sales for the high end product loaded in the workspace as MET_hi. You first need to extract the prices out of the bev_xts_train object. The column names for prices in the bev_xts_train object is MET.hi.p."
   ]
  },
  {
   "cell_type": "code",
   "execution_count": 25,
   "metadata": {},
   "outputs": [],
   "source": [
    "# Save the prices of each product\n",
    "MET_hi_p <- bev_xts_train[,'MET.hi.p']\n",
    "l_MET_hi_p <- log(as.vector(MET_hi_p))\n",
    "\n",
    "# Save as a data frame\n",
    "MET_hi_train <- data.frame(as.vector(log(MET_hi[index(MET_hi) < \"2017-01-01\"])), l_MET_hi_p)\n",
    "colnames(MET_hi_train) <- c(\"log_sales\", \"log_price\")\n",
    "\n",
    "# Calculate the regression\n",
    "model_MET_hi <- lm(log_sales ~ log_price, data = MET_hi_train)"
   ]
  },
  {
   "cell_type": "code",
   "execution_count": 26,
   "metadata": {
    "scrolled": false
   },
   "outputs": [
    {
     "data": {
      "text/plain": [
       "\n",
       "Call:\n",
       "lm(formula = log_sales ~ log_price, data = MET_hi_train)\n",
       "\n",
       "Residuals:\n",
       "     Min       1Q   Median       3Q      Max \n",
       "-0.84899 -0.24981 -0.00556  0.25050  0.67402 \n",
       "\n",
       "Coefficients:\n",
       "            Estimate Std. Error t value Pr(>|t|)    \n",
       "(Intercept)  13.9774     1.5600   8.960  1.1e-15 ***\n",
       "log_price    -1.5174     0.3837  -3.955 0.000117 ***\n",
       "---\n",
       "Signif. codes:  0 '***' 0.001 '**' 0.01 '*' 0.05 '.' 0.1 ' ' 1\n",
       "\n",
       "Residual standard error: 0.3386 on 152 degrees of freedom\n",
       "Multiple R-squared:  0.09331,\tAdjusted R-squared:  0.08734 \n",
       "F-statistic: 15.64 on 1 and 152 DF,  p-value: 0.000117\n"
      ]
     },
     "metadata": {},
     "output_type": "display_data"
    }
   ],
   "source": [
    "summary(model_MET_hi)"
   ]
  },
  {
   "cell_type": "code",
   "execution_count": 27,
   "metadata": {
    "scrolled": true
   },
   "outputs": [
    {
     "data": {
      "text/plain": [
       "\n",
       "Call:\n",
       "lm(formula = log_sales ~ log_price, data = MET_hi_train)\n",
       "\n",
       "Coefficients:\n",
       "(Intercept)    log_price  \n",
       "     13.977       -1.517  \n"
      ]
     },
     "metadata": {},
     "output_type": "display_data"
    }
   ],
   "source": [
    "model_MET_hi"
   ]
  },
  {
   "cell_type": "markdown",
   "metadata": {},
   "source": [
    "<b>Visualize holiday / promotion effects</b>\n",
    "\n",
    "Maybe there are certain times of year that the metropolitan region has higher sales than other times. Let's visualize the sales of high end product to see if there may be some seasonal effects. Your product sales are saved in your workspace as MET_hi. The prices of your product is saved in your workspace as MET_hi_p."
   ]
  },
  {
   "cell_type": "code",
   "execution_count": 28,
   "metadata": {
    "scrolled": false
   },
   "outputs": [
    {
     "data": {},
     "metadata": {},
     "output_type": "display_data"
    },
    {
     "data": {},
     "metadata": {},
     "output_type": "display_data"
    },
    {
     "data": {
      "image/png": "[encoded data removed]",
      "text/plain": [
       "plot without title"
      ]
     },
     "metadata": {},
     "output_type": "display_data"
    },
    {
     "data": {
      "image/png": "[encoded data removed]",
      "text/plain": [
       "plot without title"
      ]
     },
     "metadata": {},
     "output_type": "display_data"
    }
   ],
   "source": [
    "# Plot the product's sales\n",
    "plot(MET_hi)\n",
    "\n",
    "# Plot the product's price\n",
    "plot(MET_hi_p)"
   ]
  },
  {
   "cell_type": "markdown",
   "metadata": {},
   "source": [
    "There does seem to be some seasonality in our high end product, but it is hard to tell. Let's test it!"
   ]
  },
  {
   "cell_type": "markdown",
   "metadata": {},
   "source": [
    "<b>Create holiday / promotional effect variables</b>\n",
    "\n",
    "We saw some notion of seasonality in the previous exercise, but let's test to make sure that something actually is there. Your bosses think that their products would be more desired around the weeks of Christmas, New Year's, and Valentine's Day. The marketing department also mentions that they have been running promotional deals the week before Mother's Day the previous 5 years. Let's create a binary indicator variable for New Year's!"
   ]
  },
  {
   "cell_type": "code",
   "execution_count": 29,
   "metadata": {},
   "outputs": [],
   "source": [
    "# Create date indices for New Year's week\n",
    "n.dates <- as.Date(c(\"2014-12-28\", \"2015-12-27\", \"2016-12-25\"))\n",
    "\n",
    "# Create xts objects for New Year's\n",
    "newyear <- as.xts(rep(1, 3), order.by = n.dates)\n",
    "\n",
    "# Create sequence of dates for merging\n",
    "dates_train <- seq(as.Date(\"2014-01-19\"), length = 154, by = 'weeks')\n",
    "\n",
    "# Merge training dates into New Year's object\n",
    "newyear <- merge(newyear, dates_train, fill = 0)"
   ]
  },
  {
   "cell_type": "markdown",
   "metadata": {},
   "source": [
    "<b>Regression for holiday / promotional effects</b>\n",
    "\n",
    "Now that you have created the New Year's indicator variable, let's see if it is significantly different than the usual sales pattern using regression.\n",
    "\n",
    "Your data.frame with log of sales and log of prices is saved in your workspace as MET_hi_train. Your New Year's variable is stored as newyear."
   ]
  },
  {
   "cell_type": "code",
   "execution_count": 30,
   "metadata": {},
   "outputs": [],
   "source": [
    "# Create MET_hi_train_2 by adding newyear\n",
    "MET_hi_train_2 <- data.frame(MET_hi_train, as.vector(newyear))\n",
    "colnames(MET_hi_train_2)[3] <- \"newyear\"\n",
    "\n",
    "# Build regressions for the product\n",
    "model_MET_hi_full <- lm(log_sales ~ log_price + newyear, data = MET_hi_train_2)"
   ]
  },
  {
   "cell_type": "code",
   "execution_count": 32,
   "metadata": {
    "scrolled": true
   },
   "outputs": [
    {
     "data": {
      "text/plain": [
       "\n",
       "Call:\n",
       "lm(formula = log_sales ~ log_price + newyear, data = MET_hi_train_2)\n",
       "\n",
       "Residuals:\n",
       "     Min       1Q   Median       3Q      Max \n",
       "-0.84271 -0.23767 -0.00798  0.25390  0.68354 \n",
       "\n",
       "Coefficients:\n",
       "            Estimate Std. Error t value Pr(>|t|)    \n",
       "(Intercept)  13.5083     1.5751   8.576 1.09e-14 ***\n",
       "log_price    -1.4036     0.3872  -3.625 0.000394 ***\n",
       "newyear       0.3375     0.1992   1.694 0.092335 .  \n",
       "---\n",
       "Signif. codes:  0 '***' 0.001 '**' 0.01 '*' 0.05 '.' 0.1 ' ' 1\n",
       "\n",
       "Residual standard error: 0.3365 on 151 degrees of freedom\n",
       "Multiple R-squared:  0.1102,\tAdjusted R-squared:  0.09843 \n",
       "F-statistic: 9.352 on 2 and 151 DF,  p-value: 0.0001483\n"
      ]
     },
     "metadata": {},
     "output_type": "display_data"
    }
   ],
   "source": [
    "summary(model_MET_hi_full)"
   ]
  },
  {
   "cell_type": "markdown",
   "metadata": {},
   "source": [
    "Now let's see if that New Year's variable is significant."
   ]
  },
  {
   "cell_type": "markdown",
   "metadata": {},
   "source": [
    "<b>Create future predictor variables</b>\n",
    "\n",
    "To get forecasts for the regression models with price, holidays, and promotions we need future values for each of these inputs! For our high end product we previously determined holidays and promotions aren't important to the model. Prices are negotiated 6 months in advance, so the prices in the validation data set are reasonable to use for forecast calculations. Your validation data set is stored in your workspace as bev_xts_valid."
   ]
  },
  {
   "cell_type": "code",
   "execution_count": 34,
   "metadata": {},
   "outputs": [],
   "source": [
    "# Subset the validation prices #\n",
    "l_MET_hi_p_valid <- as.vector(log(bev_xts_valid[,'MET.hi.p']))\n",
    "\n",
    "# Create a validation data frame #\n",
    "MET_hi_valid <- data.frame(l_MET_hi_p_valid)\n",
    "colnames(MET_hi_valid) <- \"log_price\""
   ]
  },
  {
   "cell_type": "code",
   "execution_count": 35,
   "metadata": {
    "scrolled": true
   },
   "outputs": [
    {
     "data": {
      "text/html": [
       "<table>\n",
       "<thead><tr><th scope=col>log_price</th></tr></thead>\n",
       "<tbody>\n",
       "\t<tr><td>4.039712</td></tr>\n",
       "\t<tr><td>4.032824</td></tr>\n",
       "\t<tr><td>4.210942</td></tr>\n",
       "\t<tr><td>4.172694</td></tr>\n",
       "\t<tr><td>4.112184</td></tr>\n",
       "\t<tr><td>4.086984</td></tr>\n",
       "</tbody>\n",
       "</table>\n"
      ],
      "text/latex": [
       "\\begin{tabular}{r|l}\n",
       " log\\_price\\\\\n",
       "\\hline\n",
       "\t 4.039712\\\\\n",
       "\t 4.032824\\\\\n",
       "\t 4.210942\\\\\n",
       "\t 4.172694\\\\\n",
       "\t 4.112184\\\\\n",
       "\t 4.086984\\\\\n",
       "\\end{tabular}\n"
      ],
      "text/markdown": [
       "\n",
       "log_price | \n",
       "|---|---|---|---|---|---|\n",
       "| 4.039712 | \n",
       "| 4.032824 | \n",
       "| 4.210942 | \n",
       "| 4.172694 | \n",
       "| 4.112184 | \n",
       "| 4.086984 | \n",
       "\n",
       "\n"
      ],
      "text/plain": [
       "  log_price\n",
       "1 4.039712 \n",
       "2 4.032824 \n",
       "3 4.210942 \n",
       "4 4.172694 \n",
       "5 4.112184 \n",
       "6 4.086984 "
      ]
     },
     "metadata": {},
     "output_type": "display_data"
    }
   ],
   "source": [
    "head(MET_hi_valid)"
   ]
  },
  {
   "cell_type": "markdown",
   "metadata": {},
   "source": [
    "<b>Forecast future values of demand</b>\n",
    "\n",
    "Perfect! You have created the estimated future prices. Now you just need to score these with your regression models to forecast future sales demand for your high end product.\n",
    "\n",
    "Your validation predictions are in your workspace as MET_hi_valid. The model model_MET_hi_full included all possible variables, but prices were the only thing important in the model, so your model with only prices is saved in your workspace as model_MET_hi.\n",
    "\n"
   ]
  },
  {
   "cell_type": "code",
   "execution_count": 36,
   "metadata": {},
   "outputs": [],
   "source": [
    "# Predict the log of sales for your high end product\n",
    "pred_MET_hi <- predict(model_MET_hi, MET_hi_valid)\n",
    "\n",
    "# Convert predictions out of log scale\n",
    "pred_MET_hi <- exp(pred_MET_hi)"
   ]
  },
  {
   "cell_type": "code",
   "execution_count": 40,
   "metadata": {
    "scrolled": true
   },
   "outputs": [
    {
     "data": {
      "text/html": [
       "<dl class=dl-horizontal>\n",
       "\t<dt>1</dt>\n",
       "\t\t<dd>2560.00550263674</dd>\n",
       "\t<dt>2</dt>\n",
       "\t\t<dd>2586.90432858156</dd>\n",
       "\t<dt>3</dt>\n",
       "\t\t<dd>1974.26165834604</dd>\n",
       "\t<dt>4</dt>\n",
       "\t\t<dd>2092.22978497011</dd>\n",
       "\t<dt>5</dt>\n",
       "\t\t<dd>2293.41921848831</dd>\n",
       "\t<dt>6</dt>\n",
       "\t\t<dd>2382.81236901334</dd>\n",
       "</dl>\n"
      ],
      "text/latex": [
       "\\begin{description*}\n",
       "\\item[1] 2560.00550263674\n",
       "\\item[2] 2586.90432858156\n",
       "\\item[3] 1974.26165834604\n",
       "\\item[4] 2092.22978497011\n",
       "\\item[5] 2293.41921848831\n",
       "\\item[6] 2382.81236901334\n",
       "\\end{description*}\n"
      ],
      "text/markdown": [
       "1\n",
       ":   2560.005502636742\n",
       ":   2586.904328581563\n",
       ":   1974.261658346044\n",
       ":   2092.229784970115\n",
       ":   2293.419218488316\n",
       ":   2382.81236901334\n",
       "\n"
      ],
      "text/plain": [
       "       1        2        3        4        5        6 \n",
       "2560.006 2586.904 1974.262 2092.230 2293.419 2382.812 "
      ]
     },
     "metadata": {},
     "output_type": "display_data"
    }
   ],
   "source": [
    "head(pred_MET_hi)"
   ]
  },
  {
   "cell_type": "markdown",
   "metadata": {},
   "source": [
    "<b>Visualizing forecasts of regression</b>\n",
    "\n",
    "Wonderfully done! You now have a forecast for the high end product in the metropolitan region. Let's visualize this forecast!."
   ]
  },
  {
   "cell_type": "code",
   "execution_count": 42,
   "metadata": {
    "scrolled": true
   },
   "outputs": [
    {
     "data": {},
     "metadata": {},
     "output_type": "display_data"
    },
    {
     "name": "stdout",
     "output_type": "stream",
     "text": [
      "[1] 29.57455\n"
     ]
    },
    {
     "data": {
      "image/png": "[encoded data removed]",
      "text/plain": [
       "plot without title"
      ]
     },
     "metadata": {},
     "output_type": "display_data"
    }
   ],
   "source": [
    "# Convert to an xts object\n",
    "dates_valid <- seq(as.Date(\"2017-01-01\"), length = 22, by = \"weeks\")\n",
    "pred_MET_hi_xts <- xts(pred_MET_hi, order.by = dates_valid)\n",
    "\n",
    "# Plot the forecast\n",
    "plot(pred_MET_hi_xts)\n",
    "\n",
    "# Calculate and print the MAPE\n",
    "MET_hi_v <- bev_xts_valid[,\"MET.hi\"]\n",
    "\n",
    "MAPE <- 100*mean(abs((pred_MET_hi_xts - MET_hi_v)/MET_hi_v))\n",
    "print(MAPE)"
   ]
  },
  {
   "cell_type": "markdown",
   "metadata": {},
   "source": [
    "That MAPE might look a little high. I wonder if we can combine our time series AND regression approaches…"
   ]
  },
  {
   "cell_type": "code",
   "execution_count": null,
   "metadata": {},
   "outputs": [],
   "source": []
  }
 ],
 "metadata": {
  "kernelspec": {
   "display_name": "R",
   "language": "R",
   "name": "ir"
  },
  "language_info": {
   "codemirror_mode": "r",
   "file_extension": ".r",
   "mimetype": "text/x-r-source",
   "name": "R",
   "pygments_lexer": "r",
   "version": "3.5.1"
  }
 },
 "nbformat": 4,
 "nbformat_minor": 2
}
