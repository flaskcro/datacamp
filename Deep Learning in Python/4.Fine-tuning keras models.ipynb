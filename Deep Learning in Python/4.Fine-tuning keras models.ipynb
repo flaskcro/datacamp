{
 "cells": [
  {
   "cell_type": "markdown",
   "metadata": {},
   "source": [
    "# 4.Fine-tuning keras models"
   ]
  },
  {
   "cell_type": "code",
   "execution_count": 1,
   "metadata": {},
   "outputs": [
    {
     "name": "stderr",
     "output_type": "stream",
     "text": [
      "C:\\Users\\daeky\\AppData\\Local\\Continuum\\anaconda3\\envs\\tensor\\lib\\site-packages\\h5py\\__init__.py:36: FutureWarning: Conversion of the second argument of issubdtype from `float` to `np.floating` is deprecated. In future, it will be treated as `np.float64 == np.dtype(float).type`.\n",
      "  from ._conv import register_converters as _register_converters\n",
      "Using TensorFlow backend.\n"
     ]
    }
   ],
   "source": [
    "from keras.models import Sequential\n",
    "from keras.layers import Dense\n",
    "from keras.utils import to_categorical\n",
    "import pandas as pd\n",
    "import numpy as np"
   ]
  },
  {
   "cell_type": "code",
   "execution_count": 2,
   "metadata": {},
   "outputs": [],
   "source": [
    "titanic_df = pd.read_csv(\"./data/titanic_all_numeric.csv\")"
   ]
  },
  {
   "cell_type": "code",
   "execution_count": 9,
   "metadata": {},
   "outputs": [],
   "source": [
    "predictors = titanic_df.iloc[:800,1:].as_matrix()\n",
    "target = to_categorical(titanic_df.iloc[:800,:].survived)\n",
    "test_data = titanic_df.iloc[800:,1:].as_matrix()\n",
    "test_target = to_categorical(titanic_df.iloc[800:,:].survived)"
   ]
  },
  {
   "cell_type": "markdown",
   "metadata": {},
   "source": [
    "## 4.1 Changing optimization Parameters"
   ]
  },
  {
   "cell_type": "code",
   "execution_count": 10,
   "metadata": {},
   "outputs": [],
   "source": [
    "def get_new_model():\n",
    "    model = Sequential()\n",
    "    model.add(Dense(32, activation='relu', input_shape=(10,)))\n",
    "    model.add(Dense(2, activation='softmax'))\n",
    "    return model    "
   ]
  },
  {
   "cell_type": "code",
   "execution_count": 19,
   "metadata": {},
   "outputs": [
    {
     "name": "stdout",
     "output_type": "stream",
     "text": [
      "\n",
      "\n",
      "Testing model with learning rate: 0.000001\n",
      "\n",
      "Epoch 1/10\n",
      "800/800 [==============================] - 1s 752us/step - loss: 1.6207\n",
      "Epoch 2/10\n",
      "800/800 [==============================] - 0s 166us/step - loss: 1.6193\n",
      "Epoch 3/10\n",
      "800/800 [==============================] - 0s 149us/step - loss: 1.6179\n",
      "Epoch 4/10\n",
      "800/800 [==============================] - 0s 150us/step - loss: 1.6165\n",
      "Epoch 5/10\n",
      "800/800 [==============================] - 0s 157us/step - loss: 1.6152\n",
      "Epoch 6/10\n",
      "800/800 [==============================] - 0s 151us/step - loss: 1.6138\n",
      "Epoch 7/10\n",
      "800/800 [==============================] - 0s 136us/step - loss: 1.6125\n",
      "Epoch 8/10\n",
      "800/800 [==============================] - 0s 142us/step - loss: 1.6112\n",
      "Epoch 9/10\n",
      "800/800 [==============================] - 0s 150us/step - loss: 1.6098\n",
      "Epoch 10/10\n",
      "800/800 [==============================] - 0s 148us/step - loss: 1.6085\n",
      "Model Accuracy 0.7473\n",
      "\n",
      "\n",
      "Testing model with learning rate: 0.100000\n",
      "\n",
      "Epoch 1/10\n",
      "800/800 [==============================] - 1s 820us/step - loss: 2.5664\n",
      "Epoch 2/10\n",
      "800/800 [==============================] - 0s 157us/step - loss: 0.6447\n",
      "Epoch 3/10\n",
      "800/800 [==============================] - 0s 134us/step - loss: 0.6312\n",
      "Epoch 4/10\n",
      "800/800 [==============================] - 0s 143us/step - loss: 0.6370\n",
      "Epoch 5/10\n",
      "800/800 [==============================] - 0s 165us/step - loss: 0.6309\n",
      "Epoch 6/10\n",
      "800/800 [==============================] - 0s 145us/step - loss: 0.6460\n",
      "Epoch 7/10\n",
      "800/800 [==============================] - 0s 146us/step - loss: 0.6352\n",
      "Epoch 8/10\n",
      "800/800 [==============================] - 0s 140us/step - loss: 0.6388\n",
      "Epoch 9/10\n",
      "800/800 [==============================] - 0s 140us/step - loss: 0.6387\n",
      "Epoch 10/10\n",
      "800/800 [==============================] - 0s 153us/step - loss: 0.6249\n",
      "Model Accuracy 0.7473\n",
      "\n",
      "\n",
      "Testing model with learning rate: 0.010000\n",
      "\n",
      "Epoch 1/10\n",
      "800/800 [==============================] - 1s 835us/step - loss: 2.0678\n",
      "Epoch 2/10\n",
      "800/800 [==============================] - 0s 161us/step - loss: 1.2607\n",
      "Epoch 3/10\n",
      "800/800 [==============================] - 0s 146us/step - loss: 0.8123\n",
      "Epoch 4/10\n",
      "800/800 [==============================] - 0s 171us/step - loss: 0.6550\n",
      "Epoch 5/10\n",
      "800/800 [==============================] - 0s 152us/step - loss: 0.6384\n",
      "Epoch 6/10\n",
      "800/800 [==============================] - 0s 165us/step - loss: 0.6099\n",
      "Epoch 7/10\n",
      "800/800 [==============================] - 0s 154us/step - loss: 0.6058\n",
      "Epoch 8/10\n",
      "800/800 [==============================] - 0s 152us/step - loss: 0.6093\n",
      "Epoch 9/10\n",
      "800/800 [==============================] - 0s 141us/step - loss: 0.6184\n",
      "Epoch 10/10\n",
      "800/800 [==============================] - 0s 139us/step - loss: 0.5890\n",
      "Model Accuracy 0.7473\n",
      "\n",
      "\n",
      "Testing model with learning rate: 1.000000\n",
      "\n",
      "Epoch 1/10\n",
      "800/800 [==============================] - 1s 888us/step - loss: 6.1039\n",
      "Epoch 2/10\n",
      "800/800 [==============================] - 0s 165us/step - loss: 6.2055\n",
      "Epoch 3/10\n",
      "800/800 [==============================] - 0s 145us/step - loss: 6.2055\n",
      "Epoch 4/10\n",
      "800/800 [==============================] - 0s 151us/step - loss: 6.2055\n",
      "Epoch 5/10\n",
      "800/800 [==============================] - 0s 150us/step - loss: 6.2055\n",
      "Epoch 6/10\n",
      "800/800 [==============================] - 0s 154us/step - loss: 6.2055\n",
      "Epoch 7/10\n",
      "800/800 [==============================] - 0s 132us/step - loss: 6.2055\n",
      "Epoch 8/10\n",
      "800/800 [==============================] - 0s 150us/step - loss: 6.2055\n",
      "Epoch 9/10\n",
      "800/800 [==============================] - 0s 136us/step - loss: 6.2055\n",
      "Epoch 10/10\n",
      "800/800 [==============================] - 0s 148us/step - loss: 6.2055\n",
      "Model Accuracy 0.6264\n"
     ]
    }
   ],
   "source": [
    "# Import the SGD optimizer\n",
    "from keras.optimizers import SGD\n",
    "from sklearn.metrics import accuracy_score\n",
    "    \n",
    "# Create list of learning rates: lr_to_test\n",
    "lr_to_test = [.000001, 0.1, 0.01, 1]\n",
    "\n",
    "# Loop over learning rates\n",
    "for lr in lr_to_test:\n",
    "    print('\\n\\nTesting model with learning rate: %f\\n'%lr )\n",
    "    \n",
    "    # Build new model to test, unaffected by previous models\n",
    "    model = get_new_model()\n",
    "    \n",
    "    # Create SGD optimizer with specified learning rate: my_optimizer\n",
    "    my_optimizer = SGD(lr = lr)\n",
    "    \n",
    "    # Compile the model\n",
    "    model.compile(loss='categorical_crossentropy', optimizer = my_optimizer)\n",
    "    \n",
    "    # Fit the model\n",
    "    model.fit(predictors, target, epochs=10)\n",
    "    \n",
    "    predictions = model.predict(test_data)\n",
    "    predicted_prob_true = np.round(predictions[:,1] > 0.5 )\n",
    "    print(\"Model Accuracy %2.4f\" % accuracy_score(test_target[:,1], predicted_prob_true))\n"
   ]
  },
  {
   "cell_type": "markdown",
   "metadata": {},
   "source": [
    "## 4.2 Early Stopping and Validation Datasets"
   ]
  },
  {
   "cell_type": "code",
   "execution_count": 21,
   "metadata": {},
   "outputs": [
    {
     "name": "stdout",
     "output_type": "stream",
     "text": [
      "Train on 560 samples, validate on 240 samples\n",
      "Epoch 1/10\n",
      "560/560 [==============================] - 1s 1ms/step - loss: 0.9306 - acc: 0.6304 - val_loss: 0.6169 - val_acc: 0.7042\n",
      "Epoch 2/10\n",
      "560/560 [==============================] - 0s 252us/step - loss: 0.6863 - acc: 0.6321 - val_loss: 0.5685 - val_acc: 0.7375\n",
      "Epoch 3/10\n",
      "560/560 [==============================] - 0s 248us/step - loss: 0.6492 - acc: 0.6589 - val_loss: 0.5702 - val_acc: 0.7333\n",
      "Epoch 4/10\n",
      "560/560 [==============================] - 0s 198us/step - loss: 0.6240 - acc: 0.6750 - val_loss: 0.5138 - val_acc: 0.7542\n",
      "Epoch 5/10\n",
      "560/560 [==============================] - 0s 205us/step - loss: 0.6589 - acc: 0.6679 - val_loss: 0.5412 - val_acc: 0.7292\n",
      "Epoch 6/10\n",
      "560/560 [==============================] - 0s 186us/step - loss: 0.7185 - acc: 0.6411 - val_loss: 0.5158 - val_acc: 0.7583\n",
      "Epoch 7/10\n",
      "560/560 [==============================] - 0s 182us/step - loss: 0.6785 - acc: 0.6893 - val_loss: 0.6550 - val_acc: 0.6625\n",
      "Epoch 8/10\n",
      "560/560 [==============================] - 0s 202us/step - loss: 0.6428 - acc: 0.6821 - val_loss: 0.5855 - val_acc: 0.7000\n",
      "Epoch 9/10\n",
      "560/560 [==============================] - 0s 202us/step - loss: 0.6205 - acc: 0.6839 - val_loss: 0.5176 - val_acc: 0.7667\n",
      "Epoch 10/10\n",
      "560/560 [==============================] - 0s 195us/step - loss: 0.5638 - acc: 0.6929 - val_loss: 0.5130 - val_acc: 0.7792\n"
     ]
    }
   ],
   "source": [
    "# Save the number of columns in predictors: n_cols\n",
    "n_cols = predictors.shape[1]\n",
    "input_shape = (n_cols,)\n",
    "\n",
    "# Specify the model\n",
    "model = Sequential()\n",
    "model.add(Dense(100, activation='relu', input_shape = input_shape))\n",
    "model.add(Dense(100, activation='relu'))\n",
    "model.add(Dense(2, activation='softmax'))\n",
    "\n",
    "# Compile the model\n",
    "model.compile(optimizer='adam', loss='categorical_crossentropy', metrics=['accuracy'])\n",
    "\n",
    "# Fit the model\n",
    "hist = model.fit(predictors, target, epochs=10, validation_split=0.3)"
   ]
  },
  {
   "cell_type": "code",
   "execution_count": 33,
   "metadata": {},
   "outputs": [],
   "source": [
    "def get_new_model():\n",
    "    model = Sequential()\n",
    "    model.add(Dense(32, activation='relu', input_shape=(10,)))\n",
    "    model.add(Dense(2, activation='softmax'))\n",
    "    model.compile(optimizer='adam', loss='categorical_crossentropy', metrics=['accuracy'])\n",
    "    return model    "
   ]
  },
  {
   "cell_type": "code",
   "execution_count": 36,
   "metadata": {},
   "outputs": [
    {
     "name": "stdout",
     "output_type": "stream",
     "text": [
      "Train on 560 samples, validate on 240 samples\n",
      "Epoch 1/30\n",
      "560/560 [==============================] - 1s 2ms/step - loss: 1.8775 - acc: 0.4625 - val_loss: 0.9371 - val_acc: 0.6583\n",
      "Epoch 2/30\n",
      "560/560 [==============================] - 0s 221us/step - loss: 0.7902 - acc: 0.6429 - val_loss: 0.5704 - val_acc: 0.7375\n",
      "Epoch 3/30\n",
      "560/560 [==============================] - 0s 196us/step - loss: 0.6912 - acc: 0.6482 - val_loss: 0.5450 - val_acc: 0.7500\n",
      "Epoch 4/30\n",
      "560/560 [==============================] - 0s 195us/step - loss: 0.6273 - acc: 0.6464 - val_loss: 0.5303 - val_acc: 0.7417\n",
      "Epoch 5/30\n",
      "560/560 [==============================] - 0s 211us/step - loss: 0.6151 - acc: 0.6643 - val_loss: 0.5296 - val_acc: 0.7375\n",
      "Epoch 6/30\n",
      "560/560 [==============================] - 0s 207us/step - loss: 0.5998 - acc: 0.6696 - val_loss: 0.5198 - val_acc: 0.7500\n",
      "Epoch 7/30\n",
      "560/560 [==============================] - 0s 209us/step - loss: 0.5851 - acc: 0.6750 - val_loss: 0.5108 - val_acc: 0.7542\n",
      "Epoch 8/30\n",
      "560/560 [==============================] - 0s 221us/step - loss: 0.5801 - acc: 0.6875 - val_loss: 0.5160 - val_acc: 0.7333\n",
      "Epoch 9/30\n",
      "560/560 [==============================] - 0s 202us/step - loss: 0.5839 - acc: 0.6964 - val_loss: 0.5179 - val_acc: 0.7667\n",
      "Epoch 10/30\n",
      "560/560 [==============================] - 0s 195us/step - loss: 0.5850 - acc: 0.6839 - val_loss: 0.5043 - val_acc: 0.7833\n",
      "Epoch 11/30\n",
      "560/560 [==============================] - 0s 193us/step - loss: 0.5558 - acc: 0.6964 - val_loss: 0.5192 - val_acc: 0.7375\n",
      "Epoch 12/30\n",
      "560/560 [==============================] - 0s 187us/step - loss: 0.5514 - acc: 0.7125 - val_loss: 0.5063 - val_acc: 0.7500\n",
      "Epoch 13/30\n",
      "560/560 [==============================] - 0s 193us/step - loss: 0.5446 - acc: 0.7054 - val_loss: 0.4913 - val_acc: 0.7667\n",
      "Epoch 14/30\n",
      "560/560 [==============================] - 0s 186us/step - loss: 0.5349 - acc: 0.7232 - val_loss: 0.4959 - val_acc: 0.7625\n",
      "Epoch 15/30\n",
      "560/560 [==============================] - 0s 186us/step - loss: 0.5438 - acc: 0.7286 - val_loss: 0.5261 - val_acc: 0.7250\n",
      "Epoch 16/30\n",
      "560/560 [==============================] - 0s 207us/step - loss: 0.5538 - acc: 0.7125 - val_loss: 0.5415 - val_acc: 0.7125\n"
     ]
    },
    {
     "data": {
      "text/plain": [
       "<keras.callbacks.History at 0x2db81792080>"
      ]
     },
     "execution_count": 36,
     "metadata": {},
     "output_type": "execute_result"
    }
   ],
   "source": [
    "# Define early_stopping_monitor\n",
    "from keras.callbacks import EarlyStopping\n",
    "\n",
    "model = get_new_model()\n",
    "early_stopping_monitor = EarlyStopping(patience=3)\n",
    "model.fit(predictors, target, epochs=30, callbacks=[early_stopping_monitor], validation_split=0.3)"
   ]
  },
  {
   "cell_type": "markdown",
   "metadata": {},
   "source": [
    "## 4.3 Experimenting with wider networks"
   ]
  },
  {
   "cell_type": "code",
   "execution_count": 52,
   "metadata": {},
   "outputs": [],
   "source": [
    "early_stopping_monitor = EarlyStopping(patience=3)"
   ]
  },
  {
   "cell_type": "code",
   "execution_count": 53,
   "metadata": {},
   "outputs": [],
   "source": [
    "def get_model_10nodes():\n",
    "    model = Sequential()\n",
    "\n",
    "    # Add the first and second layers\n",
    "    model.add(Dense(10, activation='relu', input_shape=input_shape))\n",
    "    model.add(Dense(10, activation='relu'))\n",
    "    model.add(Dense(2, activation='softmax'))\n",
    "    model.compile(optimizer='adam', loss='categorical_crossentropy', metrics=['accuracy'])\n",
    "    return model"
   ]
  },
  {
   "cell_type": "code",
   "execution_count": 54,
   "metadata": {},
   "outputs": [],
   "source": [
    "def get_model_100nodes():\n",
    "    model = Sequential()\n",
    "\n",
    "    # Add the first and second layers\n",
    "    model.add(Dense(100, activation='relu', input_shape=input_shape))\n",
    "    model.add(Dense(100, activation='relu'))\n",
    "    model.add(Dense(2, activation='softmax'))\n",
    "    model.compile(optimizer='adam', loss='categorical_crossentropy', metrics=['accuracy'])\n",
    "    return model"
   ]
  },
  {
   "cell_type": "code",
   "execution_count": 55,
   "metadata": {},
   "outputs": [],
   "source": [
    "# Fit model_1\n",
    "model_1_training = get_model_10nodes().fit(predictors, \n",
    "                                           target, epochs=15, \n",
    "                                           validation_split=0.2, \n",
    "                                           callbacks=[early_stopping_monitor], \n",
    "                                           verbose=False)"
   ]
  },
  {
   "cell_type": "code",
   "execution_count": 56,
   "metadata": {},
   "outputs": [],
   "source": [
    "# Fit model_2\n",
    "model_2_training = get_model_100nodes().fit(predictors, \n",
    "                                          target, \n",
    "                                          epochs=15, \n",
    "                                          validation_split=0.2, \n",
    "                                          callbacks=[early_stopping_monitor], \n",
    "                                          verbose=False)"
   ]
  },
  {
   "cell_type": "code",
   "execution_count": 57,
   "metadata": {},
   "outputs": [],
   "source": [
    "import matplotlib.pyplot as plt"
   ]
  },
  {
   "cell_type": "code",
   "execution_count": 58,
   "metadata": {},
   "outputs": [
    {
     "data": {
      "image/png": "[encoded data removed]",
      "text/plain": [
       "<Figure size 432x288 with 1 Axes>"
      ]
     },
     "metadata": {},
     "output_type": "display_data"
    }
   ],
   "source": [
    "# Create the plot\n",
    "plt.plot(model_1_training.history['val_loss'], 'r', model_2_training.history['val_loss'], 'b')\n",
    "plt.xlabel('Epochs')\n",
    "plt.ylabel('Validation score')\n",
    "plt.show()"
   ]
  },
  {
   "cell_type": "markdown",
   "metadata": {},
   "source": [
    "## 4.4 Adding layers to a network"
   ]
  },
  {
   "cell_type": "code",
   "execution_count": 59,
   "metadata": {},
   "outputs": [],
   "source": [
    "def get_model_2layers():\n",
    "    model = Sequential()\n",
    "\n",
    "    # Add the first and second layers\n",
    "    model.add(Dense(50, activation='relu', input_shape=input_shape))\n",
    "    model.add(Dense(50, activation='relu'))\n",
    "    model.add(Dense(2, activation='softmax'))\n",
    "    model.compile(optimizer='adam', loss='categorical_crossentropy', metrics=['accuracy'])\n",
    "    return model"
   ]
  },
  {
   "cell_type": "code",
   "execution_count": 60,
   "metadata": {},
   "outputs": [],
   "source": [
    "def get_model_3layers():\n",
    "    model = Sequential()\n",
    "\n",
    "    # Add the first and second layers\n",
    "    model.add(Dense(50, activation='relu', input_shape=input_shape))\n",
    "    model.add(Dense(50, activation='relu'))\n",
    "    model.add(Dense(50, activation='relu'))\n",
    "    model.add(Dense(2, activation='softmax'))\n",
    "    model.compile(optimizer='adam', loss='categorical_crossentropy', metrics=['accuracy'])\n",
    "    return model"
   ]
  },
  {
   "cell_type": "code",
   "execution_count": 62,
   "metadata": {},
   "outputs": [],
   "source": [
    "# Fit model 1\n",
    "model_1_training = get_model_2layers().fit(predictors, target, \n",
    "                                           epochs=20, validation_split=0.4, callbacks=[early_stopping_monitor], verbose=False)"
   ]
  },
  {
   "cell_type": "code",
   "execution_count": 63,
   "metadata": {},
   "outputs": [],
   "source": [
    "# Fit model 1\n",
    "model_2_training = get_model_3layers().fit(predictors, target, \n",
    "                                           epochs=20, validation_split=0.4, callbacks=[early_stopping_monitor], verbose=False)"
   ]
  },
  {
   "cell_type": "code",
   "execution_count": 64,
   "metadata": {},
   "outputs": [
    {
     "data": {
      "image/png": "[encoded data removed]",
      "text/plain": [
       "<Figure size 432x288 with 1 Axes>"
      ]
     },
     "metadata": {},
     "output_type": "display_data"
    }
   ],
   "source": [
    "# Create the plot\n",
    "plt.plot(model_1_training.history['val_loss'], 'r', model_2_training.history['val_loss'], 'b')\n",
    "plt.xlabel('Epochs')\n",
    "plt.ylabel('Validation score')\n",
    "plt.show()"
   ]
  },
  {
   "cell_type": "code",
   "execution_count": null,
   "metadata": {},
   "outputs": [],
   "source": []
  }
 ],
 "metadata": {
  "kernelspec": {
   "display_name": "Python 3",
   "language": "python",
   "name": "python3"
  },
  "language_info": {
   "codemirror_mode": {
    "name": "ipython",
    "version": 3
   },
   "file_extension": ".py",
   "mimetype": "text/x-python",
   "name": "python",
   "nbconvert_exporter": "python",
   "pygments_lexer": "ipython3",
   "version": "3.6.4"
  }
 },
 "nbformat": 4,
 "nbformat_minor": 2
}
